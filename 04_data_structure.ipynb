{
 "cells": [
  {
   "cell_type": "code",
   "execution_count": 1,
   "id": "6c649b8e-3863-43fe-b5cd-7daa1db054a0",
   "metadata": {},
   "outputs": [
    {
     "name": "stdout",
     "output_type": "stream",
     "text": [
      "['__add__', '__class__', '__contains__', '__delattr__', '__dir__', '__doc__', '__eq__', '__format__', '__ge__', '__getattribute__', '__getitem__', '__getnewargs__', '__getstate__', '__gt__', '__hash__', '__init__', '__init_subclass__', '__iter__', '__le__', '__len__', '__lt__', '__mod__', '__mul__', '__ne__', '__new__', '__reduce__', '__reduce_ex__', '__repr__', '__rmod__', '__rmul__', '__setattr__', '__sizeof__', '__str__', '__subclasshook__', 'capitalize', 'casefold', 'center', 'count', 'encode', 'endswith', 'expandtabs', 'find', 'format', 'format_map', 'index', 'isalnum', 'isalpha', 'isascii', 'isdecimal', 'isdigit', 'isidentifier', 'islower', 'isnumeric', 'isprintable', 'isspace', 'istitle', 'isupper', 'join', 'ljust', 'lower', 'lstrip', 'maketrans', 'partition', 'removeprefix', 'removesuffix', 'replace', 'rfind', 'rindex', 'rjust', 'rpartition', 'rsplit', 'rstrip', 'split', 'splitlines', 'startswith', 'strip', 'swapcase', 'title', 'translate', 'upper', 'zfill']\n"
     ]
    }
   ],
   "source": [
    "print(dir('hello'))"
   ]
  },
  {
   "cell_type": "markdown",
   "id": "30adcc7a-38b4-464a-a613-73dd781af6f4",
   "metadata": {},
   "source": [
    "# 문자열 메소드"
   ]
  },
  {
   "cell_type": "code",
   "execution_count": 5,
   "id": "8ab341de-7653-4bbc-bdb2-aa64e9c0ffbe",
   "metadata": {},
   "outputs": [
    {
     "ename": "TypeError",
     "evalue": "'str' object does not support item assignment",
     "output_type": "error",
     "traceback": [
      "\u001b[1;31m---------------------------------------------------------------------------\u001b[0m",
      "\u001b[1;31mTypeError\u001b[0m                                 Traceback (most recent call last)",
      "Cell \u001b[1;32mIn[5], line 2\u001b[0m\n\u001b[0;32m      1\u001b[0m a \u001b[38;5;241m=\u001b[39m \u001b[38;5;124m'\u001b[39m\u001b[38;5;124mhello my name is Cho\u001b[39m\u001b[38;5;124m'\u001b[39m\n\u001b[1;32m----> 2\u001b[0m \u001b[43ma\u001b[49m\u001b[43m[\u001b[49m\u001b[38;5;241;43m0\u001b[39;49m\u001b[43m]\u001b[49m \u001b[38;5;241m=\u001b[39m \u001b[38;5;124m'\u001b[39m\u001b[38;5;124mH\u001b[39m\u001b[38;5;124m'\u001b[39m \u001b[38;5;66;03m# immutable 객체이기 때문에 수정 불가능\u001b[39;00m\n\u001b[0;32m      4\u001b[0m b \u001b[38;5;241m=\u001b[39m \u001b[38;5;124m'\u001b[39m\u001b[38;5;124mwelcome to Korea\u001b[39m\u001b[38;5;124m'\u001b[39m\n\u001b[0;32m      5\u001b[0m b[\u001b[38;5;241m11\u001b[39m:] \u001b[38;5;241m=\u001b[39m \u001b[38;5;124m'\u001b[39m\u001b[38;5;124mJapan\u001b[39m\u001b[38;5;124m'\u001b[39m \n",
      "\u001b[1;31mTypeError\u001b[0m: 'str' object does not support item assignment"
     ]
    }
   ],
   "source": [
    "a = 'hello my name is Cho'\n",
    "a[0] = 'H' # immutable 객체이기 때문에 수정 불가능\n",
    "\n",
    "b = 'welcome to Korea'\n",
    "b[11:] = 'Japan' "
   ]
  },
  {
   "cell_type": "code",
   "execution_count": 5,
   "id": "b768ffa6-1985-40cc-b037-136acfc087de",
   "metadata": {},
   "outputs": [
    {
     "name": "stdout",
     "output_type": "stream",
     "text": [
      "hello my name is Cho\n"
     ]
    }
   ],
   "source": [
    "print(a)"
   ]
  },
  {
   "cell_type": "code",
   "execution_count": 8,
   "id": "ac4c6bcf-99b5-42be-9760-ee42362fb0a9",
   "metadata": {},
   "outputs": [
    {
     "ename": "TypeError",
     "evalue": "'str' object does not support item assignment",
     "output_type": "error",
     "traceback": [
      "\u001b[1;31m---------------------------------------------------------------------------\u001b[0m",
      "\u001b[1;31mTypeError\u001b[0m                                 Traceback (most recent call last)",
      "Cell \u001b[1;32mIn[8], line 1\u001b[0m\n\u001b[1;32m----> 1\u001b[0m \u001b[43ma\u001b[49m\u001b[43m[\u001b[49m\u001b[38;5;241;43m0\u001b[39;49m\u001b[43m]\u001b[49m \u001b[38;5;241m=\u001b[39m \u001b[38;5;124m'\u001b[39m\u001b[38;5;124mH\u001b[39m\u001b[38;5;124m'\u001b[39m    \u001b[38;5;66;03m# immutable 객체이기 때문에 수정 불가능\u001b[39;00m\n",
      "\u001b[1;31mTypeError\u001b[0m: 'str' object does not support item assignment"
     ]
    }
   ],
   "source": [
    "a[0] = 'H'    # immutable 객체이기 때문에 수정 불가능"
   ]
  },
  {
   "cell_type": "code",
   "execution_count": 9,
   "id": "af45879d-e001-4c6b-a988-27e900e981e4",
   "metadata": {},
   "outputs": [
    {
     "data": {
      "text/plain": [
       "'Hello my name is cho'"
      ]
     },
     "execution_count": 9,
     "metadata": {},
     "output_type": "execute_result"
    }
   ],
   "source": [
    "a.capitalize()"
   ]
  },
  {
   "cell_type": "code",
   "execution_count": 10,
   "id": "a9218b4a-fb6b-4009-9a90-712c617dfead",
   "metadata": {},
   "outputs": [
    {
     "data": {
      "text/plain": [
       "'Hello My Name Is Cho'"
      ]
     },
     "execution_count": 10,
     "metadata": {},
     "output_type": "execute_result"
    }
   ],
   "source": [
    "a.title()    # 모든 단어의 첫글자를 대문자로 변환"
   ]
  },
  {
   "cell_type": "code",
   "execution_count": 11,
   "id": "3aae4954-8281-45b9-93a2-b0423d4d9729",
   "metadata": {},
   "outputs": [
    {
     "data": {
      "text/plain": [
       "'HELLO MY NAME IS CHO'"
      ]
     },
     "execution_count": 11,
     "metadata": {},
     "output_type": "execute_result"
    }
   ],
   "source": [
    "a.upper()    # 모든 글자를 대문자로 변환 <-> a.lower()"
   ]
  },
  {
   "cell_type": "code",
   "execution_count": 12,
   "id": "593baea4-99f3-4f1b-80c1-75454b969cb7",
   "metadata": {},
   "outputs": [
    {
     "data": {
      "text/plain": [
       "'hello my name is cho'"
      ]
     },
     "execution_count": 12,
     "metadata": {},
     "output_type": "execute_result"
    }
   ],
   "source": [
    "a.lower()"
   ]
  },
  {
   "cell_type": "code",
   "execution_count": 16,
   "id": "f1de0e73-26a5-4349-a2fb-206376811439",
   "metadata": {},
   "outputs": [
    {
     "name": "stdout",
     "output_type": "stream",
     "text": [
      "hello my name is Cho\n"
     ]
    }
   ],
   "source": [
    "# a = a.upper()\n",
    "print(a)    # 변화한 값을 a에 다시 재할당해주기"
   ]
  },
  {
   "cell_type": "code",
   "execution_count": 19,
   "id": "5d61a455-b1a2-4c28-85f5-64aede146f11",
   "metadata": {},
   "outputs": [
    {
     "data": {
      "text/plain": [
       "'my name is'"
      ]
     },
     "execution_count": 19,
     "metadata": {},
     "output_type": "execute_result"
    }
   ],
   "source": [
    "my_list = ['my','name','is']\n",
    "' '.join(my_list)"
   ]
  },
  {
   "cell_type": "code",
   "execution_count": 7,
   "id": "e245e815-345d-4ff6-babb-b6becd484aed",
   "metadata": {},
   "outputs": [
    {
     "name": "stdout",
     "output_type": "stream",
     "text": [
      "                hello    \n",
      "\n",
      "hello\n",
      "hello\n",
      "hello----\n"
     ]
    }
   ],
   "source": [
    "my_string = '                hello    \\n'\n",
    "print(my_string)\n",
    "print(my_string.strip())\n",
    "\n",
    "my_string2 = \"-----------------hello----\"\n",
    "print(my_string2.strip('-'))\n",
    "print(my_string2.lstrip('-'))"
   ]
  },
  {
   "cell_type": "code",
   "execution_count": 35,
   "id": "242b552c-110f-4f99-9dc2-d0c2574adceb",
   "metadata": {},
   "outputs": [
    {
     "data": {
      "text/plain": [
       "'w??????????????w'"
      ]
     },
     "execution_count": 35,
     "metadata": {},
     "output_type": "execute_result"
    }
   ],
   "source": [
    "a = 'woooooooooooooow'\n",
    "a.replace('o','?')"
   ]
  },
  {
   "cell_type": "code",
   "execution_count": 39,
   "id": "ddade629-09d6-4ae4-ab0c-cb1125499b45",
   "metadata": {},
   "outputs": [
    {
     "name": "stdout",
     "output_type": "stream",
     "text": [
      "0\n",
      "3\n",
      "-1\n"
     ]
    }
   ],
   "source": [
    "a = 'apple'\n",
    "print(a.find('a'))\n",
    "print(a.find('l'))\n",
    "print(a.find('k'))"
   ]
  },
  {
   "cell_type": "code",
   "execution_count": 44,
   "id": "6ebedf4a-fe86-484b-95e3-78de90c455e1",
   "metadata": {},
   "outputs": [
    {
     "name": "stdout",
     "output_type": "stream",
     "text": [
      "1\n"
     ]
    },
    {
     "ename": "ValueError",
     "evalue": "substring not found",
     "output_type": "error",
     "traceback": [
      "\u001b[1;31m---------------------------------------------------------------------------\u001b[0m",
      "\u001b[1;31mValueError\u001b[0m                                Traceback (most recent call last)",
      "Cell \u001b[1;32mIn[44], line 3\u001b[0m\n\u001b[0;32m      1\u001b[0m a \u001b[38;5;241m=\u001b[39m \u001b[38;5;124m'\u001b[39m\u001b[38;5;124mapple\u001b[39m\u001b[38;5;124m'\u001b[39m\n\u001b[0;32m      2\u001b[0m \u001b[38;5;28mprint\u001b[39m(a\u001b[38;5;241m.\u001b[39mindex(\u001b[38;5;124m'\u001b[39m\u001b[38;5;124mp\u001b[39m\u001b[38;5;124m'\u001b[39m))\n\u001b[1;32m----> 3\u001b[0m \u001b[38;5;28mprint\u001b[39m(\u001b[43ma\u001b[49m\u001b[38;5;241;43m.\u001b[39;49m\u001b[43mindex\u001b[49m\u001b[43m(\u001b[49m\u001b[38;5;124;43m'\u001b[39;49m\u001b[38;5;124;43mk\u001b[39;49m\u001b[38;5;124;43m'\u001b[39;49m\u001b[43m)\u001b[49m)    \u001b[38;5;66;03m# 데이터가 없을 경우 error 출력, find와의 차이점\u001b[39;00m\n",
      "\u001b[1;31mValueError\u001b[0m: substring not found"
     ]
    }
   ],
   "source": [
    "a = 'apple'\n",
    "print(a.index('p'))\n",
    "print(a.index('k'))    # 데이터가 없을 경우 error 출력, find와의 차이점"
   ]
  },
  {
   "cell_type": "code",
   "execution_count": 48,
   "id": "2d926011-b916-4d0e-b4de-38a58b385b71",
   "metadata": {},
   "outputs": [
    {
     "name": "stdout",
     "output_type": "stream",
     "text": [
      "['my', 'name', 'is', 'Cho']\n"
     ]
    }
   ],
   "source": [
    "a = 'my_name_is_Cho'\n",
    "print(a.split('_'))"
   ]
  },
  {
   "cell_type": "code",
   "execution_count": 52,
   "id": "49971c67-ad66-484e-9de1-a4826d10a6da",
   "metadata": {},
   "outputs": [
    {
     "name": "stdout",
     "output_type": "stream",
     "text": [
      "1\n"
     ]
    }
   ],
   "source": [
    "a = 'woooooooo'\n",
    "print(a.count('w'))"
   ]
  },
  {
   "cell_type": "markdown",
   "id": "cad78cc6-0f77-447a-9578-c097d50a1b82",
   "metadata": {},
   "source": [
    "# 리스트 메소드"
   ]
  },
  {
   "cell_type": "code",
   "execution_count": 54,
   "id": "c2ea8b8c-259c-4e56-b3ca-63ca8d07581d",
   "metadata": {},
   "outputs": [],
   "source": [
    "numbers = [1,4,3,6,8,19]"
   ]
  },
  {
   "cell_type": "code",
   "execution_count": 55,
   "id": "dba814b7-ae75-4f22-8ab7-790cc22342d3",
   "metadata": {},
   "outputs": [
    {
     "name": "stdout",
     "output_type": "stream",
     "text": [
      "[1, 4, 3, 6, 8, 19, 10]\n"
     ]
    }
   ],
   "source": [
    "numbers.append(10)\n",
    "print(numbers)"
   ]
  },
  {
   "cell_type": "code",
   "execution_count": 57,
   "id": "098f050e-4383-4b54-9971-182d29c923ab",
   "metadata": {},
   "outputs": [
    {
     "name": "stdout",
     "output_type": "stream",
     "text": [
      "[1, 4, 3, 6, 8, 19, 10, 99, 100]\n"
     ]
    }
   ],
   "source": [
    "a = [99,100]\n",
    "numbers.extend(a)\n",
    "print(numbers)    # list는 mutable하기 때문에 굳이 변수 재할당을 하지 않아도 됨. "
   ]
  },
  {
   "cell_type": "code",
   "execution_count": 62,
   "id": "87a05398-0aa7-4383-b2d5-be45cc28bfbc",
   "metadata": {},
   "outputs": [
    {
     "name": "stdout",
     "output_type": "stream",
     "text": [
      "[-10, 1, 4, -10, 10, -10, 10, 3, 6, 8, 19, 10, 99, 100]\n"
     ]
    }
   ],
   "source": [
    "numbers.insert(5,-10)\n",
    "print(numbers)"
   ]
  },
  {
   "cell_type": "code",
   "execution_count": 70,
   "id": "38632604-8ed0-4848-be3b-82ede1cfc0bb",
   "metadata": {},
   "outputs": [
    {
     "ename": "ValueError",
     "evalue": "list.remove(x): x not in list",
     "output_type": "error",
     "traceback": [
      "\u001b[1;31m---------------------------------------------------------------------------\u001b[0m",
      "\u001b[1;31mValueError\u001b[0m                                Traceback (most recent call last)",
      "Cell \u001b[1;32mIn[70], line 1\u001b[0m\n\u001b[1;32m----> 1\u001b[0m \u001b[43mnumbers\u001b[49m\u001b[38;5;241;43m.\u001b[39;49m\u001b[43mremove\u001b[49m\u001b[43m(\u001b[49m\u001b[38;5;241;43m10\u001b[39;49m\u001b[43m)\u001b[49m    \u001b[38;5;66;03m# x를 찾아서 제거 but 없을 경우 에러 발생\u001b[39;00m\n\u001b[0;32m      2\u001b[0m \u001b[38;5;28mprint\u001b[39m(numbers)\n",
      "\u001b[1;31mValueError\u001b[0m: list.remove(x): x not in list"
     ]
    }
   ],
   "source": [
    "numbers.remove(10)    # x를 찾아서 제거 but 없을 경우 에러 발생\n",
    "print(numbers)"
   ]
  },
  {
   "cell_type": "code",
   "execution_count": 72,
   "id": "691994c4-0333-4bb3-a062-fc3a02410eae",
   "metadata": {},
   "outputs": [
    {
     "name": "stdout",
     "output_type": "stream",
     "text": [
      "[1, 4, 3, 6, 8, 19]\n",
      "[4, 3, 6, 8, 19] 1\n"
     ]
    }
   ],
   "source": [
    "numbers.pop()    # stack의 pop이라고 생각! 가장 나중값을 빼낸다. \n",
    "print(numbers)\n",
    "\n",
    "result = numbers.pop(0)    # queue의 pop이라고 생각, pop의 경우 뽑아온 변수를 return하는 기능!\n",
    "print(numbers, result)"
   ]
  },
  {
   "cell_type": "code",
   "execution_count": 74,
   "id": "7eb38d0b-c48d-4253-90aa-5b9da1c40380",
   "metadata": {},
   "outputs": [
    {
     "name": "stdout",
     "output_type": "stream",
     "text": [
      "[3, 4, 6, 8, 19]\n",
      "[19, 8, 6, 4, 3]\n"
     ]
    }
   ],
   "source": [
    "numbers.sort()\n",
    "print(numbers)\n",
    "\n",
    "numbers.sort(reverse=True)\n",
    "print(numbers)"
   ]
  },
  {
   "cell_type": "code",
   "execution_count": 82,
   "id": "d49a9d9a-4749-4906-b7de-7fb2b4bd0f7e",
   "metadata": {},
   "outputs": [
    {
     "name": "stdout",
     "output_type": "stream",
     "text": [
      "[1, 2, 3, 5, 6, 9]\n",
      "['a', 'b', 'd', 'f', 's', 'z']\n"
     ]
    },
    {
     "ename": "TypeError",
     "evalue": "'<' not supported between instances of 'int' and 'str'",
     "output_type": "error",
     "traceback": [
      "\u001b[1;31m---------------------------------------------------------------------------\u001b[0m",
      "\u001b[1;31mTypeError\u001b[0m                                 Traceback (most recent call last)",
      "Cell \u001b[1;32mIn[82], line 10\u001b[0m\n\u001b[0;32m      7\u001b[0m \u001b[38;5;28mprint\u001b[39m(numbers3)\n\u001b[0;32m      9\u001b[0m numbers4 \u001b[38;5;241m=\u001b[39m [\u001b[38;5;124m'\u001b[39m\u001b[38;5;124m1\u001b[39m\u001b[38;5;124m'\u001b[39m,\u001b[38;5;124m'\u001b[39m\u001b[38;5;124mb\u001b[39m\u001b[38;5;124m'\u001b[39m,\u001b[38;5;124m'\u001b[39m\u001b[38;5;124ma\u001b[39m\u001b[38;5;124m'\u001b[39m,\u001b[38;5;241m2\u001b[39m,\u001b[38;5;241m4\u001b[39m,\u001b[38;5;124m'\u001b[39m\u001b[38;5;124mg\u001b[39m\u001b[38;5;124m'\u001b[39m]\n\u001b[1;32m---> 10\u001b[0m \u001b[43mnumbers4\u001b[49m\u001b[38;5;241;43m.\u001b[39;49m\u001b[43msort\u001b[49m\u001b[43m(\u001b[49m\u001b[43m)\u001b[49m\n\u001b[0;32m     11\u001b[0m \u001b[38;5;28mprint\u001b[39m(numbers4)\n",
      "\u001b[1;31mTypeError\u001b[0m: '<' not supported between instances of 'int' and 'str'"
     ]
    }
   ],
   "source": [
    "numbers2 = [3,6,1,2,5,9]\n",
    "numbers2 = sorted(numbers2)    # sorted는 결과값만 리턴되기 때문에 변수 재할당을 해줘야 함. \n",
    "print(numbers2)\n",
    "\n",
    "numbers3 = ['b','s', 'd', 'f','z','a']\n",
    "numbers3.sort()\n",
    "print(numbers3)\n",
    "\n",
    "numbers4 = ['1','b','a',2,4,'g']    # 섞어서는 정렬 못하넹;;\n",
    "numbers4.sort()\n",
    "print(numbers4)"
   ]
  },
  {
   "cell_type": "code",
   "execution_count": 85,
   "id": "1175fa61-f266-43e5-a24c-f78f4ad2cc18",
   "metadata": {},
   "outputs": [
    {
     "name": "stdout",
     "output_type": "stream",
     "text": [
      "[11, 7, 6, 5, 4, 2, 1]\n",
      "[1, 2, 4, 5, 6, 7, 11]\n"
     ]
    }
   ],
   "source": [
    "numbers = [1,5,2,7,4,6,11]\n",
    "numbers.sort(reverse = True)\n",
    "print(numbers)\n",
    "numbers.reverse()\n",
    "print(numbers)"
   ]
  },
  {
   "cell_type": "code",
   "execution_count": 89,
   "id": "235bbed2-89ae-4fd0-a00d-3a72d0826a65",
   "metadata": {},
   "outputs": [
    {
     "name": "stdout",
     "output_type": "stream",
     "text": [
      "[1, 2, 4, 5, 6, 7, 11]\n",
      "1\n",
      "[2, 4]\n",
      "11\n",
      "11\n",
      "[11, 7, 6, 5, 4, 2, 1]\n"
     ]
    }
   ],
   "source": [
    "print(numbers)\n",
    "print(numbers[0])\n",
    "print(numbers[1:3])\n",
    "print(numbers[6])    # 가장 뒷글자\n",
    "print(numbers[-1])   # 가장 뒷글자\n",
    "print(numbers[::-1]) # 뒤에서부터 출력, reverse와 동일"
   ]
  },
  {
   "cell_type": "markdown",
   "id": "336bc345-1ed2-47cd-a089-2a2fe6159f97",
   "metadata": {},
   "source": [
    "## list"
   ]
  },
  {
   "cell_type": "code",
   "execution_count": 92,
   "id": "e6abcf93-6dda-4b80-85ff-e30589dd7a51",
   "metadata": {},
   "outputs": [
    {
     "name": "stdout",
     "output_type": "stream",
     "text": [
      "[1, 2, 3, 4, 5]\n"
     ]
    }
   ],
   "source": [
    "origin_list = [1,2,3,4,5]\n",
    "copy_list = list.copy(origin_list)    # 두 리스트 객체의 주소값이 같음! \n",
    "# copy_list = origin_list\n",
    "print(copy_list)"
   ]
  },
  {
   "cell_type": "code",
   "execution_count": 93,
   "id": "c008f544-61fe-4493-b50d-d24399a98eb4",
   "metadata": {},
   "outputs": [
    {
     "name": "stdout",
     "output_type": "stream",
     "text": [
      "[1, 2, 3, 4, 5]\n",
      "[1, 2, 3, 4, 5]\n"
     ]
    }
   ],
   "source": [
    "print(origin_list)\n",
    "print(copy_list)"
   ]
  },
  {
   "cell_type": "code",
   "execution_count": 95,
   "id": "88d44766-5734-4de0-a1b9-8076a8dd111f",
   "metadata": {},
   "outputs": [
    {
     "name": "stdout",
     "output_type": "stream",
     "text": [
      "[100, 2, 3, 4, 5]\n",
      "[1, 2, 3, 4, 5]\n"
     ]
    }
   ],
   "source": [
    "origin_list[0] = 100\n",
    "print(origin_list)\n",
    "print(copy_list)"
   ]
  },
  {
   "cell_type": "code",
   "execution_count": 103,
   "id": "dec93373-9e51-4c0b-b94a-05de46db7bae",
   "metadata": {},
   "outputs": [
    {
     "name": "stdout",
     "output_type": "stream",
     "text": [
      "[100, 2, 3]\n",
      "[1, 2, 3]\n"
     ]
    }
   ],
   "source": [
    "# 주소값을 다르게 설정해 복사하는 방법\n",
    "origin_list = [1,2,3]\n",
    "copy_list = origin_list[:]\n",
    "\n",
    "origin_list[0] = 100\n",
    "\n",
    "print(origin_list)\n",
    "print(copy_list)\n"
   ]
  },
  {
   "cell_type": "code",
   "execution_count": 104,
   "id": "65ed9a44-2327-47b9-9ded-fee68a69e59b",
   "metadata": {},
   "outputs": [
    {
     "name": "stdout",
     "output_type": "stream",
     "text": [
      "[100, 2, 3, [4, 7], 6]\n",
      "[1, 2, 3]\n"
     ]
    }
   ],
   "source": [
    "origin_list = [1, 2, 3, [4, 5], 6]\n",
    "origin_list[0] = 100\n",
    "origin_list[3][1] = 7\n",
    "print(origin_list)\n",
    "print(copy_list)"
   ]
  },
  {
   "cell_type": "code",
   "execution_count": 106,
   "id": "96f6b4d9-ad2b-4bfa-bfe0-822b89ba4d20",
   "metadata": {},
   "outputs": [
    {
     "name": "stdout",
     "output_type": "stream",
     "text": [
      "[100, 2, [300, 4]]\n",
      "[1, 2, [3, 4]]\n"
     ]
    }
   ],
   "source": [
    "import copy\n",
    "origin_list = [1, 2, [3, 4]]\n",
    "copy_list = copy.deepcopy(origin_list)\n",
    "\n",
    "origin_list[0] = 100\n",
    "origin_list[2][0] = 300\n",
    "\n",
    "print(origin_list)\n",
    "print(copy_list)"
   ]
  },
  {
   "cell_type": "markdown",
   "id": "adacc37c-db00-426b-9cda-b96ed87c0784",
   "metadata": {},
   "source": [
    "## list comprehension"
   ]
  },
  {
   "cell_type": "code",
   "execution_count": 110,
   "id": "a09a6c18-f15f-4f28-9308-d95e3c32b735",
   "metadata": {},
   "outputs": [
    {
     "name": "stdout",
     "output_type": "stream",
     "text": [
      "[1, 2, 3, 4, 5, 6, 7, 8, 9, 10]\n"
     ]
    }
   ],
   "source": [
    "numbers = list(range(1,11))\n",
    "print(numbers)"
   ]
  },
  {
   "cell_type": "code",
   "execution_count": 112,
   "id": "b306d0bf-599a-4c30-b3a9-56eff8fc3511",
   "metadata": {},
   "outputs": [
    {
     "name": "stdout",
     "output_type": "stream",
     "text": [
      "[1, 8, 27, 64, 125, 216, 343, 512, 729, 1000]\n"
     ]
    }
   ],
   "source": [
    "# => [1, 8, 27, .... 1000]\n",
    "\n",
    "new_numbers = []\n",
    "for number in numbers:\n",
    "    new_numbers.append(number**3)\n",
    "\n",
    "print(new_numbers)"
   ]
  },
  {
   "cell_type": "code",
   "execution_count": 113,
   "id": "a5bf93dc-57a3-4211-9894-efdf690f2827",
   "metadata": {},
   "outputs": [
    {
     "name": "stdout",
     "output_type": "stream",
     "text": [
      "[1, 8, 27, 64, 125, 216, 343, 512, 729, 1000]\n"
     ]
    }
   ],
   "source": [
    "new_numbers = [number ** 3 for number in numbers]\n",
    "print(new_numbers)"
   ]
  },
  {
   "cell_type": "code",
   "execution_count": 114,
   "id": "d9579b8f-8cdf-4127-97af-706ff0544b56",
   "metadata": {},
   "outputs": [
    {
     "name": "stdout",
     "output_type": "stream",
     "text": [
      "[2, 4, 6, 8, 10]\n"
     ]
    }
   ],
   "source": [
    "# 짝수만 고르기\n",
    "result = []\n",
    "for number in numbers:\n",
    "    if number % 2:\n",
    "        continue\n",
    "    else:\n",
    "        result.append(number)\n",
    "\n",
    "print(result)"
   ]
  },
  {
   "cell_type": "code",
   "execution_count": 116,
   "id": "01a63867-4af8-4b0b-adbe-e244d5ec1342",
   "metadata": {},
   "outputs": [
    {
     "name": "stdout",
     "output_type": "stream",
     "text": [
      "[2, 4, 6, 8, 10]\n"
     ]
    }
   ],
   "source": [
    "result = [number for number in numbers if number%2 == 0]\n",
    "print(result)"
   ]
  },
  {
   "cell_type": "code",
   "execution_count": 148,
   "id": "36a8516a-b8cd-4eb5-8a4a-486bcd194697",
   "metadata": {},
   "outputs": [
    {
     "name": "stdout",
     "output_type": "stream",
     "text": [
      "my nm s hng\n",
      "---------------------\n",
      "['m', 'y', ' ', 'n', 'm', ' ', 's', ' ', 'h', 'n', 'g']\n"
     ]
    }
   ],
   "source": [
    "# 연습연습~\n",
    "words = 'my name is hong'\n",
    "\n",
    "# 모음을 제거\n",
    "# 우선 문자열이 mutable객체가 아님. \n",
    "\n",
    "for i in words:\n",
    "    if i not in ['a','e','i','o','u']:\n",
    "        print(i,end='')\n",
    "\n",
    "# result = [words.remove(i) for i in words if i in ['a','e','i','o','u']]\n",
    "# print(result)\n",
    "print('\\n---------------------')\n",
    "\n",
    "result = [text for text in words if text not in ['a','e','i','o','u']]\n",
    "print(result)       \n",
    "\n",
    "# str 객체라서 remove를 쓸 수 없다면서 왜 결과는 리스트 형태로 출력되는거임...?"
   ]
  },
  {
   "cell_type": "code",
   "execution_count": 160,
   "id": "ef5dae44-6089-4c18-b29b-35830565c1e3",
   "metadata": {},
   "outputs": [
    {
     "name": "stdout",
     "output_type": "stream",
     "text": [
      "['m', 'y', ' ', 'n', 'm', ' ', 's', ' ', 'h', 'n', 'g']\n",
      "my nm s hng\n",
      "my nm s hng\n",
      "my nm s hng\n"
     ]
    }
   ],
   "source": [
    "# 정답\n",
    "words = 'my name is hong'\n",
    "#=> ny nm s hng\n",
    "\n",
    "# 1. for/if\n",
    "# vowels = ['a','e','i','o','u']\n",
    "vowels = 'aeiou'\n",
    "result = []\n",
    "\n",
    "for char in words:\n",
    "    if char not in vowels:\n",
    "        result.append(char)\n",
    "        \n",
    "print(result)\n",
    "print(''.join(result))\n",
    "\n",
    "# 2. list comprehension\n",
    "vowels = 'aeiou'\n",
    "result = [char for char in words if char not in vowels]\n",
    "print(''.join(result))     # .join(iterable)\n",
    "\n",
    "# 3. list method\n",
    "vowels = 'aeiou'\n",
    "for char in vowels:\n",
    "    if char in words:\n",
    "        words = words.replace(char,'')    # 문자열은 mutalbe하기 때문에 변수에 재할당해줘야 함. \n",
    "\n",
    "print(words)"
   ]
  },
  {
   "cell_type": "markdown",
   "id": "3a56f9da-e1d1-4b4a-a9c0-5a220ad03f03",
   "metadata": {},
   "source": [
    "# Dictionary 메소드"
   ]
  },
  {
   "cell_type": "code",
   "execution_count": 175,
   "id": "ddb45e2a-15dc-4ce2-b08c-7a84c2bc35fb",
   "metadata": {},
   "outputs": [
    {
     "name": "stdout",
     "output_type": "stream",
     "text": [
      "{'name': '조은슈', 'location': 'seoul', 'age': '23', 'models': ['iphon', 'macBook', 'applewatch'], 'job': {'domain': 'media', 'duty': 'data analysis'}}\n"
     ]
    }
   ],
   "source": [
    "info = {\n",
    "    'name' : '조은슈',\n",
    "    'location': 'seoul',\n",
    "    'age' : '23',\n",
    "    'models' : ['iphon','macBook','applewatch'],\n",
    "    'job'  : {\n",
    "        'domain' : 'media',\n",
    "        'duty' : 'data analysis'\n",
    "    }\n",
    "}\n",
    "\n",
    "print(info)"
   ]
  },
  {
   "cell_type": "code",
   "execution_count": 165,
   "id": "5615872e-4927-47e9-92af-bbb0a0d25382",
   "metadata": {},
   "outputs": [
    {
     "name": "stdout",
     "output_type": "stream",
     "text": [
      "조은슈\n",
      "23\n",
      "iphon\n",
      "media\n"
     ]
    }
   ],
   "source": [
    "print(info['name'])\n",
    "print(info['age'])\n",
    "print(info['models'][0])\n",
    "print(info['job']['domain'])"
   ]
  },
  {
   "cell_type": "code",
   "execution_count": 173,
   "id": "706e8c31-3dac-4637-b95c-2e9027e54763",
   "metadata": {},
   "outputs": [
    {
     "name": "stdout",
     "output_type": "stream",
     "text": [
      "{'name': '세지니', 'location': 'seoul', 'models': ['iphon', 'macBook', 'applewatch'], 'job': {'domain': 'media', 'duty': 'data analysis'}}\n"
     ]
    }
   ],
   "source": [
    "info['name'] = '정세즨'\n",
    "info.update(name='세지니')\n",
    "print(info)"
   ]
  },
  {
   "cell_type": "code",
   "execution_count": 176,
   "id": "2915dc1f-c14c-4780-8f90-b9f8311338a8",
   "metadata": {},
   "outputs": [
    {
     "name": "stdout",
     "output_type": "stream",
     "text": [
      "{'name': '조은슈', 'location': 'seoul', 'models': ['iphon', 'macBook', 'applewatch'], 'job': {'domain': 'media', 'duty': 'data analysis'}} 23\n"
     ]
    }
   ],
   "source": [
    "age = info.pop('age')\n",
    "print(info,age)"
   ]
  },
  {
   "cell_type": "code",
   "execution_count": 180,
   "id": "c7418810-f43c-452f-aeaa-c5beb1ddb306",
   "metadata": {},
   "outputs": [
    {
     "name": "stdout",
     "output_type": "stream",
     "text": [
      "조은슈\n"
     ]
    }
   ],
   "source": [
    "info.get('name')\n",
    "print(info['name'])"
   ]
  },
  {
   "cell_type": "code",
   "execution_count": 183,
   "id": "d8cdb439-a82f-4174-8a0f-b4c3eea0e43c",
   "metadata": {},
   "outputs": [
    {
     "name": "stdout",
     "output_type": "stream",
     "text": [
      "None\n"
     ]
    }
   ],
   "source": [
    "# print(info['birth'])    # 에러발생\n",
    "print(info.get('birth'))  # None 출력"
   ]
  },
  {
   "cell_type": "code",
   "execution_count": 188,
   "id": "9e4abd6a-ea15-4bf7-be57-2dcb4bc6e393",
   "metadata": {},
   "outputs": [
    {
     "name": "stdout",
     "output_type": "stream",
     "text": [
      "{'A': 2, 'B': 2, 'O': 1, 'AB': 1}\n"
     ]
    }
   ],
   "source": [
    "# 연습문제\n",
    "blood_type = ['A','B','B','O','AB','A']\n",
    "\n",
    "# => blood_dict\n",
    "\n",
    "blood_dict= {\n",
    "    'A' : 0,\n",
    "    'B' : 0,\n",
    "    'O' : 0,\n",
    "    'AB' : 0\n",
    "}\n",
    "\n",
    "for key in blood_type:\n",
    "    blood_dict[key]+=1\n",
    "\n",
    "print(blood_dict)"
   ]
  },
  {
   "cell_type": "code",
   "execution_count": 202,
   "id": "fbd7bf19-addf-468a-bcdc-daf1b20393e7",
   "metadata": {},
   "outputs": [
    {
     "name": "stdout",
     "output_type": "stream",
     "text": [
      "{'서울': 2, '충주': 1, '대전': 1, '대구': 1, '보스턴': 1, '오키나와': 1, 'LA': 1}\n",
      "{'서울': 2, '충주': 1, '대전': 1, '대구': 1, '보스턴': 1, '오키나와': 1, 'LA': 1}\n"
     ]
    }
   ],
   "source": [
    "locations = ['서울','충주','대전','대구','보스턴','오키나와','LA','서울']\n",
    "\n",
    "result = {}\n",
    "\n",
    "for loc in locations:\n",
    "    # dict에 key,count값 생성\n",
    "    result.update({ loc : locations.count(loc) })\n",
    "print(result)\n",
    "\n",
    "result = {}\n",
    "for location in locations:\n",
    "    # result의 key에 location이 있으면\n",
    "    if result.get(location):\n",
    "        result[location] += 1\n",
    "\n",
    "    # result의 key에 location이 없으면\n",
    "    else:\n",
    "        result[location] = 1\n",
    "\n",
    "print(result) "
   ]
  },
  {
   "cell_type": "markdown",
   "id": "f2ed6286-f2b7-4ba3-8149-1fa28a57a374",
   "metadata": {},
   "source": [
    "## Dictionary Comprehension"
   ]
  },
  {
   "cell_type": "code",
   "execution_count": 205,
   "id": "4584fbfc-75d9-4c6e-ba1e-326fdea4a9f3",
   "metadata": {},
   "outputs": [
    {
     "name": "stdout",
     "output_type": "stream",
     "text": [
      "{1: 1, 2: 8, 3: 27, 4: 64, 5: 125, 6: 216, 7: 343, 8: 512, 9: 729, 10: 1000}\n"
     ]
    }
   ],
   "source": [
    "# {1: 1, 2:8, 3:27, ... 10:1000}\n",
    "\n",
    "result = {}\n",
    "numbers = list(range(1,11))\n",
    "\n",
    "for number in numbers:\n",
    "    result[number] = number ** 3\n",
    "    \n",
    "print(result)"
   ]
  },
  {
   "cell_type": "code",
   "execution_count": 206,
   "id": "ee465889-3343-4171-b475-e619ac9a3528",
   "metadata": {},
   "outputs": [
    {
     "name": "stdout",
     "output_type": "stream",
     "text": [
      "{1: 1, 2: 8, 3: 27, 4: 64, 5: 125, 6: 216, 7: 343, 8: 512, 9: 729, 10: 1000}\n"
     ]
    }
   ],
   "source": [
    "result = {number:number **3 for number in numbers }\n",
    "print(result)"
   ]
  },
  {
   "cell_type": "code",
   "execution_count": 211,
   "id": "29fa96b7-8dc5-414f-b8bc-faa8ea71e296",
   "metadata": {},
   "outputs": [
    {
     "name": "stdout",
     "output_type": "stream",
     "text": [
      "{'인천': 100, '대전': 130, '광주': 84}\n",
      "{'인천': '나쁨', '대전': '나쁨', '광주': '나쁨'}\n"
     ]
    }
   ],
   "source": [
    "dust = {\n",
    "    '서울': 50,\n",
    "    '인천': 100,\n",
    "    '대전': 130,\n",
    "    '대구': 10,\n",
    "    '부산' : 70,\n",
    "    '광주' : 84,\n",
    "}\n",
    "\n",
    "# result = {'대전': 100, '광주': 90}\n",
    "result = {}\n",
    "for key,value in dust.items():\n",
    "    if value > 75:\n",
    "        result[key] = value\n",
    "print(result)\n",
    "\n",
    "result = {key:'나쁨' for key,value in dust.items() if value>75}\n",
    "print(result)"
   ]
  },
  {
   "cell_type": "markdown",
   "id": "97465411-db39-420b-9168-4d894337d944",
   "metadata": {},
   "source": [
    "# 세트 메소드"
   ]
  },
  {
   "cell_type": "code",
   "execution_count": 232,
   "id": "8f5452c2-dd11-4b81-a5ba-4ab99af4590c",
   "metadata": {},
   "outputs": [],
   "source": [
    "fruits = {'apple','banana','melon'}"
   ]
  },
  {
   "cell_type": "code",
   "execution_count": 233,
   "id": "f86f9e18-2602-4442-9875-4e4cadea2f48",
   "metadata": {},
   "outputs": [
    {
     "name": "stdout",
     "output_type": "stream",
     "text": [
      "{'banana', 'apple', 'melon'}\n"
     ]
    }
   ],
   "source": [
    "print(fruits)"
   ]
  },
  {
   "cell_type": "code",
   "execution_count": 234,
   "id": "12e30664-b340-4a14-90da-e2eb0832ebef",
   "metadata": {},
   "outputs": [
    {
     "name": "stdout",
     "output_type": "stream",
     "text": [
      "{'banana', 'apple', 'melon', 'watermelon'}\n"
     ]
    }
   ],
   "source": [
    "fruits.add('watermelon')\n",
    "print(fruits)"
   ]
  },
  {
   "cell_type": "code",
   "execution_count": 236,
   "id": "092c6a54-1582-4311-86d3-d8f46be50c03",
   "metadata": {},
   "outputs": [
    {
     "name": "stdout",
     "output_type": "stream",
     "text": [
      "{'melon', 'watermelon', 'grape', 'banana', 'apple', 'orange'}\n"
     ]
    }
   ],
   "source": [
    "# list의 extend와 비슷한 역하 , 수정보다는 추가의 의미\n",
    "fruits.update({'grape','orange'})\n",
    "print(fruits)"
   ]
  },
  {
   "cell_type": "code",
   "execution_count": 243,
   "id": "832253b5-60ba-4f3f-93b8-d69309df8f44",
   "metadata": {},
   "outputs": [
    {
     "ename": "KeyError",
     "evalue": "{'banana', 'watermelon'}",
     "output_type": "error",
     "traceback": [
      "\u001b[1;31m---------------------------------------------------------------------------\u001b[0m",
      "\u001b[1;31mKeyError\u001b[0m                                  Traceback (most recent call last)",
      "Cell \u001b[1;32mIn[243], line 1\u001b[0m\n\u001b[1;32m----> 1\u001b[0m \u001b[43mfruits\u001b[49m\u001b[38;5;241;43m.\u001b[39;49m\u001b[43mremove\u001b[49m\u001b[43m(\u001b[49m\u001b[43m{\u001b[49m\u001b[38;5;124;43m'\u001b[39;49m\u001b[38;5;124;43mwatermelon\u001b[39;49m\u001b[38;5;124;43m'\u001b[39;49m\u001b[43m,\u001b[49m\u001b[38;5;124;43m'\u001b[39;49m\u001b[38;5;124;43mbanana\u001b[39;49m\u001b[38;5;124;43m'\u001b[39;49m\u001b[43m}\u001b[49m\u001b[43m)\u001b[49m\n\u001b[0;32m      2\u001b[0m \u001b[38;5;28mprint\u001b[39m(fruits)\n",
      "\u001b[1;31mKeyError\u001b[0m: {'banana', 'watermelon'}"
     ]
    }
   ],
   "source": [
    "fruits.remove({'watermelon','banana'})    # 두개 이상의 데이터는 삭제 불가, 단일 삭제만 가능\n",
    "print(fruits)"
   ]
  },
  {
   "cell_type": "markdown",
   "id": "136d76e8-a182-465f-b15e-dcb74b9b376d",
   "metadata": {},
   "source": [
    "# map, filter, zip\n",
    "\n",
    "### map\n",
    "- map(function, iterable)"
   ]
  },
  {
   "cell_type": "code",
   "execution_count": 246,
   "id": "2d90e584-6162-4823-ab37-6cd24c86acc8",
   "metadata": {},
   "outputs": [
    {
     "name": "stdout",
     "output_type": "stream",
     "text": [
      "['1', '2', '3', '4', '5']\n"
     ]
    }
   ],
   "source": [
    "numbers = [1, 2, 3, 4, 5]\n",
    "# => ['1', '2', '3', '4', '5']\n",
    "\n",
    "result = []\n",
    "for number in numbers:\n",
    "    result.append(str(number))\n",
    "\n",
    "print(result)"
   ]
  },
  {
   "cell_type": "code",
   "execution_count": 249,
   "id": "c6284651-325c-413d-92b2-300a3daccec2",
   "metadata": {},
   "outputs": [
    {
     "name": "stdout",
     "output_type": "stream",
     "text": [
      "<map object at 0x00000160041F4A30>\n",
      "['1', '2', '3', '4', '5']\n"
     ]
    }
   ],
   "source": [
    "result = map(str,numbers)\n",
    "print(result)         # 메모리 주소 출력 \n",
    "print(list(result))   # 원하던 list 객체 출력"
   ]
  },
  {
   "cell_type": "code",
   "execution_count": 250,
   "id": "fd97f72d-0eef-4799-97e0-c30090ff51a4",
   "metadata": {},
   "outputs": [
    {
     "name": "stdout",
     "output_type": "stream",
     "text": [
      "[1, 8, 27, 64, 125]\n"
     ]
    }
   ],
   "source": [
    "result = []\n",
    "for number in numbers:\n",
    "    result.append(number**3)\n",
    "print(result)"
   ]
  },
  {
   "cell_type": "code",
   "execution_count": 254,
   "id": "6c295c84-4790-46df-9b61-b76e7da48583",
   "metadata": {},
   "outputs": [
    {
     "name": "stdout",
     "output_type": "stream",
     "text": [
      "[1, 8, 27, 64, 125]\n"
     ]
    }
   ],
   "source": [
    "def cube(i):\n",
    "    return i ** 3\n",
    "    \n",
    "\n",
    "result = map(cube, numbers)\n",
    "print(list(result))"
   ]
  },
  {
   "cell_type": "code",
   "execution_count": 257,
   "id": "8191b67c-8a3e-4a60-bfd8-2ec76ffd8626",
   "metadata": {},
   "outputs": [
    {
     "name": "stdout",
     "output_type": "stream",
     "text": [
      "[1, 3, 5, 7, 9]\n"
     ]
    }
   ],
   "source": [
    "test_input = '1 3 5 7 9'\n",
    "result = []\n",
    "\n",
    "print(list(map(int, test_input.split())))"
   ]
  },
  {
   "cell_type": "markdown",
   "id": "f2f8823b-1fda-496d-bf2f-003c7d47442c",
   "metadata": {},
   "source": [
    "### filter\n",
    "- filter(function, iterable)"
   ]
  },
  {
   "cell_type": "code",
   "execution_count": 258,
   "id": "59e0034a-8f9b-44b7-8d1e-d31382249cbc",
   "metadata": {},
   "outputs": [],
   "source": [
    "def is_odd(x):\n",
    "    return x % 2"
   ]
  },
  {
   "cell_type": "code",
   "execution_count": 263,
   "id": "a1ff1abf-9d5f-4394-9fa7-295661d9ec4d",
   "metadata": {},
   "outputs": [
    {
     "name": "stdout",
     "output_type": "stream",
     "text": [
      "[1, 3, 5]\n",
      "[1, 3, 5]\n"
     ]
    }
   ],
   "source": [
    "numbers = [1, 2, 3, 4, 5]\n",
    "result = []\n",
    "for number in numbers:\n",
    "    if number % 2:\n",
    "        result.append(number)\n",
    "print(result)\n",
    "\n",
    "print(list(filter(is_odd, numbers)))"
   ]
  },
  {
   "cell_type": "markdown",
   "id": "5c292a41-5381-4872-8546-2ab9228aaef2",
   "metadata": {},
   "source": [
    "## zip"
   ]
  },
  {
   "cell_type": "code",
   "execution_count": 264,
   "id": "4fa87247-3172-4969-9173-fb68da4f22d2",
   "metadata": {},
   "outputs": [
    {
     "name": "stdout",
     "output_type": "stream",
     "text": [
      "[(1, 100), (2, 200), (3, 300)]\n"
     ]
    }
   ],
   "source": [
    "a = [1, 2, 3]\n",
    "b = [100, 200, 300, 400, 500]\n",
    "\n",
    "result = zip(a,b)\n",
    "print(list(result))    # 길이가 다를 때 앞에서 쌍이 맞는 친구들만 그룹핑"
   ]
  },
  {
   "cell_type": "code",
   "execution_count": null,
   "id": "a393d29f-70c3-4f76-b4b6-886984fd4a57",
   "metadata": {},
   "outputs": [],
   "source": []
  }
 ],
 "metadata": {
  "kernelspec": {
   "display_name": "Python 3 (ipykernel)",
   "language": "python",
   "name": "python3"
  },
  "language_info": {
   "codemirror_mode": {
    "name": "ipython",
    "version": 3
   },
   "file_extension": ".py",
   "mimetype": "text/x-python",
   "name": "python",
   "nbconvert_exporter": "python",
   "pygments_lexer": "ipython3",
   "version": "3.12.4"
  }
 },
 "nbformat": 4,
 "nbformat_minor": 5
}
