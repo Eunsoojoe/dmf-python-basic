{
 "cells": [
  {
   "cell_type": "markdown",
   "id": "47d5f946-ab5e-43c9-a162-9614eeaa4e86",
   "metadata": {},
   "source": [
    "## Syntax Error"
   ]
  },
  {
   "cell_type": "code",
   "execution_count": 3,
   "id": "d914a7ae-54cc-4feb-b07a-aafe0e101f0b",
   "metadata": {},
   "outputs": [
    {
     "ename": "SyntaxError",
     "evalue": "expected ':' (1377500327.py, line 3)",
     "output_type": "error",
     "traceback": [
      "\u001b[1;36m  Cell \u001b[1;32mIn[3], line 3\u001b[1;36m\u001b[0m\n\u001b[1;33m    else\u001b[0m\n\u001b[1;37m        ^\u001b[0m\n\u001b[1;31mSyntaxError\u001b[0m\u001b[1;31m:\u001b[0m expected ':'\n"
     ]
    }
   ],
   "source": [
    "if True:\n",
    "    pass \n",
    "else"
   ]
  },
  {
   "cell_type": "code",
   "execution_count": 5,
   "id": "77165a57-a93c-472f-acd0-2991e4443786",
   "metadata": {},
   "outputs": [
    {
     "ename": "SyntaxError",
     "evalue": "invalid syntax (3767511997.py, line 1)",
     "output_type": "error",
     "traceback": [
      "\u001b[1;36m  Cell \u001b[1;32mIn[5], line 1\u001b[1;36m\u001b[0m\n\u001b[1;33m    if True print('hi')\u001b[0m\n\u001b[1;37m            ^\u001b[0m\n\u001b[1;31mSyntaxError\u001b[0m\u001b[1;31m:\u001b[0m invalid syntax\n"
     ]
    }
   ],
   "source": [
    "if True print('hi')"
   ]
  },
  {
   "cell_type": "markdown",
   "id": "7d61b41a-8c66-4c23-8118-38cce3b36752",
   "metadata": {},
   "source": [
    "## Exception"
   ]
  },
  {
   "cell_type": "code",
   "execution_count": 7,
   "id": "b84c109a-4cba-4797-b52c-862714c9e7ae",
   "metadata": {},
   "outputs": [
    {
     "ename": "ZeroDivisionError",
     "evalue": "division by zero",
     "output_type": "error",
     "traceback": [
      "\u001b[1;31m-------------------------------------------------------------------------\u001b[0m",
      "\u001b[1;31mZeroDivisionError\u001b[0m                       Traceback (most recent call last)",
      "Cell \u001b[1;32mIn[7], line 1\u001b[0m\n\u001b[1;32m----> 1\u001b[0m \u001b[38;5;28mprint\u001b[39m(\u001b[38;5;241;43m5\u001b[39;49m\u001b[38;5;241;43m/\u001b[39;49m\u001b[38;5;241;43m0\u001b[39;49m)\n",
      "\u001b[1;31mZeroDivisionError\u001b[0m: division by zero"
     ]
    }
   ],
   "source": [
    "print(5/0)"
   ]
  },
  {
   "cell_type": "code",
   "execution_count": 8,
   "id": "8d19e050-e8e7-416d-9a62-d30d9d6a5a7a",
   "metadata": {},
   "outputs": [
    {
     "ename": "NameError",
     "evalue": "name 'hello' is not defined",
     "output_type": "error",
     "traceback": [
      "\u001b[1;31m-------------------------------------------------------------------------\u001b[0m",
      "\u001b[1;31mNameError\u001b[0m                               Traceback (most recent call last)",
      "Cell \u001b[1;32mIn[8], line 1\u001b[0m\n\u001b[1;32m----> 1\u001b[0m \u001b[38;5;28mprint\u001b[39m(\u001b[43mhello\u001b[49m)\n",
      "\u001b[1;31mNameError\u001b[0m: name 'hello' is not defined"
     ]
    }
   ],
   "source": [
    "print(hello)"
   ]
  },
  {
   "cell_type": "code",
   "execution_count": 10,
   "id": "92307463-d920-4275-a0fc-7b8b34405945",
   "metadata": {},
   "outputs": [
    {
     "ename": "TypeError",
     "evalue": "unsupported operand type(s) for +: 'int' and 'str'",
     "output_type": "error",
     "traceback": [
      "\u001b[1;31m-------------------------------------------------------------------------\u001b[0m",
      "\u001b[1;31mTypeError\u001b[0m                               Traceback (most recent call last)",
      "Cell \u001b[1;32mIn[10], line 1\u001b[0m\n\u001b[1;32m----> 1\u001b[0m \u001b[38;5;241;43m1\u001b[39;49m\u001b[43m \u001b[49m\u001b[38;5;241;43m+\u001b[39;49m\u001b[43m \u001b[49m\u001b[38;5;124;43m'\u001b[39;49m\u001b[38;5;124;43m1\u001b[39;49m\u001b[38;5;124;43m'\u001b[39;49m\n",
      "\u001b[1;31mTypeError\u001b[0m: unsupported operand type(s) for +: 'int' and 'str'"
     ]
    }
   ],
   "source": [
    "1 + '1'"
   ]
  },
  {
   "cell_type": "code",
   "execution_count": 13,
   "id": "3b1ec2ee-213a-4f13-8e0b-96549108ef96",
   "metadata": {},
   "outputs": [
    {
     "ename": "TypeError",
     "evalue": "can only concatenate str (not \"int\") to str",
     "output_type": "error",
     "traceback": [
      "\u001b[1;31m-------------------------------------------------------------------------\u001b[0m",
      "\u001b[1;31mTypeError\u001b[0m                               Traceback (most recent call last)",
      "Cell \u001b[1;32mIn[13], line 1\u001b[0m\n\u001b[1;32m----> 1\u001b[0m \u001b[38;5;124;43m'\u001b[39;49m\u001b[38;5;124;43m1\u001b[39;49m\u001b[38;5;124;43m'\u001b[39;49m\u001b[43m \u001b[49m\u001b[38;5;241;43m+\u001b[39;49m\u001b[43m \u001b[49m\u001b[38;5;241;43m1\u001b[39;49m\n",
      "\u001b[1;31mTypeError\u001b[0m: can only concatenate str (not \"int\") to str"
     ]
    }
   ],
   "source": [
    "'1' + 1"
   ]
  },
  {
   "cell_type": "code",
   "execution_count": 15,
   "id": "2915c21d-e24a-4e82-81f8-b416e8f6a348",
   "metadata": {},
   "outputs": [
    {
     "ename": "TypeError",
     "evalue": "Random.sample() missing 1 required positional argument: 'k'",
     "output_type": "error",
     "traceback": [
      "\u001b[1;31m-------------------------------------------------------------------------\u001b[0m",
      "\u001b[1;31mTypeError\u001b[0m                               Traceback (most recent call last)",
      "Cell \u001b[1;32mIn[15], line 2\u001b[0m\n\u001b[0;32m      1\u001b[0m \u001b[38;5;28;01mimport\u001b[39;00m \u001b[38;5;21;01mrandom\u001b[39;00m\n\u001b[1;32m----> 2\u001b[0m \u001b[43mrandom\u001b[49m\u001b[38;5;241;43m.\u001b[39;49m\u001b[43msample\u001b[49m\u001b[43m(\u001b[49m\u001b[43m[\u001b[49m\u001b[38;5;241;43m1\u001b[39;49m\u001b[43m,\u001b[49m\u001b[38;5;241;43m2\u001b[39;49m\u001b[43m,\u001b[49m\u001b[38;5;241;43m3\u001b[39;49m\u001b[43m,\u001b[49m\u001b[38;5;241;43m4\u001b[39;49m\u001b[43m,\u001b[49m\u001b[38;5;241;43m5\u001b[39;49m\u001b[43m]\u001b[49m\u001b[43m)\u001b[49m\n",
      "\u001b[1;31mTypeError\u001b[0m: Random.sample() missing 1 required positional argument: 'k'"
     ]
    }
   ],
   "source": [
    "import random\n",
    "random.sample([1,2,3,4,5])"
   ]
  },
  {
   "cell_type": "code",
   "execution_count": 17,
   "id": "f0493993-7b82-4df7-bdb1-91be36aa988b",
   "metadata": {},
   "outputs": [
    {
     "ename": "TypeError",
     "evalue": "Random.sample() takes 3 positional arguments but 7 were given",
     "output_type": "error",
     "traceback": [
      "\u001b[1;31m-------------------------------------------------------------------------\u001b[0m",
      "\u001b[1;31mTypeError\u001b[0m                               Traceback (most recent call last)",
      "Cell \u001b[1;32mIn[17], line 1\u001b[0m\n\u001b[1;32m----> 1\u001b[0m \u001b[43mrandom\u001b[49m\u001b[38;5;241;43m.\u001b[39;49m\u001b[43msample\u001b[49m\u001b[43m(\u001b[49m\u001b[43m[\u001b[49m\u001b[38;5;241;43m1\u001b[39;49m\u001b[43m,\u001b[49m\u001b[38;5;241;43m2\u001b[39;49m\u001b[43m,\u001b[49m\u001b[38;5;241;43m3\u001b[39;49m\u001b[43m,\u001b[49m\u001b[38;5;241;43m4\u001b[39;49m\u001b[43m,\u001b[49m\u001b[38;5;241;43m5\u001b[39;49m\u001b[43m]\u001b[49m\u001b[43m,\u001b[49m\u001b[38;5;241;43m1\u001b[39;49m\u001b[43m,\u001b[49m\u001b[38;5;241;43m2\u001b[39;49m\u001b[43m,\u001b[49m\u001b[38;5;241;43m3\u001b[39;49m\u001b[43m,\u001b[49m\u001b[38;5;241;43m4\u001b[39;49m\u001b[43m,\u001b[49m\u001b[38;5;241;43m5\u001b[39;49m\u001b[43m)\u001b[49m\n",
      "\u001b[1;31mTypeError\u001b[0m: Random.sample() takes 3 positional arguments but 7 were given"
     ]
    }
   ],
   "source": [
    "random.sample([1,2,3,4,5],1,2,3,4,5)"
   ]
  },
  {
   "cell_type": "code",
   "execution_count": 19,
   "id": "e66677b3-541d-4e7e-bb83-be88e147c304",
   "metadata": {},
   "outputs": [
    {
     "ename": "ValueError",
     "evalue": "invalid literal for int() with base 10: '4.5'",
     "output_type": "error",
     "traceback": [
      "\u001b[1;31m-------------------------------------------------------------------------\u001b[0m",
      "\u001b[1;31mValueError\u001b[0m                              Traceback (most recent call last)",
      "Cell \u001b[1;32mIn[19], line 1\u001b[0m\n\u001b[1;32m----> 1\u001b[0m \u001b[38;5;28;43mint\u001b[39;49m\u001b[43m(\u001b[49m\u001b[38;5;124;43m'\u001b[39;49m\u001b[38;5;124;43m4.5\u001b[39;49m\u001b[38;5;124;43m'\u001b[39;49m\u001b[43m)\u001b[49m\n",
      "\u001b[1;31mValueError\u001b[0m: invalid literal for int() with base 10: '4.5'"
     ]
    }
   ],
   "source": [
    "int('4.5')"
   ]
  },
  {
   "cell_type": "code",
   "execution_count": 21,
   "id": "658b36ce-67df-4de7-ba4f-4f41e99f3cbc",
   "metadata": {},
   "outputs": [
    {
     "ename": "ValueError",
     "evalue": "4 is not in list",
     "output_type": "error",
     "traceback": [
      "\u001b[1;31m-------------------------------------------------------------------------\u001b[0m",
      "\u001b[1;31mValueError\u001b[0m                              Traceback (most recent call last)",
      "Cell \u001b[1;32mIn[21], line 2\u001b[0m\n\u001b[0;32m      1\u001b[0m numbers \u001b[38;5;241m=\u001b[39m [\u001b[38;5;241m1\u001b[39m,\u001b[38;5;241m2\u001b[39m,\u001b[38;5;241m3\u001b[39m]\n\u001b[1;32m----> 2\u001b[0m \u001b[43mnumbers\u001b[49m\u001b[38;5;241;43m.\u001b[39;49m\u001b[43mindex\u001b[49m\u001b[43m(\u001b[49m\u001b[38;5;241;43m4\u001b[39;49m\u001b[43m)\u001b[49m\n",
      "\u001b[1;31mValueError\u001b[0m: 4 is not in list"
     ]
    }
   ],
   "source": [
    "numbers = [1,2,3]\n",
    "numbers.index(4)"
   ]
  },
  {
   "cell_type": "code",
   "execution_count": 23,
   "id": "cb4fc3dc-0b6d-49f2-a40c-e36f2211c0fa",
   "metadata": {},
   "outputs": [
    {
     "ename": "IndexError",
     "evalue": "list index out of range",
     "output_type": "error",
     "traceback": [
      "\u001b[1;31m-------------------------------------------------------------------------\u001b[0m",
      "\u001b[1;31mIndexError\u001b[0m                              Traceback (most recent call last)",
      "Cell \u001b[1;32mIn[23], line 1\u001b[0m\n\u001b[1;32m----> 1\u001b[0m \u001b[43mnumbers\u001b[49m\u001b[43m[\u001b[49m\u001b[38;5;241;43m100\u001b[39;49m\u001b[43m]\u001b[49m\n",
      "\u001b[1;31mIndexError\u001b[0m: list index out of range"
     ]
    }
   ],
   "source": [
    "numbers[100]"
   ]
  },
  {
   "cell_type": "code",
   "execution_count": 25,
   "id": "a8ec4337-e49e-465d-91db-4b39f3f5cbe0",
   "metadata": {},
   "outputs": [],
   "source": [
    "my_dict = {\n",
    "    'apple' : '사과',\n",
    "    'banana' : '바나나',\n",
    "}"
   ]
  },
  {
   "cell_type": "code",
   "execution_count": 27,
   "id": "d080cc30-c19e-4f5f-872d-859164802f59",
   "metadata": {},
   "outputs": [
    {
     "ename": "KeyError",
     "evalue": "'멜론'",
     "output_type": "error",
     "traceback": [
      "\u001b[1;31m-------------------------------------------------------------------------\u001b[0m",
      "\u001b[1;31mKeyError\u001b[0m                                Traceback (most recent call last)",
      "Cell \u001b[1;32mIn[27], line 1\u001b[0m\n\u001b[1;32m----> 1\u001b[0m \u001b[43mmy_dict\u001b[49m\u001b[43m[\u001b[49m\u001b[38;5;124;43m'\u001b[39;49m\u001b[38;5;124;43m멜론\u001b[39;49m\u001b[38;5;124;43m'\u001b[39;49m\u001b[43m]\u001b[49m\n",
      "\u001b[1;31mKeyError\u001b[0m: '멜론'"
     ]
    }
   ],
   "source": [
    "my_dict['멜론']"
   ]
  },
  {
   "cell_type": "code",
   "execution_count": 28,
   "id": "5f1340f4-64aa-4e78-8e51-213f984eac49",
   "metadata": {},
   "outputs": [
    {
     "ename": "ModuleNotFoundError",
     "evalue": "No module named 'asdf'",
     "output_type": "error",
     "traceback": [
      "\u001b[1;31m-------------------------------------------------------------------------\u001b[0m",
      "\u001b[1;31mModuleNotFoundError\u001b[0m                     Traceback (most recent call last)",
      "Cell \u001b[1;32mIn[28], line 1\u001b[0m\n\u001b[1;32m----> 1\u001b[0m \u001b[38;5;28;01mimport\u001b[39;00m \u001b[38;5;21;01masdf\u001b[39;00m\n",
      "\u001b[1;31mModuleNotFoundError\u001b[0m: No module named 'asdf'"
     ]
    }
   ],
   "source": [
    "import asdf"
   ]
  },
  {
   "cell_type": "code",
   "execution_count": 29,
   "id": "de6e9851-55fa-4574-b0a3-1ef20b0d7145",
   "metadata": {},
   "outputs": [
    {
     "ename": "ModuleNotFoundError",
     "evalue": "No module named 'pandas'",
     "output_type": "error",
     "traceback": [
      "\u001b[1;31m-------------------------------------------------------------------------\u001b[0m",
      "\u001b[1;31mModuleNotFoundError\u001b[0m                     Traceback (most recent call last)",
      "Cell \u001b[1;32mIn[29], line 1\u001b[0m\n\u001b[1;32m----> 1\u001b[0m \u001b[38;5;28;01mimport\u001b[39;00m \u001b[38;5;21;01mpandas\u001b[39;00m\n",
      "\u001b[1;31mModuleNotFoundError\u001b[0m: No module named 'pandas'"
     ]
    }
   ],
   "source": [
    "import pandas"
   ]
  },
  {
   "cell_type": "markdown",
   "id": "d5434fb9-3fc4-4f96-a781-ff55417c0c2b",
   "metadata": {},
   "source": [
    "## 예외 처리\n",
    "\n",
    "```python\n",
    "try:\n",
    "    code\n",
    "except 예외:\n",
    "    code\n",
    "```"
   ]
  },
  {
   "cell_type": "code",
   "execution_count": 34,
   "id": "d4e35593-5efc-4bca-bbc6-1ea407974895",
   "metadata": {},
   "outputs": [
    {
     "name": "stdin",
     "output_type": "stream",
     "text": [
      "숫자를 입력해주세요. 2\n"
     ]
    },
    {
     "name": "stdout",
     "output_type": "stream",
     "text": [
      "2의 세제곱은 8입니다.\n"
     ]
    }
   ],
   "source": [
    "try:\n",
    "    num = int(input('숫자를 입력해주세요.'))            # 숫자가 아닌 str형이 입력된 상태\n",
    "    print(f'{num}의 세제곱은 {num ** 3}입니다.')\n",
    "except:\n",
    "    print('문자가 아닌 숫자를 입력해주세요')"
   ]
  },
  {
   "cell_type": "code",
   "execution_count": 37,
   "id": "18773692-d00d-439c-8b84-d44b6c3dfe88",
   "metadata": {},
   "outputs": [
    {
     "name": "stdin",
     "output_type": "stream",
     "text": [
      "100을 무엇으로 나누시겠습니까? 0\n"
     ]
    },
    {
     "name": "stdout",
     "output_type": "stream",
     "text": [
      "모든 수는 0으로 나눌 수 없습니다.\n"
     ]
    }
   ],
   "source": [
    "try:\n",
    "    num = int(input('100을 무엇으로 나누시겠습니까?'))\n",
    "    print(f'100을 {num}으로 나누면 {100/num}입니다.')\n",
    "except ValueError:\n",
    "    print('입력한 데이터는 숫자가 아닙니다.')\n",
    "\n",
    "except ZeroDivisionError:\n",
    "    print('모든 수는 0으로 나눌 수 없습니다.')\n",
    "    "
   ]
  },
  {
   "cell_type": "code",
   "execution_count": 42,
   "id": "e1547859-07e9-4f56-8848-644346d1bc0d",
   "metadata": {},
   "outputs": [
    {
     "name": "stdout",
     "output_type": "stream",
     "text": [
      "out of index\n",
      "list index out of range\n"
     ]
    }
   ],
   "source": [
    "try:\n",
    "    my_list = [1,2,3]\n",
    "    print(my_list[100])\n",
    "\n",
    "except IndexError as err:\n",
    "    print('out of index')\n",
    "    print(err)"
   ]
  },
  {
   "cell_type": "code",
   "execution_count": 45,
   "id": "dca6bc57-1477-455b-a64a-e7ee82e235f7",
   "metadata": {},
   "outputs": [
    {
     "name": "stdout",
     "output_type": "stream",
     "text": [
      "오류입니다.\n"
     ]
    }
   ],
   "source": [
    "try:\n",
    "    numbers = [1,2,3]\n",
    "    num = numbers[100]\n",
    "except:\n",
    "    print('오류입니다.')\n",
    "else: # else => 예외를 일으키지 않을 때 실행되는 코드 \n",
    "    print(num ** 3)"
   ]
  },
  {
   "cell_type": "code",
   "execution_count": 47,
   "id": "3a844b6d-2c96-4beb-9a4f-4b7ed3eb7a2f",
   "metadata": {},
   "outputs": [
    {
     "name": "stdout",
     "output_type": "stream",
     "text": [
      "오류입니다.\n",
      "end\n"
     ]
    }
   ],
   "source": [
    "try:\n",
    "    numbers = [1,2,3]\n",
    "    num = numbers[100]\n",
    "except:\n",
    "    print('오류입니다.')\n",
    "finally: # => 중간에 에러가 발생하든 안하든 실행\n",
    "    print('end')"
   ]
  },
  {
   "cell_type": "code",
   "execution_count": 53,
   "id": "f5d5ae0e-73a8-420e-bd49-d461a548be95",
   "metadata": {},
   "outputs": [
    {
     "name": "stdout",
     "output_type": "stream",
     "text": [
      "숫자를 입력하세요.\n"
     ]
    }
   ],
   "source": [
    "def my_div(num1, num2):\n",
    "    try:    \n",
    "        return num1 / num2\n",
    "    except (ValueError, TypeError):\n",
    "        return '숫자를 입력하세요.'\n",
    "    except ZeroDivisionError:\n",
    "        return '0으로 나눌 수 없습니다.'\n",
    "    except:\n",
    "        return '무엇인가 잘못되었어요.'\n",
    "\n",
    "print(my_div('안',0))\n",
    "    "
   ]
  }
 ],
 "metadata": {
  "kernelspec": {
   "display_name": "Python 3 (ipykernel)",
   "language": "python",
   "name": "python3"
  },
  "language_info": {
   "codemirror_mode": {
    "name": "ipython",
    "version": 3
   },
   "file_extension": ".py",
   "mimetype": "text/x-python",
   "name": "python",
   "nbconvert_exporter": "python",
   "pygments_lexer": "ipython3",
   "version": "3.12.4"
  }
 },
 "nbformat": 4,
 "nbformat_minor": 5
}
