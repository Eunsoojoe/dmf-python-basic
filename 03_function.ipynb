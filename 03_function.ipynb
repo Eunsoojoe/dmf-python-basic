{
 "cells": [
  {
   "cell_type": "markdown",
   "id": "2c1fe192-e43e-4275-b52a-e5b759514274",
   "metadata": {},
   "source": [
    "# 함수(function)"
   ]
  },
  {
   "cell_type": "code",
   "execution_count": 3,
   "id": "966626d5-0fb1-49e9-82fe-b4acc1f1c557",
   "metadata": {},
   "outputs": [
    {
     "name": "stdout",
     "output_type": "stream",
     "text": [
      "사각형의 넓이는 1500고, 둘레는 160입니다\n"
     ]
    }
   ],
   "source": [
    "height = 50\n",
    "width = 30\n",
    "\n",
    "area = height * width\n",
    "permeter = (height + width) * 2\n",
    "\n",
    "print(f'사각형의 넓이는 {area}고, 둘레는 {permeter}입니다')"
   ]
  },
  {
   "cell_type": "markdown",
   "id": "104e2247-b2e4-47e9-b825-36aed05c80ea",
   "metadata": {},
   "source": [
    "## 함수의 선언과 호출\n",
    "- 함수의 선언\n",
    "```python\n",
    "def func_name(parameter1, parameter2...):\n",
    "    code 1\n",
    "    code 2\n",
    "    ...\n",
    "    return value\n",
    "```\n",
    "\n",
    "- 함수의 호출(실행)\n",
    "```python\n",
    "func_name(paramter1, parameter2...)\n",
    "```"
   ]
  },
  {
   "cell_type": "code",
   "execution_count": 4,
   "id": "72e35012-532c-41ad-b022-452a2464ad5a",
   "metadata": {},
   "outputs": [],
   "source": [
    "def rectangle(height, width):\n",
    "    area = height * width\n",
    "    permeter = (height + width) * 2\n",
    "    print(area, permeter)"
   ]
  },
  {
   "cell_type": "code",
   "execution_count": 6,
   "id": "f29580f3-8b9a-4ece-aef8-f997b68cc868",
   "metadata": {},
   "outputs": [
    {
     "name": "stdout",
     "output_type": "stream",
     "text": [
      "56088 1158\n",
      "97047 1824\n"
     ]
    }
   ],
   "source": [
    "rectangle(123,456)\n",
    "rectangle(789,123)"
   ]
  },
  {
   "cell_type": "code",
   "execution_count": 9,
   "id": "52666fb5-d358-4200-af49-95ae3a618e28",
   "metadata": {},
   "outputs": [
    {
     "data": {
      "text/plain": [
       "['ArithmeticError',\n",
       " 'AssertionError',\n",
       " 'AttributeError',\n",
       " 'BaseException',\n",
       " 'BaseExceptionGroup',\n",
       " 'BlockingIOError',\n",
       " 'BrokenPipeError',\n",
       " 'BufferError',\n",
       " 'BytesWarning',\n",
       " 'ChildProcessError',\n",
       " 'ConnectionAbortedError',\n",
       " 'ConnectionError',\n",
       " 'ConnectionRefusedError',\n",
       " 'ConnectionResetError',\n",
       " 'DeprecationWarning',\n",
       " 'EOFError',\n",
       " 'Ellipsis',\n",
       " 'EncodingWarning',\n",
       " 'EnvironmentError',\n",
       " 'Exception',\n",
       " 'ExceptionGroup',\n",
       " 'False',\n",
       " 'FileExistsError',\n",
       " 'FileNotFoundError',\n",
       " 'FloatingPointError',\n",
       " 'FutureWarning',\n",
       " 'GeneratorExit',\n",
       " 'IOError',\n",
       " 'ImportError',\n",
       " 'ImportWarning',\n",
       " 'IndentationError',\n",
       " 'IndexError',\n",
       " 'InterruptedError',\n",
       " 'IsADirectoryError',\n",
       " 'KeyError',\n",
       " 'KeyboardInterrupt',\n",
       " 'LookupError',\n",
       " 'MemoryError',\n",
       " 'ModuleNotFoundError',\n",
       " 'NameError',\n",
       " 'None',\n",
       " 'NotADirectoryError',\n",
       " 'NotImplemented',\n",
       " 'NotImplementedError',\n",
       " 'OSError',\n",
       " 'OverflowError',\n",
       " 'PendingDeprecationWarning',\n",
       " 'PermissionError',\n",
       " 'ProcessLookupError',\n",
       " 'RecursionError',\n",
       " 'ReferenceError',\n",
       " 'ResourceWarning',\n",
       " 'RuntimeError',\n",
       " 'RuntimeWarning',\n",
       " 'StopAsyncIteration',\n",
       " 'StopIteration',\n",
       " 'SyntaxError',\n",
       " 'SyntaxWarning',\n",
       " 'SystemError',\n",
       " 'SystemExit',\n",
       " 'TabError',\n",
       " 'TimeoutError',\n",
       " 'True',\n",
       " 'TypeError',\n",
       " 'UnboundLocalError',\n",
       " 'UnicodeDecodeError',\n",
       " 'UnicodeEncodeError',\n",
       " 'UnicodeError',\n",
       " 'UnicodeTranslateError',\n",
       " 'UnicodeWarning',\n",
       " 'UserWarning',\n",
       " 'ValueError',\n",
       " 'Warning',\n",
       " 'WindowsError',\n",
       " 'ZeroDivisionError',\n",
       " '__IPYTHON__',\n",
       " '__build_class__',\n",
       " '__debug__',\n",
       " '__doc__',\n",
       " '__import__',\n",
       " '__loader__',\n",
       " '__name__',\n",
       " '__package__',\n",
       " '__spec__',\n",
       " 'abs',\n",
       " 'aiter',\n",
       " 'all',\n",
       " 'anext',\n",
       " 'any',\n",
       " 'ascii',\n",
       " 'bin',\n",
       " 'bool',\n",
       " 'breakpoint',\n",
       " 'bytearray',\n",
       " 'bytes',\n",
       " 'callable',\n",
       " 'chr',\n",
       " 'classmethod',\n",
       " 'compile',\n",
       " 'complex',\n",
       " 'copyright',\n",
       " 'credits',\n",
       " 'delattr',\n",
       " 'dict',\n",
       " 'dir',\n",
       " 'display',\n",
       " 'divmod',\n",
       " 'enumerate',\n",
       " 'eval',\n",
       " 'exec',\n",
       " 'execfile',\n",
       " 'filter',\n",
       " 'float',\n",
       " 'format',\n",
       " 'frozenset',\n",
       " 'get_ipython',\n",
       " 'getattr',\n",
       " 'globals',\n",
       " 'hasattr',\n",
       " 'hash',\n",
       " 'help',\n",
       " 'hex',\n",
       " 'id',\n",
       " 'input',\n",
       " 'int',\n",
       " 'isinstance',\n",
       " 'issubclass',\n",
       " 'iter',\n",
       " 'len',\n",
       " 'license',\n",
       " 'list',\n",
       " 'locals',\n",
       " 'map',\n",
       " 'max',\n",
       " 'memoryview',\n",
       " 'min',\n",
       " 'next',\n",
       " 'object',\n",
       " 'oct',\n",
       " 'open',\n",
       " 'ord',\n",
       " 'pow',\n",
       " 'print',\n",
       " 'property',\n",
       " 'range',\n",
       " 'repr',\n",
       " 'reversed',\n",
       " 'round',\n",
       " 'runfile',\n",
       " 'set',\n",
       " 'setattr',\n",
       " 'slice',\n",
       " 'sorted',\n",
       " 'staticmethod',\n",
       " 'str',\n",
       " 'sum',\n",
       " 'super',\n",
       " 'tuple',\n",
       " 'type',\n",
       " 'vars',\n",
       " 'zip']"
      ]
     },
     "execution_count": 9,
     "metadata": {},
     "output_type": "execute_result"
    }
   ],
   "source": [
    "dir(__builtins__)"
   ]
  },
  {
   "cell_type": "code",
   "execution_count": 11,
   "id": "4609914c-c35b-4a71-9825-029de48cd1cd",
   "metadata": {},
   "outputs": [
    {
     "data": {
      "text/plain": [
       "4"
      ]
     },
     "execution_count": 11,
     "metadata": {},
     "output_type": "execute_result"
    }
   ],
   "source": [
    "max([1,2,3,4])"
   ]
  },
  {
   "cell_type": "code",
   "execution_count": 15,
   "id": "9d352053-beae-48fa-b4ab-035f23d92c78",
   "metadata": {},
   "outputs": [],
   "source": [
    "def mymax(num1, num2):\n",
    "    if num1 > num2:\n",
    "        print(num1)\n",
    "    elif num1 == num2:\n",
    "        print('크기가 같습니다.')\n",
    "    else:\n",
    "        print(num2)\n",
    "    #반환값을 따로 설정하지 않은 경우, None이라는 결과값을 자동으로 return"
   ]
  },
  {
   "cell_type": "code",
   "execution_count": 16,
   "id": "cbb6d29f-d30b-46c2-9716-afdb19b1c6e0",
   "metadata": {},
   "outputs": [
    {
     "name": "stdout",
     "output_type": "stream",
     "text": [
      "크기가 같습니다.\n",
      "349\n",
      "432\n"
     ]
    }
   ],
   "source": [
    "mymax(3,3)\n",
    "mymax(349,129)\n",
    "mymax(432,140)"
   ]
  },
  {
   "cell_type": "markdown",
   "id": "ca5c834d-bfcf-45d8-bca7-3b1ea6ca6b1a",
   "metadata": {},
   "source": [
    "## 함수의 return\n",
    "- 함수가 return을 만나면 해당 값을 **반환**하고 함수를 종료\n",
    "- 만약 return이 없는 경우 None을 자동으로 반환\n",
    "- return은 오직 하나의 객체만 반환된다."
   ]
  },
  {
   "cell_type": "code",
   "execution_count": 18,
   "id": "4ccb76f2-ab9e-44ac-96d0-643ef9607bd6",
   "metadata": {},
   "outputs": [
    {
     "name": "stdout",
     "output_type": "stream",
     "text": [
      "2\n",
      "None\n"
     ]
    }
   ],
   "source": [
    "# 중요\n",
    "# input이 paramter, output이 return이라고 생각\n",
    "result = mymax(1,2)\n",
    "print(result)"
   ]
  },
  {
   "cell_type": "code",
   "execution_count": 30,
   "id": "33df467c-e1cc-4dd2-896b-38a2e20716f3",
   "metadata": {},
   "outputs": [],
   "source": [
    "def my_max2(num1,num2):\n",
    "    if num1 > num2:\n",
    "        return num1\n",
    "    elif num1 < num2:\n",
    "        return num2\n",
    "    else:\n",
    "        return num1"
   ]
  },
  {
   "cell_type": "code",
   "execution_count": 31,
   "id": "d07ddbbb-5d2e-4d0a-aeeb-3bd87a54e70f",
   "metadata": {},
   "outputs": [
    {
     "name": "stdout",
     "output_type": "stream",
     "text": [
      "2\n",
      "None\n"
     ]
    }
   ],
   "source": [
    "result = mymax(1,2)\n",
    "print(result)    # return 값을 따로 정의하지 않아서 자동으로 None을 출력"
   ]
  },
  {
   "cell_type": "code",
   "execution_count": 32,
   "id": "18e3b5cb-89c1-41df-a979-80ab2cbd4613",
   "metadata": {},
   "outputs": [
    {
     "name": "stdout",
     "output_type": "stream",
     "text": [
      "2\n"
     ]
    }
   ],
   "source": [
    "my_max2(1,2)\n",
    "#jupyter notebook은 return값을 출력해줌. 원래는 출력이 되면 안됨!\n",
    "\n",
    "result = my_max2(1,2)\n",
    "print(result)"
   ]
  },
  {
   "cell_type": "code",
   "execution_count": 41,
   "id": "5b6e7aa8-6b45-4ff9-9456-2a6fa503a7ec",
   "metadata": {},
   "outputs": [],
   "source": [
    "# version 1\n",
    "def my_list_max(list1, list2):\n",
    "    sum1 = 0\n",
    "    sum2 = 0\n",
    "    for i in list1:\n",
    "        sum1 = sum1 + i\n",
    "    for j in list2:\n",
    "        sum2 = sum2 + j\n",
    "\n",
    "    if sum1 > sum2:\n",
    "        return list1\n",
    "    elif sum1 < sum2:\n",
    "        return list2\n",
    "    else:\n",
    "        print('둘의 합이 같습니다')"
   ]
  },
  {
   "cell_type": "code",
   "execution_count": 42,
   "id": "c3f2244c-d2c1-4f5e-8584-7d116859cc0f",
   "metadata": {},
   "outputs": [],
   "source": [
    "# version 2\n",
    "# iterable한 데이터의 합을 구해주는 sum 함수 활용\n",
    "def my_list_max(list1,list2):\n",
    "    if sum(list1) > sum(list2):\n",
    "        return list1\n",
    "    elif sum(list1) < sum(list2):\n",
    "        return list2\n",
    "    else:\n",
    "        print(\"둘의 합이 같습니다\")"
   ]
  },
  {
   "cell_type": "code",
   "execution_count": 43,
   "id": "caf1f44d-962d-449f-9159-5e6b8e7540ac",
   "metadata": {},
   "outputs": [
    {
     "data": {
      "text/plain": [
       "[1, 3, 12]"
      ]
     },
     "execution_count": 43,
     "metadata": {},
     "output_type": "execute_result"
    }
   ],
   "source": [
    "my_list_max([1,3,12], [4,5,6])"
   ]
  },
  {
   "cell_type": "code",
   "execution_count": 51,
   "id": "7ffac4e0-e8be-4c2a-bccc-a4e943d9b147",
   "metadata": {},
   "outputs": [],
   "source": [
    "\"\"\"def my_def(x):\n",
    "    return x * 3\n",
    "    return x * 2\n",
    "\"\"\"\n",
    "\n",
    "def my_def(x):\n",
    "    if x % 2:\n",
    "        return x * 3\n",
    "    else:\n",
    "        return x * 2\n",
    "\n",
    "def my_def2(x):\n",
    "    return x, x*2  #결과값이 튜블 형태로 하나의 객체  형태가 됨. "
   ]
  },
  {
   "cell_type": "code",
   "execution_count": 49,
   "id": "d9808e26-6823-4000-ac82-4973a327c566",
   "metadata": {},
   "outputs": [
    {
     "data": {
      "text/plain": [
       "20"
      ]
     },
     "execution_count": 49,
     "metadata": {},
     "output_type": "execute_result"
    }
   ],
   "source": [
    "my_def(10)"
   ]
  },
  {
   "cell_type": "code",
   "execution_count": 52,
   "id": "a8904310-3c76-4752-a5f9-48bc882b87a1",
   "metadata": {},
   "outputs": [
    {
     "data": {
      "text/plain": [
       "(10, 20)"
      ]
     },
     "execution_count": 52,
     "metadata": {},
     "output_type": "execute_result"
    }
   ],
   "source": [
    "my_def2(10)"
   ]
  },
  {
   "cell_type": "markdown",
   "id": "c6ea94bf-63ce-40e1-84c2-b41e9d20f9f6",
   "metadata": {},
   "source": [
    "# 함수의 인수\n",
    "### 위치인수\n",
    "기본적으로 함수는 위치를 기준으로 판단"
   ]
  },
  {
   "cell_type": "code",
   "execution_count": 53,
   "id": "ecf86837-8b5c-4893-9a3b-97b80fd53ea9",
   "metadata": {},
   "outputs": [],
   "source": [
    "def cylinder(r,h):\n",
    "    return 3.14 * r**2 * h"
   ]
  },
  {
   "cell_type": "code",
   "execution_count": 54,
   "id": "ca0bca01-0042-4068-a3ce-a7157d73ab34",
   "metadata": {},
   "outputs": [
    {
     "data": {
      "text/plain": [
       "785.0"
      ]
     },
     "execution_count": 54,
     "metadata": {},
     "output_type": "execute_result"
    }
   ],
   "source": [
    "cylinder(10,5)\n",
    "cylinder(5,10)"
   ]
  },
  {
   "cell_type": "markdown",
   "id": "cbef98c8-880c-4a19-b0a1-03258d010682",
   "metadata": {},
   "source": [
    "### 기본값\n",
    "매개변수가 없는 경우에 활용, 위치인자 특성으로 인해 뒷쪽에 써주기.\n",
    "```python\n",
    "def fun(p1=v1):\n",
    "    code...\n",
    "    return value"
   ]
  },
  {
   "cell_type": "code",
   "execution_count": 8,
   "id": "19e419be-98a5-4327-8633-671da153b8c2",
   "metadata": {},
   "outputs": [],
   "source": [
    "# def greeting(name='익명'):\n",
    "#     return f'{name}님 반갑습니다.'\n",
    "\n",
    "def greeting(name='익명'):\n",
    "    return f'{name}님 반갑습니다'"
   ]
  },
  {
   "cell_type": "code",
   "execution_count": 11,
   "id": "0f494b76-60fb-4db4-b487-9dc364139e89",
   "metadata": {},
   "outputs": [
    {
     "name": "stdout",
     "output_type": "stream",
     "text": [
      "익명님 반갑습니다\n",
      "홍길동님 반갑습니다\n"
     ]
    }
   ],
   "source": [
    "print(greeting())\n",
    "print(greeting('홍길동'))"
   ]
  },
  {
   "cell_type": "code",
   "execution_count": 69,
   "id": "da4cdc03-be43-4d4a-a133-c777c3bbce28",
   "metadata": {},
   "outputs": [
    {
     "name": "stdout",
     "output_type": "stream",
     "text": [
      "안녕하세요^^ 별입니다! \n",
      "안녕하세요 별입니다\n"
     ]
    }
   ],
   "source": [
    "print('안녕하세요', '별입니다',sep='^^ ', end='! \\n')\n",
    "print('안녕하세요', '별입니다')"
   ]
  },
  {
   "cell_type": "code",
   "execution_count": 70,
   "id": "56c7afec-c3c2-491d-83b0-81757e0e374c",
   "metadata": {},
   "outputs": [
    {
     "ename": "SyntaxError",
     "evalue": "parameter without a default follows parameter with a default (83915008.py, line 1)",
     "output_type": "error",
     "traceback": [
      "\u001b[1;36m  Cell \u001b[1;32mIn[70], line 1\u001b[1;36m\u001b[0m\n\u001b[1;33m    def greeting (name='익명', age):\u001b[0m\n\u001b[1;37m                             ^\u001b[0m\n\u001b[1;31mSyntaxError\u001b[0m\u001b[1;31m:\u001b[0m parameter without a default follows parameter with a default\n"
     ]
    }
   ],
   "source": [
    "def greeting (name='익명', age):\n",
    "    return f'{name}님의 나이는 {age}입니다.'"
   ]
  },
  {
   "cell_type": "code",
   "execution_count": 73,
   "id": "75cbc973-109f-4ec9-b93a-b8a9abf2ca0f",
   "metadata": {},
   "outputs": [],
   "source": [
    "def greeting (age, name='익명'):\n",
    "    return f'{name}님의 나이는 {age}입니다.'"
   ]
  },
  {
   "cell_type": "code",
   "execution_count": 74,
   "id": "77384039-5a49-424d-899b-5ba8eae1a030",
   "metadata": {},
   "outputs": [
    {
     "data": {
      "text/plain": [
       "'익명님의 나이는 10입니다.'"
      ]
     },
     "execution_count": 74,
     "metadata": {},
     "output_type": "execute_result"
    }
   ],
   "source": [
    "greeting(10)"
   ]
  },
  {
   "cell_type": "markdown",
   "id": "bc85eb69-c9f9-4593-9792-498739b9a3e0",
   "metadata": {},
   "source": [
    "### 키워드 인수\n",
    "함수를 호출(실행)할 때 내가 원하는 위치에 직접적으로 특정 인자를 전달"
   ]
  },
  {
   "cell_type": "code",
   "execution_count": 16,
   "id": "094af926-3e71-47c0-80c8-2009832bbcee",
   "metadata": {},
   "outputs": [],
   "source": [
    "# def greeting (age, name='익명'):\n",
    "#     return(f'{name}님의 나이는 {age}입니다.')\n",
    "\n",
    "def greeting(name,age=1):\n",
    "    return(f'{name}님의 나이는 {age}입니다')"
   ]
  },
  {
   "cell_type": "code",
   "execution_count": 19,
   "id": "6d92aa9c-32f4-4623-9655-608545097534",
   "metadata": {},
   "outputs": [
    {
     "name": "stdout",
     "output_type": "stream",
     "text": [
      "길동님의 나이는 1입니다\n",
      "10님의 나이는 길동입니다\n",
      "길동님의 나이는 10입니다\n"
     ]
    }
   ],
   "source": [
    "print(greeting('길동'))\n",
    "print(greeting(10,'길동'))\n",
    "print(greeting(name='길동',age=10)) #키워드 인수를 활용하여 위치와 상관없이 원하는 매개변수 값을 넣을 수 있음. "
   ]
  },
  {
   "cell_type": "markdown",
   "id": "4cb66ac3-d396-49e5-8f43-4c02d495cece",
   "metadata": {},
   "source": [
    "### 가변인자 리스트\n",
    "유동적인 데이터를 컨트롤할 때, '데이터가 몇개가 들어올지 모름'을 '*'로 표시\n",
    "```python\n",
    "def func(*parms):\n",
    "    code...\n",
    "```"
   ]
  },
  {
   "cell_type": "code",
   "execution_count": 76,
   "id": "ccebd059-3cc4-40f6-85d4-d190f5b5d4e3",
   "metadata": {},
   "outputs": [],
   "source": [
    "def my_print(*words):\n",
    "    print(words)\n"
   ]
  },
  {
   "cell_type": "code",
   "execution_count": 77,
   "id": "1fda7870-7c90-4a31-b342-23b37e01a5fc",
   "metadata": {},
   "outputs": [
    {
     "name": "stdout",
     "output_type": "stream",
     "text": [
      "('my', 'name', 'is')\n"
     ]
    }
   ],
   "source": [
    "my_print('my', 'name', 'is')    #하나의 튜플로 묶음."
   ]
  },
  {
   "cell_type": "code",
   "execution_count": 87,
   "id": "f0af816e-2e48-4c69-8fe4-f780ccf6500b",
   "metadata": {},
   "outputs": [],
   "source": [
    "# version 1\n",
    "def my_max(*numbers):\n",
    "    num_max = 0\n",
    "    for i in len(numbers):\n",
    "        if numbers[i] < numbers[i+1]:\n",
    "            num_max = numbers[i+1]\n",
    "\n",
    "        elif numbers[i] > numbers[i+1]:\n",
    "            num_max = numbers[i]\n",
    "            \n",
    "        else:\n",
    "            num_max = numbers[i+1]\n",
    "\n",
    "    return num_max\n"
   ]
  },
  {
   "cell_type": "code",
   "execution_count": 101,
   "id": "43ca247c-0be5-4a92-bb77-16af35ff6b72",
   "metadata": {},
   "outputs": [],
   "source": [
    "# version 2\n",
    "def my_max(*numbers):\n",
    "    # 기준점 설정\n",
    "    # max_num = 0 \n",
    "    max_num = numbers[0]    # 음수인 경우를 고려해서 가장 첫번째 숫자를 기준점으로 설정\n",
    "    \n",
    "    for num in numbers:\n",
    "        if max_num < num:\n",
    "            max_num = num\n",
    "\n",
    "    return max_num"
   ]
  },
  {
   "cell_type": "code",
   "execution_count": 102,
   "id": "fc7cc344-803f-46e4-8e0c-103be6033049",
   "metadata": {},
   "outputs": [
    {
     "name": "stdout",
     "output_type": "stream",
     "text": [
      "11\n",
      "9\n",
      "7545\n",
      "100020\n"
     ]
    }
   ],
   "source": [
    "print(my_max(1,2,4,4,5,6,7,8,10,11))\n",
    "print(my_max(6,2,4,3,7,9))\n",
    "print(my_max(325,144,7421,7545,2692))\n",
    "print(my_max(2331,332,1590,100020))"
   ]
  },
  {
   "cell_type": "markdown",
   "id": "611f091e-c6c9-46b7-8ed7-a29a6df93fa8",
   "metadata": {},
   "source": [
    "### 정의되지 않은 키워드인자 처리하기\n",
    "```python\n",
    "def func(**kwargs):\n",
    "    code\n",
    "    "
   ]
  },
  {
   "cell_type": "code",
   "execution_count": 104,
   "id": "dd6fcc64-7e3d-4541-833f-093acbe0e5e8",
   "metadata": {},
   "outputs": [
    {
     "name": "stdout",
     "output_type": "stream",
     "text": [
      "{'name': 'cho', 'age': 23}\n"
     ]
    }
   ],
   "source": [
    "info = {\n",
    "    'name': 'cho',\n",
    "    'age': 23,\n",
    "}\n",
    "print(info)"
   ]
  },
  {
   "cell_type": "code",
   "execution_count": 106,
   "id": "028ac9be-73cf-46f0-ad9b-ff19fec0b281",
   "metadata": {},
   "outputs": [
    {
     "name": "stdout",
     "output_type": "stream",
     "text": [
      "{'name': 'hong', 'age': 23}\n"
     ]
    }
   ],
   "source": [
    "info = dict(name='hong',age=23)\n",
    "print(info)"
   ]
  },
  {
   "cell_type": "code",
   "execution_count": 109,
   "id": "0652affc-40ef-47ce-9097-3ddf1bb1a473",
   "metadata": {},
   "outputs": [],
   "source": [
    "def my_dict(**kwargs):    #모든 인자를 다 받음.\n",
    "    print(kwargs)"
   ]
  },
  {
   "cell_type": "code",
   "execution_count": 108,
   "id": "9cc1419f-1899-43c5-88ad-7610f9207f3e",
   "metadata": {},
   "outputs": [
    {
     "name": "stdout",
     "output_type": "stream",
     "text": [
      "{'name': 'cho', 'age': 10, 'location': 'seoul'}\n"
     ]
    }
   ],
   "source": [
    "my_dict(name='cho', age= 10, location= 'seoul')"
   ]
  },
  {
   "cell_type": "code",
   "execution_count": 110,
   "id": "3036835f-4048-44ad-81c2-cdf5043d2fe9",
   "metadata": {},
   "outputs": [],
   "source": [
    "def my_func(*datas, **kedatas):\n",
    "    print(datas)\n",
    "    print(kedatas)"
   ]
  },
  {
   "cell_type": "code",
   "execution_count": 116,
   "id": "b15806d9-ef50-4abe-b375-5a0d759438a0",
   "metadata": {},
   "outputs": [
    {
     "name": "stdout",
     "output_type": "stream",
     "text": [
      "(1, 'hello', [1, 2, 3], {})\n",
      "{'hello': 'hi', 'world': 123, 'hi': {}}\n"
     ]
    }
   ],
   "source": [
    "my_func(1,'hello', [1,2,3], {}, hello='hi', world=123, hi={})    #단일데이터도 있고, key&value쌍도 있고"
   ]
  },
  {
   "cell_type": "markdown",
   "id": "87480d00-008f-4979-b8d1-dfa72b6ea9be",
   "metadata": {},
   "source": [
    "### dictionary를 인자로 넣기(unpacking)"
   ]
  },
  {
   "cell_type": "code",
   "execution_count": 20,
   "id": "49139b84-8603-4f98-a7dd-bb1c97103b00",
   "metadata": {},
   "outputs": [],
   "source": [
    "# def sign_up(username, pw, pw_conf):\n",
    "#     if pw == pw_conf:\n",
    "#         print(f'{username}님 회원가입을 환영합니다.')\n",
    "#     else:\n",
    "#         print('비밀번호가 일치하지 않습니다.')\n",
    "\n",
    "def sign_up(username, pw, pw_conf):\n",
    "    if pw == pw_conf:\n",
    "        print(f'{username}님 회원가입을 환영합니다.')\n",
    "    else:\n",
    "        print(\"비밀번호가 일치하지 않습니다.\")\n"
   ]
  },
  {
   "cell_type": "code",
   "execution_count": 21,
   "id": "1a56f14d-faed-4b3b-8042-df858414c7d4",
   "metadata": {},
   "outputs": [
    {
     "name": "stdout",
     "output_type": "stream",
     "text": [
      "비밀번호가 일치하지 않습니다.\n",
      "cho님 회원가입을 환영합니다.\n"
     ]
    }
   ],
   "source": [
    "sign_up('cho','1234','123')\n",
    "sign_up('cho','1234','1234')"
   ]
  },
  {
   "cell_type": "code",
   "execution_count": 124,
   "id": "bd44b2b7-715b-4502-8a19-dc84cd9e6e6c",
   "metadata": {},
   "outputs": [
    {
     "name": "stdout",
     "output_type": "stream",
     "text": [
      "cho님 회원가입을 환영합니다.\n"
     ]
    }
   ],
   "source": [
    "user_info = {\n",
    "    'username' : 'cho',\n",
    "    'pw' : '1234',\n",
    "    'pw_conf' : '1234',\n",
    "}\n",
    "\n",
    "sign_up(**user_info) # 알아서 Dictionary를 풀어줌. 'unpacking'\n",
    "# sign_up('cho', '1234', '1234)와 같음. "
   ]
  },
  {
   "cell_type": "markdown",
   "id": "cad18c1c-37d8-4886-84f1-703c9815990b",
   "metadata": {},
   "source": [
    "### lamda 표현식\n",
    "함수를 짧고 간단하게 축약하는 역할\n",
    "``` python\n",
    "lamda paramter:expression\n",
    "```"
   ]
  },
  {
   "cell_type": "code",
   "execution_count": 125,
   "id": "fc6ce006-c172-4215-8208-ce29af044671",
   "metadata": {},
   "outputs": [],
   "source": [
    "# 두 수의 값을 구함.\n",
    "def my_sum(num1,num2):\n",
    "    return num1 + num2"
   ]
  },
  {
   "cell_type": "code",
   "execution_count": 127,
   "id": "2a68c519-9e78-44c0-8b9a-c18f511a54ef",
   "metadata": {},
   "outputs": [
    {
     "data": {
      "text/plain": [
       "3"
      ]
     },
     "execution_count": 127,
     "metadata": {},
     "output_type": "execute_result"
    }
   ],
   "source": [
    "my_sum(1,2)\n",
    "\n",
    "(lambda num1, num2: num1 + num2)(1,2)"
   ]
  },
  {
   "cell_type": "markdown",
   "id": "334f8a5c-63b4-425e-b7da-ef268ab46279",
   "metadata": {},
   "source": [
    "### 타입힌트"
   ]
  },
  {
   "cell_type": "code",
   "execution_count": 139,
   "id": "56694861-a7c8-4be3-b6d2-c1cc85fe58f7",
   "metadata": {},
   "outputs": [
    {
     "ename": "SyntaxError",
     "evalue": "invalid syntax (187180624.py, line 7)",
     "output_type": "error",
     "traceback": [
      "\u001b[1;36m  Cell \u001b[1;32mIn[139], line 7\u001b[1;36m\u001b[0m\n\u001b[1;33m    int a = 1\u001b[0m\n\u001b[1;37m        ^\u001b[0m\n\u001b[1;31mSyntaxError\u001b[0m\u001b[1;31m:\u001b[0m invalid syntax\n"
     ]
    }
   ],
   "source": [
    "a = 1 \n",
    "a\n",
    "a = 'hi'\n",
    "a\n",
    "# 새로운 값이 들어오면 자동적으로 값이 변함. \n",
    "\n",
    "int a = 1\n",
    "a \n",
    "str a = 'hi'\n",
    "a \n",
    "# 정적 언어의 경우는 데이터의 형태를 꼭 지정하여 충돌을 피함."
   ]
  },
  {
   "cell_type": "code",
   "execution_count": 140,
   "id": "b21bdf71-db80-424f-b5f6-734d7285b3b9",
   "metadata": {},
   "outputs": [],
   "source": [
    "def my_sum(a:int,b:int) -> int:   # 두 매개변수 그리고 return값도 숫자여야함을 미리 힌트로 제시\n",
    "    return a + b"
   ]
  },
  {
   "cell_type": "code",
   "execution_count": 141,
   "id": "156d0d8f-ea5b-4ee8-ab85-04646db4782b",
   "metadata": {},
   "outputs": [
    {
     "data": {
      "text/plain": [
       "3"
      ]
     },
     "execution_count": 141,
     "metadata": {},
     "output_type": "execute_result"
    }
   ],
   "source": [
    "my_sum(1,2)"
   ]
  },
  {
   "cell_type": "markdown",
   "id": "7b735514-4e53-4f9a-bde8-4b55d07d57bc",
   "metadata": {},
   "source": [
    "## 이름공간(scope)\n",
    "\n",
    "python에서 사용되는 이름들은 이름공간에 저장되어 있음.\n",
    "\n",
    "1. Local: 정의된 함수 내부 \n",
    "2. Enclosed: 상위함수\n",
    "3. Global: 함수 밖\n",
    "4. Built-in: python이 기본적으로 가지고 있는 함수/변수"
   ]
  },
  {
   "cell_type": "code",
   "execution_count": 143,
   "id": "d2131cbe-455b-4bd3-87c5-f3c9c1f91576",
   "metadata": {},
   "outputs": [
    {
     "name": "stdout",
     "output_type": "stream",
     "text": [
      "1\n"
     ]
    }
   ],
   "source": [
    "result = str(1)\n",
    "print(result)"
   ]
  },
  {
   "cell_type": "code",
   "execution_count": 144,
   "id": "09273530-0afb-4ae5-9f9c-3ff554bca9c8",
   "metadata": {},
   "outputs": [],
   "source": [
    "# 함수와 똑같은 이름의 변수 생성\n",
    "str = 'hi'"
   ]
  },
  {
   "cell_type": "code",
   "execution_count": 147,
   "id": "10ed7d88-2abd-49db-ab45-4b8b82ed3712",
   "metadata": {},
   "outputs": [
    {
     "name": "stdout",
     "output_type": "stream",
     "text": [
      "1\n"
     ]
    }
   ],
   "source": [
    "result = str(1)\n",
    "print(result)"
   ]
  },
  {
   "cell_type": "code",
   "execution_count": 146,
   "id": "75498579-2ab6-4bfa-b16e-562b3568ca66",
   "metadata": {},
   "outputs": [],
   "source": [
    "del str "
   ]
  },
  {
   "cell_type": "code",
   "execution_count": 150,
   "id": "c6b474ed-aaa4-496e-b356-69079293fec9",
   "metadata": {},
   "outputs": [
    {
     "name": "stdout",
     "output_type": "stream",
     "text": [
      "1\n",
      "5\n"
     ]
    }
   ],
   "source": [
    "a = 1 \n",
    "\n",
    "def local_scope(a):\n",
    "    # a = 5\n",
    "    return a\n",
    "\n",
    "# 위의 a 변수를 선언한 것과 함수 local_scape 속 a는 완전 다른 개념!\n",
    "\n",
    "print(a)\n",
    "print(local_scope(5))"
   ]
  },
  {
   "cell_type": "code",
   "execution_count": 152,
   "id": "ff922179-8603-4a63-b9ee-ef9fbb3313f6",
   "metadata": {},
   "outputs": [
    {
     "data": {
      "text/plain": [
       "11"
      ]
     },
     "execution_count": 152,
     "metadata": {},
     "output_type": "execute_result"
    }
   ],
   "source": [
    "a = 10\n",
    "\n",
    "def global_scope():\n",
    "    global a    # global에 있는 a를 사용함을 명시\n",
    "    a = a + 1\n",
    "    return a \n",
    "\n",
    "global_scope()"
   ]
  },
  {
   "cell_type": "markdown",
   "id": "3f5fc9c9-4046-4be7-a693-1a4407754658",
   "metadata": {},
   "source": [
    "## 재귀\n",
    "\n",
    "재귀함수는 함수 내부에서 자기 자신을 호출하는 함수입니다."
   ]
  },
  {
   "cell_type": "code",
   "execution_count": 155,
   "id": "ffc14519-957e-4bdb-8b53-3926641b64c4",
   "metadata": {},
   "outputs": [],
   "source": [
    "def fact(n):\n",
    "    if n == 1:\n",
    "        return n\n",
    "    else:\n",
    "        return fact(n-1) * n"
   ]
  },
  {
   "cell_type": "code",
   "execution_count": null,
   "id": "428cb154-3c8f-4485-bd8a-3b4b7e11cc66",
   "metadata": {},
   "outputs": [],
   "source": []
  }
 ],
 "metadata": {
  "kernelspec": {
   "display_name": "Python 3 (ipykernel)",
   "language": "python",
   "name": "python3"
  },
  "language_info": {
   "codemirror_mode": {
    "name": "ipython",
    "version": 3
   },
   "file_extension": ".py",
   "mimetype": "text/x-python",
   "name": "python",
   "nbconvert_exporter": "python",
   "pygments_lexer": "ipython3",
   "version": "3.12.4"
  }
 },
 "nbformat": 4,
 "nbformat_minor": 5
}
