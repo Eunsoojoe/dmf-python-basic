{
 "cells": [
  {
   "cell_type": "markdown",
   "id": "5527d3c2-19fd-44d3-a507-4316faeda953",
   "metadata": {},
   "source": [
    "# 01. intro\n",
    "\n",
    "### shortcut\n",
    "- ctrl + enter : 현재 셀 실행\n",
    "- shift + enter : 현재 셀 실행 후 아래로 이동\n",
    "- alt + enter : 현재 셀 실행 후 새로운 셀 추가\n",
    "- DD : 셀 삭제\n",
    "\n",
    "### 주의사항\n",
    "1. Apple / apple\n",
    "2. git add . / gitt add.\n",
    "3. message / massage"
   ]
  },
  {
   "cell_type": "code",
   "execution_count": 5,
   "id": "6fd30892-c546-4859-b725-86cf969dd261",
   "metadata": {},
   "outputs": [],
   "source": [
    "# 주석"
   ]
  },
  {
   "cell_type": "markdown",
   "id": "e54940a6-8883-4f35-a560-8e6693d69021",
   "metadata": {},
   "source": [
    "## 1. 변수\n",
    "변수이름 = 값\n",
    "\n",
    "- 변수 이름은 어떤 이름이든 사용가능\n",
    "- 다만 영어, 숫자, _ 를 이용하여 선언\n",
    "- 키워드 사용 불가"
   ]
  },
  {
   "cell_type": "code",
   "execution_count": 9,
   "id": "a92c9d7b-bff7-4d04-b94c-9bfa97a2c531",
   "metadata": {},
   "outputs": [],
   "source": [
    "a = 30"
   ]
  },
  {
   "cell_type": "code",
   "execution_count": 10,
   "id": "65ad8d19-72e6-445b-9046-3fa7be1ccbae",
   "metadata": {},
   "outputs": [
    {
     "data": {
      "text/plain": [
       "30"
      ]
     },
     "execution_count": 10,
     "metadata": {},
     "output_type": "execute_result"
    }
   ],
   "source": [
    "a"
   ]
  },
  {
   "cell_type": "code",
   "execution_count": 11,
   "id": "7cb39910-ac89-4cbe-8fde-e468296b4994",
   "metadata": {},
   "outputs": [
    {
     "data": {
      "text/plain": [
       "['False',\n",
       " 'None',\n",
       " 'True',\n",
       " 'and',\n",
       " 'as',\n",
       " 'assert',\n",
       " 'async',\n",
       " 'await',\n",
       " 'break',\n",
       " 'class',\n",
       " 'continue',\n",
       " 'def',\n",
       " 'del',\n",
       " 'elif',\n",
       " 'else',\n",
       " 'except',\n",
       " 'finally',\n",
       " 'for',\n",
       " 'from',\n",
       " 'global',\n",
       " 'if',\n",
       " 'import',\n",
       " 'in',\n",
       " 'is',\n",
       " 'lambda',\n",
       " 'nonlocal',\n",
       " 'not',\n",
       " 'or',\n",
       " 'pass',\n",
       " 'raise',\n",
       " 'return',\n",
       " 'try',\n",
       " 'while',\n",
       " 'with',\n",
       " 'yield']"
      ]
     },
     "execution_count": 11,
     "metadata": {},
     "output_type": "execute_result"
    }
   ],
   "source": [
    "import keyword\n",
    "keyword.kwlist"
   ]
  },
  {
   "cell_type": "code",
   "execution_count": 13,
   "id": "eaedfc73-1ea7-4968-a91b-bf49eb6efdfa",
   "metadata": {},
   "outputs": [],
   "source": [
    "seoul_dust_rate = 10"
   ]
  },
  {
   "cell_type": "markdown",
   "id": "7dba53a0-5f00-4ac5-9829-a3315e2f47dc",
   "metadata": {
    "jp-MarkdownHeadingCollapsed": true
   },
   "source": [
    "### 1.1 Number\n",
    "- int\n",
    "- float\n",
    "- complex"
   ]
  },
  {
   "cell_type": "code",
   "execution_count": 15,
   "id": "51c829fd-08e5-40b0-a2a9-b456002a7d4c",
   "metadata": {},
   "outputs": [],
   "source": [
    "a = 100000"
   ]
  },
  {
   "cell_type": "code",
   "execution_count": 16,
   "id": "e4d6b69f-8341-44d2-955e-2b790f70d5fa",
   "metadata": {},
   "outputs": [
    {
     "data": {
      "text/plain": [
       "100000"
      ]
     },
     "execution_count": 16,
     "metadata": {},
     "output_type": "execute_result"
    }
   ],
   "source": [
    "a"
   ]
  },
  {
   "cell_type": "code",
   "execution_count": 17,
   "id": "59596045-b368-4711-8ceb-fd736a71dd5e",
   "metadata": {},
   "outputs": [
    {
     "data": {
      "text/plain": [
       "int"
      ]
     },
     "execution_count": 17,
     "metadata": {},
     "output_type": "execute_result"
    }
   ],
   "source": [
    "type(a)"
   ]
  },
  {
   "cell_type": "code",
   "execution_count": 18,
   "id": "2d50ca43-a840-4ffd-8090-04ef59fab811",
   "metadata": {},
   "outputs": [],
   "source": [
    "b = 1.1"
   ]
  },
  {
   "cell_type": "code",
   "execution_count": 19,
   "id": "d759acec-d872-4d3c-b2c4-a75dd0732cc6",
   "metadata": {},
   "outputs": [
    {
     "data": {
      "text/plain": [
       "float"
      ]
     },
     "execution_count": 19,
     "metadata": {},
     "output_type": "execute_result"
    }
   ],
   "source": [
    "type(b)"
   ]
  },
  {
   "cell_type": "code",
   "execution_count": 20,
   "id": "4616c596-b608-48de-b250-bd2daf04e087",
   "metadata": {},
   "outputs": [],
   "source": [
    "c = 1 -4j"
   ]
  },
  {
   "cell_type": "code",
   "execution_count": 21,
   "id": "c11aec93-8816-4b27-8e97-4c13033f6cef",
   "metadata": {},
   "outputs": [
    {
     "data": {
      "text/plain": [
       "complex"
      ]
     },
     "execution_count": 21,
     "metadata": {},
     "output_type": "execute_result"
    }
   ],
   "source": [
    "type(c)"
   ]
  },
  {
   "cell_type": "markdown",
   "id": "212ef61f-f437-4835-a61e-f2962abb317c",
   "metadata": {
    "jp-MarkdownHeadingCollapsed": true
   },
   "source": [
    "### 1.2 Boolean\n",
    "- True, False로 이루어진 타입"
   ]
  },
  {
   "cell_type": "code",
   "execution_count": 22,
   "id": "93df69ad-4f16-497c-a492-9ee43704af17",
   "metadata": {},
   "outputs": [],
   "source": [
    "a = True"
   ]
  },
  {
   "cell_type": "code",
   "execution_count": 23,
   "id": "8107a62e-ad02-4d47-88c7-09d1f7ba04cd",
   "metadata": {},
   "outputs": [
    {
     "data": {
      "text/plain": [
       "bool"
      ]
     },
     "execution_count": 23,
     "metadata": {},
     "output_type": "execute_result"
    }
   ],
   "source": [
    "type(a)"
   ]
  },
  {
   "cell_type": "code",
   "execution_count": 24,
   "id": "e96bf83d-f367-4b9d-a70a-6f4ff9b82797",
   "metadata": {},
   "outputs": [],
   "source": [
    "b = False"
   ]
  },
  {
   "cell_type": "code",
   "execution_count": 25,
   "id": "9d1b00d7-2cfd-4223-accd-ade016d13c98",
   "metadata": {},
   "outputs": [
    {
     "data": {
      "text/plain": [
       "bool"
      ]
     },
     "execution_count": 25,
     "metadata": {},
     "output_type": "execute_result"
    }
   ],
   "source": [
    "type(b)"
   ]
  },
  {
   "cell_type": "markdown",
   "id": "2bd64bdc-179f-44ef-a8af-bab9e7fcbe6d",
   "metadata": {},
   "source": [
    "### 1.3 None\n",
    "- 아무것도 없는 것도 결국 '정보' 중 하나\n"
   ]
  },
  {
   "cell_type": "code",
   "execution_count": 26,
   "id": "b2f18783-e3d0-475f-b3b3-fcafc53226cb",
   "metadata": {},
   "outputs": [],
   "source": [
    "a = None"
   ]
  },
  {
   "cell_type": "code",
   "execution_count": 27,
   "id": "2b273db2-0cd6-4989-8c9a-61db22a12876",
   "metadata": {},
   "outputs": [
    {
     "data": {
      "text/plain": [
       "NoneType"
      ]
     },
     "execution_count": 27,
     "metadata": {},
     "output_type": "execute_result"
    }
   ],
   "source": [
    "type(a)"
   ]
  },
  {
   "cell_type": "markdown",
   "id": "7843e04e-d261-4a34-8622-ac1add2e7fae",
   "metadata": {},
   "source": [
    "### 1.4 String\n",
    "- 문자의 나열\n",
    "- 문자열은 `''`, `\"\"`를 이용하여 표현\n",
    "- escape`\\`을 통해 문자열 입력 한계 해결"
   ]
  },
  {
   "cell_type": "code",
   "execution_count": 29,
   "id": "c66a799f-345e-4ac0-b44e-451685305708",
   "metadata": {},
   "outputs": [],
   "source": [
    "a = 'hello'"
   ]
  },
  {
   "cell_type": "code",
   "execution_count": 30,
   "id": "bc63ab22-6b61-4f8b-a70c-d35751d4b7c8",
   "metadata": {},
   "outputs": [
    {
     "data": {
      "text/plain": [
       "str"
      ]
     },
     "execution_count": 30,
     "metadata": {},
     "output_type": "execute_result"
    }
   ],
   "source": [
    "type(a)"
   ]
  },
  {
   "cell_type": "code",
   "execution_count": 31,
   "id": "e3035726-712b-414c-a630-4c5aa1cea0fb",
   "metadata": {},
   "outputs": [],
   "source": [
    "b = \"word\""
   ]
  },
  {
   "cell_type": "code",
   "execution_count": 32,
   "id": "00fe1dcd-e28d-4785-a672-a0964b0e9e23",
   "metadata": {},
   "outputs": [
    {
     "data": {
      "text/plain": [
       "str"
      ]
     },
     "execution_count": 32,
     "metadata": {},
     "output_type": "execute_result"
    }
   ],
   "source": [
    "type(b)"
   ]
  },
  {
   "cell_type": "code",
   "execution_count": 36,
   "id": "b341ff10-834e-4bd4-b2e9-a105fe45fcfa",
   "metadata": {},
   "outputs": [
    {
     "name": "stdin",
     "output_type": "stream",
     "text": [
      " 123\n"
     ]
    },
    {
     "name": "stdout",
     "output_type": "stream",
     "text": [
      "123\n",
      "<class 'str'>\n"
     ]
    }
   ],
   "source": [
    "age = input()\n",
    "print(age)\n",
    "print(type(age)) #input의 결과물은 항상 'str'"
   ]
  },
  {
   "cell_type": "code",
   "execution_count": 40,
   "id": "bfad479b-43b0-4297-ac64-d96c7944add2",
   "metadata": {},
   "outputs": [
    {
     "name": "stdout",
     "output_type": "stream",
     "text": [
      "안녕하세요 '은수'에오\n",
      "안녕하세요 \"은수\"에오\n"
     ]
    }
   ],
   "source": [
    "# print('안녕하세요 '은수'에오')\n",
    "print(\"안녕하세요 '은수'에오\")\n",
    "print('안녕하세요 \"은수\"에오')"
   ]
  },
  {
   "cell_type": "code",
   "execution_count": 41,
   "id": "821c0d03-94de-41d7-add6-9c1b0f88e5c7",
   "metadata": {},
   "outputs": [
    {
     "name": "stdout",
     "output_type": "stream",
     "text": [
      "안녕하세요.'은수'에오.\n"
     ]
    }
   ],
   "source": [
    "print('안녕하세요.\\'은수\\'에오.')"
   ]
  },
  {
   "cell_type": "code",
   "execution_count": 46,
   "id": "7e869f80-e96c-4e8c-be27-8e0b9eb7f418",
   "metadata": {},
   "outputs": [
    {
     "name": "stdout",
     "output_type": "stream",
     "text": [
      "\n",
      "안녕하세요.은수에오\n",
      "여러 줄의 데이터를 한번에 작성할때 doc string을 사용함.\n",
      "\n"
     ]
    }
   ],
   "source": [
    "a = '''\n",
    "안녕하세요.은수에오\n",
    "여러 줄의 데이터를 한번에 작성할때 doc string을 사용함.\n",
    "'''\n",
    "print(a)"
   ]
  },
  {
   "cell_type": "code",
   "execution_count": 49,
   "id": "851bca7b-d64f-4cab-985d-28ad153d1b82",
   "metadata": {},
   "outputs": [
    {
     "name": "stdout",
     "output_type": "stream",
     "text": [
      "안녕하세요 \n",
      "은수에오. \t반갑습니다\n"
     ]
    }
   ],
   "source": [
    "print('안녕하세요 \\n은수에오. \\t반갑습니다')"
   ]
  },
  {
   "cell_type": "markdown",
   "id": "12d67c2f-a7b7-4074-926d-cf8f1f9876bd",
   "metadata": {},
   "source": [
    "#### string interpolation\n",
    "\n",
    "1. %-formatting\n",
    "2. str.format()\n",
    "3. f-string"
   ]
  },
  {
   "cell_type": "code",
   "execution_count": 50,
   "id": "896a0d7e-f123-4c27-b590-9c3cd99e65c1",
   "metadata": {},
   "outputs": [],
   "source": [
    "age = 10"
   ]
  },
  {
   "cell_type": "code",
   "execution_count": 51,
   "id": "1b784bb4-0fa0-472a-9bf4-6660e2e2888e",
   "metadata": {},
   "outputs": [
    {
     "name": "stdout",
     "output_type": "stream",
     "text": [
      "은수는 10살입니다\n"
     ]
    }
   ],
   "source": [
    "print('은수는 %s살입니다' %age)"
   ]
  },
  {
   "cell_type": "code",
   "execution_count": 53,
   "id": "1bb874c0-81ff-4900-ab11-372b4606c908",
   "metadata": {},
   "outputs": [
    {
     "name": "stdout",
     "output_type": "stream",
     "text": [
      "은수는 10살입니다\n"
     ]
    }
   ],
   "source": [
    "print('은수는 {}살입니다'.format(age))"
   ]
  },
  {
   "cell_type": "code",
   "execution_count": 54,
   "id": "58ac14e8-642c-466c-a651-e7151d4225b7",
   "metadata": {},
   "outputs": [
    {
     "name": "stdout",
     "output_type": "stream",
     "text": [
      "은수는 10살입니다\n"
     ]
    }
   ],
   "source": [
    "print(f'은수는 {age}살입니다')"
   ]
  },
  {
   "cell_type": "markdown",
   "id": "ea63d3c3-a63d-4cb0-80d8-ccb65dca46bb",
   "metadata": {},
   "source": [
    "## 2. 연산자\n",
    "\n",
    "### 2.1 산술연산자"
   ]
  },
  {
   "cell_type": "code",
   "execution_count": 147,
   "id": "8df7b06b-d6e0-4c50-9ca8-7aa96b016a2e",
   "metadata": {},
   "outputs": [],
   "source": [
    "a = 10\n",
    "b = 3 "
   ]
  },
  {
   "cell_type": "code",
   "execution_count": 149,
   "id": "f2f2e5ac-fdf4-4567-b9d7-313e2dcde392",
   "metadata": {},
   "outputs": [
    {
     "name": "stdout",
     "output_type": "stream",
     "text": [
      "13\n",
      "7\n",
      "30\n",
      "3.3333333333333335\n",
      "1000\n",
      "3\n",
      "1\n",
      "(3, 1)\n"
     ]
    }
   ],
   "source": [
    "print(a + b)\n",
    "print(a - b)\n",
    "print(a * b)\n",
    "print(a / b)\n",
    "print(a ** b)\n",
    "print(a // b)\n",
    "print(a % b) \n",
    "\n",
    "print(divmod(a,b)) # 몫과 나머지 함께 출력"
   ]
  },
  {
   "cell_type": "code",
   "execution_count": 151,
   "id": "3cb9f0f8-c9cb-46a1-b2d3-e87835f3e205",
   "metadata": {},
   "outputs": [
    {
     "name": "stdout",
     "output_type": "stream",
     "text": [
      "<class 'tuple'>\n",
      "4\n"
     ]
    }
   ],
   "source": [
    "result = divmod(a,b)\n",
    "print(type(result))\n",
    "print(result[0] + result[1])"
   ]
  },
  {
   "cell_type": "markdown",
   "id": "5f068a6d-6136-49b1-ae2b-c29bdb2c407b",
   "metadata": {},
   "source": [
    "### 2.2 비교연산자"
   ]
  },
  {
   "cell_type": "code",
   "execution_count": 63,
   "id": "acec6fdd-b27b-4f6c-8f6e-7157cff7dc1a",
   "metadata": {},
   "outputs": [],
   "source": [
    "a = 5\n",
    "b = 10"
   ]
  },
  {
   "cell_type": "code",
   "execution_count": 64,
   "id": "e6db979d-7a2d-4d46-a5d8-ae5f261bd057",
   "metadata": {},
   "outputs": [
    {
     "name": "stdout",
     "output_type": "stream",
     "text": [
      "False\n"
     ]
    }
   ],
   "source": [
    "print(a > b)\n",
    "print(a < b)\n",
    "print(a >= b)\n",
    "print(a <= b)"
   ]
  },
  {
   "cell_type": "code",
   "execution_count": 69,
   "id": "946dacbf-6043-4659-b1f2-d6ab4da6d0f0",
   "metadata": {},
   "outputs": [
    {
     "name": "stdout",
     "output_type": "stream",
     "text": [
      "False\n",
      "True\n"
     ]
    }
   ],
   "source": [
    "print(a == b)\n",
    "print(a != b)"
   ]
  },
  {
   "cell_type": "code",
   "execution_count": 72,
   "id": "207f8206-5721-4968-9d04-50af07741203",
   "metadata": {},
   "outputs": [
    {
     "name": "stdout",
     "output_type": "stream",
     "text": [
      "True\n",
      "True\n",
      "False\n"
     ]
    }
   ],
   "source": [
    "print('hi' == 'hi')\n",
    "print(\"hi\" == 'hi')\n",
    "print(\"Hi\" == 'hi') # 비교연산자는 글자도 가능"
   ]
  },
  {
   "cell_type": "markdown",
   "id": "12a9e244-0ae2-4045-b074-bdefdbc855e1",
   "metadata": {},
   "source": [
    "### 2.3 논리연산자\n",
    "\n",
    "- and : 양쪽 모두 True일 때 True 반환\n",
    "- or : 양쪽 모두 False일 때 False를 반환(=둘 중 하나가 True일 경우 True를 반환)\n",
    "- not : 값을 반대로 전환"
   ]
  },
  {
   "cell_type": "code",
   "execution_count": 74,
   "id": "42490c5d-bb34-4a22-87d3-d79f91bb9eaf",
   "metadata": {},
   "outputs": [
    {
     "name": "stdout",
     "output_type": "stream",
     "text": [
      "True\n",
      "False\n",
      "False\n",
      "False\n"
     ]
    }
   ],
   "source": [
    "print(True and True)\n",
    "print(True and False)\n",
    "print(False and True)\n",
    "print(False and False)"
   ]
  },
  {
   "cell_type": "code",
   "execution_count": 75,
   "id": "4e472764-d281-4f5f-b860-30d38be7dd51",
   "metadata": {},
   "outputs": [
    {
     "name": "stdout",
     "output_type": "stream",
     "text": [
      "True\n",
      "True\n",
      "True\n",
      "False\n"
     ]
    }
   ],
   "source": [
    "print(True or True)\n",
    "print(True or False)\n",
    "print(False or True)\n",
    "print(False or False)"
   ]
  },
  {
   "cell_type": "code",
   "execution_count": 78,
   "id": "320f09e0-a3ed-4fbe-bf0c-fad0387ccc9c",
   "metadata": {},
   "outputs": [
    {
     "name": "stdout",
     "output_type": "stream",
     "text": [
      "False\n",
      "True\n"
     ]
    }
   ],
   "source": [
    "print(not True)\n",
    "print(not False)"
   ]
  },
  {
   "cell_type": "code",
   "execution_count": 80,
   "id": "c5fef28e-c7a9-46cd-ac2f-8600466d0e4d",
   "metadata": {},
   "outputs": [
    {
     "name": "stdout",
     "output_type": "stream",
     "text": [
      "5\n",
      "0\n",
      "0\n",
      "0\n"
     ]
    }
   ],
   "source": [
    "# 단축평가(and) *이거 좀 어려움\n",
    "print(3 and 5)\n",
    "print(3 and 0)\n",
    "print(0 and 3)\n",
    "print(0 and 0)"
   ]
  },
  {
   "cell_type": "code",
   "execution_count": 81,
   "id": "607bcc5f-c27f-48f5-9cf4-8ad3d8a5bab8",
   "metadata": {},
   "outputs": [
    {
     "name": "stdout",
     "output_type": "stream",
     "text": [
      "3\n",
      "3\n",
      "3\n",
      "0\n"
     ]
    }
   ],
   "source": [
    "# 단축평가(or)\n",
    "print(3 or 5)\n",
    "print(3 or 0)\n",
    "print(0 or 3)\n",
    "print(0 or 0)"
   ]
  },
  {
   "cell_type": "markdown",
   "id": "59c6beb1-2ca5-4590-9952-825545244733",
   "metadata": {},
   "source": [
    "### 3.4 복합연산자"
   ]
  },
  {
   "cell_type": "code",
   "execution_count": 83,
   "id": "2ac47a1b-b366-4a33-b489-aaffb135565c",
   "metadata": {},
   "outputs": [],
   "source": [
    "a = 1\n",
    "b = 2"
   ]
  },
  {
   "cell_type": "code",
   "execution_count": 86,
   "id": "ce6ec69c-3766-4c58-852c-f6253defa1ea",
   "metadata": {},
   "outputs": [],
   "source": [
    "print(a += b)\n",
    "print(a -= b) \n",
    "a *= b\n",
    "a /= b"
   ]
  },
  {
   "cell_type": "markdown",
   "id": "879645af-ccf9-4b83-a090-0bfb01253e2d",
   "metadata": {},
   "source": [
    "### 2.5 기타 연산자\n"
   ]
  },
  {
   "cell_type": "code",
   "execution_count": 90,
   "id": "7cfeabc9-b85c-47dc-a40f-caaa8cc81fd8",
   "metadata": {},
   "outputs": [],
   "source": [
    "a = 'hi'\n",
    "b = 'helllo'"
   ]
  },
  {
   "cell_type": "code",
   "execution_count": 91,
   "id": "d7d6c600-0a78-4641-b65a-3138208cdae6",
   "metadata": {},
   "outputs": [
    {
     "name": "stdout",
     "output_type": "stream",
     "text": [
      "hihelllo\n"
     ]
    }
   ],
   "source": [
    "# concatenation\n",
    "print(a + b)\n"
   ]
  },
  {
   "cell_type": "code",
   "execution_count": 92,
   "id": "4d95d472-a4ac-4919-96e7-e64e339dab2b",
   "metadata": {},
   "outputs": [
    {
     "name": "stdout",
     "output_type": "stream",
     "text": [
      "True\n"
     ]
    }
   ],
   "source": [
    "# containment\n",
    "a = [1 ,2, 5]\n",
    "print(1 in a)"
   ]
  },
  {
   "cell_type": "code",
   "execution_count": 98,
   "id": "69c1cf9a-472d-4f3e-a621-3391fdd942fd",
   "metadata": {},
   "outputs": [
    {
     "name": "stdout",
     "output_type": "stream",
     "text": [
      "True\n",
      "False\n"
     ]
    }
   ],
   "source": [
    "# identity\n",
    "a = 256\n",
    "b = 256\n",
    "print(a == b)\n",
    "print(a is b)"
   ]
  },
  {
   "cell_type": "code",
   "execution_count": 96,
   "id": "35f458ce-fe1d-4ab5-b92d-f689933f6ab5",
   "metadata": {},
   "outputs": [
    {
     "name": "stdout",
     "output_type": "stream",
     "text": [
      "True\n",
      "False\n"
     ]
    }
   ],
   "source": [
    "a = 123123\n",
    "b = 123123\n",
    "print(a == b)\n",
    "print(a is b) #메모리값의 차이로 인해 다른걸로 인정"
   ]
  },
  {
   "cell_type": "markdown",
   "id": "a1e12f14-5b3e-47ec-9ba3-817b40098b16",
   "metadata": {},
   "source": [
    "#### 우선순위\n",
    "\n",
    "0. ()을 통해 그룹\n",
    "1. **\n",
    "2. 산술연산자(*,/)\n",
    "3. 산술연산자(+,-)\n",
    "4. 비교연산자 in, is\n",
    "5. not\n",
    "6. and\n",
    "7. or"
   ]
  },
  {
   "cell_type": "code",
   "execution_count": 99,
   "id": "3eca0f19-6cdb-4fc4-86e4-6e46d352aa98",
   "metadata": {},
   "outputs": [
    {
     "name": "stdout",
     "output_type": "stream",
     "text": [
      "-81\n",
      "81\n"
     ]
    }
   ],
   "source": [
    "print(-3 ** 4)\n",
    "print((-3) ** 4)"
   ]
  },
  {
   "cell_type": "markdown",
   "id": "2824cf3f-ce1e-480b-94c9-5334f04b8d83",
   "metadata": {},
   "source": [
    "# 3. 형변환\n",
    "### 3-1. 암시적 형변환"
   ]
  },
  {
   "cell_type": "code",
   "execution_count": 100,
   "id": "762fbb27-56b5-4147-b429-3bdff17595f3",
   "metadata": {},
   "outputs": [],
   "source": [
    "a = True\n",
    "b = False\n",
    "c = 1"
   ]
  },
  {
   "cell_type": "code",
   "execution_count": 102,
   "id": "8eda58a2-6d63-4bcf-a418-78ec105d7de8",
   "metadata": {},
   "outputs": [
    {
     "name": "stdout",
     "output_type": "stream",
     "text": [
      "1\n",
      "-1\n"
     ]
    }
   ],
   "source": [
    "print(a+b) #알아서 True를 1, False를 0으로 인식\n",
    "print(b-c)"
   ]
  },
  {
   "cell_type": "code",
   "execution_count": 106,
   "id": "74c9a895-8051-4b0d-868d-5c0b6446795d",
   "metadata": {},
   "outputs": [],
   "source": [
    "int_num = 3\n",
    "float_num = 3.3\n",
    "complex_num = 3 + 3j"
   ]
  },
  {
   "cell_type": "code",
   "execution_count": 108,
   "id": "10034381-86ef-4aeb-9322-e742f3fa43a6",
   "metadata": {},
   "outputs": [
    {
     "name": "stdout",
     "output_type": "stream",
     "text": [
      "6.3\n",
      "<class 'float'>\n"
     ]
    }
   ],
   "source": [
    "print(int_num + float_num)\n",
    "print(type(int_num + float_num))"
   ]
  },
  {
   "cell_type": "markdown",
   "id": "f635ad48-b15d-43e1-a9e7-5bb6e49b1a7a",
   "metadata": {},
   "source": [
    "### 3-2. 명시적 형변환\n",
    "- int() : string, float => int\n",
    "- float() : string, int => float\n",
    "- str() : int, float => str\n",
    "- bool() : string, int, list => bool"
   ]
  },
  {
   "cell_type": "code",
   "execution_count": 123,
   "id": "67f83905-3ca0-4139-a773-c80a5ed23533",
   "metadata": {},
   "outputs": [
    {
     "name": "stdout",
     "output_type": "stream",
     "text": [
      "1a\n"
     ]
    }
   ],
   "source": [
    "a = 1\n",
    "b = 'a'\n",
    "print(str(a) + b)"
   ]
  },
  {
   "cell_type": "code",
   "execution_count": 127,
   "id": "8f279c50-e79c-462c-ab2d-efd5ef6f1699",
   "metadata": {},
   "outputs": [
    {
     "name": "stdout",
     "output_type": "stream",
     "text": [
      "<class 'str'>\n",
      "<class 'int'>\n"
     ]
    }
   ],
   "source": [
    "a = '3'\n",
    "print(type(a))\n",
    "print(type(int(a)))"
   ]
  },
  {
   "cell_type": "code",
   "execution_count": 129,
   "id": "7ef3fe67-3adc-481e-851d-553a1fac79d2",
   "metadata": {},
   "outputs": [],
   "source": [
    "a = 'a'\n",
    "# print(int(a))"
   ]
  },
  {
   "cell_type": "code",
   "execution_count": 131,
   "id": "ac279ca8-a416-4b47-b63e-9824e5688fba",
   "metadata": {},
   "outputs": [
    {
     "name": "stdout",
     "output_type": "stream",
     "text": [
      "3.3\n"
     ]
    }
   ],
   "source": [
    "a = '3.3'\n",
    "#print(int(a))\n",
    "print(float(a))"
   ]
  },
  {
   "cell_type": "code",
   "execution_count": 133,
   "id": "1cbb35bf-da6c-4e4c-9ea4-e0b712a97ad7",
   "metadata": {},
   "outputs": [
    {
     "name": "stdout",
     "output_type": "stream",
     "text": [
      "True\n",
      "False\n"
     ]
    }
   ],
   "source": [
    "a = 1\n",
    "b = 0\n",
    "print(bool(a))\n",
    "print(bool(b))"
   ]
  },
  {
   "cell_type": "code",
   "execution_count": 136,
   "id": "fb5e769a-becd-4ed3-b91c-142925bc2074",
   "metadata": {},
   "outputs": [
    {
     "name": "stdout",
     "output_type": "stream",
     "text": [
      "False\n",
      "True\n"
     ]
    }
   ],
   "source": [
    "print(bool([]))\n",
    "print(bool([1,2,3]))"
   ]
  },
  {
   "cell_type": "markdown",
   "id": "f39adaa1-218e-4120-b7ca-133bc624d5e1",
   "metadata": {},
   "source": [
    "## 4. 시퀀스 자료형\n",
    "- 시퀀스는 데이터의 '순서'대로 나열된 자료구조\n",
    "- 순서대로 나열되었다는 것은 '정렬'된 것과 다르다!\n",
    "\n",
    "1. List\n",
    "2. Tuple\n",
    "3. Range\n",
    "4. String"
   ]
  },
  {
   "cell_type": "markdown",
   "id": "ede194a8-d2a8-4c83-a2e5-673c5474edd1",
   "metadata": {},
   "source": [
    "### 4.1 List(배열)\n",
    "- 선언 : 변수이름 = [ value1, value2, value3 ]\n",
    "- 접근 : 변수이름[ index ]"
   ]
  },
  {
   "cell_type": "code",
   "execution_count": 138,
   "id": "05fe9661-d0df-483f-8662-fe772655e9db",
   "metadata": {},
   "outputs": [
    {
     "name": "stdout",
     "output_type": "stream",
     "text": [
      "[]\n",
      "<class 'list'>\n"
     ]
    }
   ],
   "source": [
    "l = []\n",
    "print(l)\n",
    "print(type(l))"
   ]
  },
  {
   "cell_type": "code",
   "execution_count": 142,
   "id": "5937301d-0ab8-4f06-91ec-3e5bcac6706c",
   "metadata": {},
   "outputs": [
    {
     "name": "stdout",
     "output_type": "stream",
     "text": [
      "['서울', '대전', '부산']\n",
      "서울\n",
      "['서울', '광주', '부산']\n"
     ]
    }
   ],
   "source": [
    "location = [ '서울', '대전', '부산']\n",
    "print(location)\n",
    "print(location[0])\n",
    "# print(location[3])\n",
    "\n",
    "location[1] = '광주'\n",
    "print(location)"
   ]
  },
  {
   "cell_type": "markdown",
   "id": "0f5bc7e5-741c-4c34-a459-7fbc993e36ab",
   "metadata": {},
   "source": [
    "### 4.2 Tuple(튜플)\n",
    "- 선언 : 변수이름 = ( value1, value2, value3 )\n",
    "- 접근 : 변수이름[ index ]\n",
    "- 리스트와 유사하지만 수정불가능(imutable)이다. 새로운 값으로 할당 불가능"
   ]
  },
  {
   "cell_type": "code",
   "execution_count": 144,
   "id": "14b4b7f1-6f64-4653-8b0c-3be9a5e92daa",
   "metadata": {},
   "outputs": [
    {
     "name": "stdout",
     "output_type": "stream",
     "text": [
      "(1, 2, 3)\n",
      "1\n"
     ]
    }
   ],
   "source": [
    "numbers = ( 1,2,3 )\n",
    "print(numbers)\n",
    "print(numbers[0])"
   ]
  },
  {
   "cell_type": "code",
   "execution_count": 153,
   "id": "e89cc82b-a1c8-441d-b104-b9f922d0d932",
   "metadata": {},
   "outputs": [
    {
     "name": "stdout",
     "output_type": "stream",
     "text": [
      "1 2\n",
      "2 1\n"
     ]
    }
   ],
   "source": [
    "x,y = (1,2)  #(x,y) = (1,2) / '튜플'로 전제\n",
    "print(x,y)\n",
    "\n",
    "x,y = y,x\n",
    "print(x,y)"
   ]
  },
  {
   "cell_type": "markdown",
   "id": "5caee2a9-293e-4dc0-8c28-e2228ea94c63",
   "metadata": {},
   "source": [
    "### 4.3 Range\n",
    "- Range(n) : 0부터 n-1까지\n",
    "- Range(n, m) : n부타 m-1까지\n",
    "- Range(n, m, s) : n부터 m-1까지 +s만큼 증가\n",
    "- Range는 범위이기 때문에 숫자 하나하나를 세부적으로 볼 수 x"
   ]
  },
  {
   "cell_type": "code",
   "execution_count": 158,
   "id": "017a5c16-bb99-45ba-a925-94810910cb21",
   "metadata": {},
   "outputs": [
    {
     "name": "stdout",
     "output_type": "stream",
     "text": [
      "[0, 1, 2, 3, 4, 5, 6, 7, 8, 9, 10, 11, 12, 13, 14, 15, 16, 17, 18, 19, 20, 21, 22, 23, 24, 25, 26, 27, 28, 29, 30, 31, 32, 33, 34, 35, 36, 37, 38, 39, 40, 41, 42, 43, 44]\n"
     ]
    }
   ],
   "source": [
    "lotto = [1,2,3,4,5]\n",
    "lotto = range(45)\n",
    "print(list(lotto))  #꼭 list로 형변화를 해주어야 개별 숫자를 볼 수 O"
   ]
  },
  {
   "cell_type": "code",
   "execution_count": 166,
   "id": "1960e786-5a87-46ff-8ff9-d5f1eef394b0",
   "metadata": {},
   "outputs": [
    {
     "name": "stdout",
     "output_type": "stream",
     "text": [
      "[2, 4, 6, 8, 10, 12, 14, 16, 18, 20, 22, 24, 26, 28, 30, 32, 34, 36, 38, 40, 42, 44]\n",
      "[1, 3, 5, 7, 9, 11, 13, 15, 17, 19, 21, 23, 25, 27, 29, 31, 33, 35, 37, 39, 41, 43]\n",
      "[45, 43, 41, 39, 37, 35, 33, 31, 29, 27, 25, 23, 21, 19, 17, 15, 13, 11, 9, 7, 5, 3]\n"
     ]
    }
   ],
   "source": [
    "even = list(range(2,45,2))\n",
    "print(even)\n",
    "\n",
    "odd = list(range(1,45,2))\n",
    "print(odd)\n",
    "\n",
    "numbers = list(range(45,1,-2))\n",
    "print(numbers)"
   ]
  },
  {
   "cell_type": "markdown",
   "id": "08f75fed-cc96-442e-8d97-ac5225c9cb65",
   "metadata": {},
   "source": [
    "### 4.4 String\n",
    "- 기본 데이터 구조 참고\n"
   ]
  },
  {
   "cell_type": "markdown",
   "id": "1db672cc-1339-4b8d-86fe-e210c53b5036",
   "metadata": {},
   "source": [
    "### 4.5 시퀀스에서 활용가능한 연산/함수"
   ]
  },
  {
   "cell_type": "code",
   "execution_count": 169,
   "id": "3315f816-9ef5-411e-99e1-f49edc35aa75",
   "metadata": {},
   "outputs": [],
   "source": [
    "my_list = [1, 2, 3, 4, 5]\n",
    "my_tuple = (1, 2, 3, 4, 5)\n",
    "my_range = range(1,6)\n",
    "my_string = '12345'"
   ]
  },
  {
   "cell_type": "code",
   "execution_count": 170,
   "id": "3d746506-e265-470d-87f2-e9ed506d8678",
   "metadata": {},
   "outputs": [
    {
     "name": "stdout",
     "output_type": "stream",
     "text": [
      "1\n",
      "1\n",
      "1\n",
      "1\n"
     ]
    }
   ],
   "source": [
    "# indexing\n",
    "print(my_list[0])\n",
    "print(my_tuple[0])\n",
    "print(my_range[0])\n",
    "print(my_string[0])"
   ]
  },
  {
   "cell_type": "code",
   "execution_count": 177,
   "id": "8a3abc7c-4184-49e1-a34e-836bd1cfdf96",
   "metadata": {},
   "outputs": [
    {
     "name": "stdout",
     "output_type": "stream",
     "text": [
      "[2, 3]\n",
      "(2, 3)\n",
      "range(2, 4)\n",
      "23\n",
      "2\n"
     ]
    }
   ],
   "source": [
    "# slicing\n",
    "print(my_list[1:3])\n",
    "print(my_tuple[1:3])\n",
    "print(my_range[1:3]) # range(2,4) = 2,3\n",
    "print(my_string[1:3])\n",
    "print(my_string[1:3:2])"
   ]
  },
  {
   "cell_type": "code",
   "execution_count": 183,
   "id": "d3b0c391-8773-4b64-95d3-a39388ac1344",
   "metadata": {},
   "outputs": [
    {
     "name": "stdout",
     "output_type": "stream",
     "text": [
      "True\n",
      "True\n",
      "True\n",
      "False\n",
      "True\n"
     ]
    }
   ],
   "source": [
    "# in\n",
    "print('1'in my_string)\n",
    "print(1 in my_list)\n",
    "print(1 in my_range)\n",
    "\n",
    "# not in \n",
    "print(1 not in my_list)\n",
    "print(7 not in my_range)"
   ]
  },
  {
   "cell_type": "code",
   "execution_count": 191,
   "id": "9c7067f0-42c8-44ad-b358-3ca371f5bf74",
   "metadata": {},
   "outputs": [
    {
     "name": "stdout",
     "output_type": "stream",
     "text": [
      "[1, 2, 3, 4, 5, 6, 7, 8, 9, 10]\n",
      "(1, 2, 3, 4, 5, 6, 7, 8, 9, 10)\n",
      "12345678910\n"
     ]
    }
   ],
   "source": [
    "# concatenation\n",
    "print(my_list + [6,7,8,9,10])\n",
    "print(my_tuple + (6,7,8,9,10))\n",
    "print(my_string + '678910')"
   ]
  },
  {
   "cell_type": "code",
   "execution_count": 194,
   "id": "a47f931d-7158-48bb-9fd4-12d895ece02b",
   "metadata": {},
   "outputs": [
    {
     "name": "stdout",
     "output_type": "stream",
     "text": [
      "##########\n",
      "[0, 0, 0, 0, 0, 0, 0, 0, 0, 0]\n"
     ]
    }
   ],
   "source": [
    "# *\n",
    "print('#' * 10)\n",
    "print([0] * 10)"
   ]
  },
  {
   "cell_type": "code",
   "execution_count": 199,
   "id": "fa499ccd-fd80-470e-ad5d-7703d1888bd6",
   "metadata": {},
   "outputs": [
    {
     "name": "stdout",
     "output_type": "stream",
     "text": [
      "5\n",
      "5\n",
      "1\n"
     ]
    }
   ],
   "source": [
    "print(len(my_list))\n",
    "print(max(my_list))\n",
    "print(min(my_range))"
   ]
  },
  {
   "cell_type": "markdown",
   "id": "83964cec-5c89-4739-8b7a-4f77d127d770",
   "metadata": {},
   "source": [
    "## 5. 시퀀스형이 아닌 자료구조"
   ]
  },
  {
   "cell_type": "markdown",
   "id": "bfc7b836-361b-434c-b0f5-07653ddeb03d",
   "metadata": {},
   "source": [
    "### 5.1 Set\n",
    "수학에서 사용하는 집합과 동일한 개념\n",
    "\n",
    "- 선언 : 변수이름 = { value1, value2, value3 }\n",
    "- 중복값이 없음. "
   ]
  },
  {
   "cell_type": "code",
   "execution_count": 203,
   "id": "f8d58c9b-2b14-4d85-ae04-b40e4565dc33",
   "metadata": {},
   "outputs": [],
   "source": [
    "my_set_a = { 1, 3, 5, 7, 9 }\n",
    "my_set_b = { 1, 2, 3, 4, 5 }"
   ]
  },
  {
   "cell_type": "code",
   "execution_count": 206,
   "id": "2c43a9a0-507c-401c-81cd-1f48a51d7c24",
   "metadata": {},
   "outputs": [
    {
     "name": "stdout",
     "output_type": "stream",
     "text": [
      "{9, 7}\n",
      "{1, 2, 3, 4, 5, 7, 9}\n",
      "{1, 3, 5}\n"
     ]
    }
   ],
   "source": [
    "print(my_set_a - my_set_b)\n",
    "print(my_set_a | my_set_b)\n",
    "print(my_set_a & my_set_b)"
   ]
  },
  {
   "cell_type": "code",
   "execution_count": 207,
   "id": "1c8ab400-27d6-4128-aa31-aaa4d7f64631",
   "metadata": {},
   "outputs": [
    {
     "name": "stdout",
     "output_type": "stream",
     "text": [
      "{1, 2, 3, 4, 5, 6}\n"
     ]
    }
   ],
   "source": [
    "test_set = { 1,2,3,4,1,3,4,5,6,1,2,3,4,5 }\n",
    "print(test_set) # 중복값은 모두 제거"
   ]
  },
  {
   "cell_type": "markdown",
   "id": "29365637-d715-484d-9492-4cead09b5513",
   "metadata": {},
   "source": [
    "### 5.2 Dictionary\n",
    "- 선언 : 변수이름 = { key1 : value1, key2 : value2, key3 : value 3 }\n",
    "- 접근 : 변수이름[ key ]"
   ]
  },
  {
   "cell_type": "code",
   "execution_count": 214,
   "id": "1f9df004-226a-4b87-8692-ac3d568dea23",
   "metadata": {},
   "outputs": [
    {
     "name": "stdout",
     "output_type": "stream",
     "text": [
      "{'서울': 2, '대전': '03', '부산': '04'}\n"
     ]
    }
   ],
   "source": [
    "my_dict = {'서울': 2, '대전': '03', '부산': '04'}\n",
    "print(my_dict)"
   ]
  },
  {
   "cell_type": "code",
   "execution_count": 217,
   "id": "fa061893-1b10-44c5-aa83-cab165fa490a",
   "metadata": {},
   "outputs": [
    {
     "name": "stdout",
     "output_type": "stream",
     "text": [
      "{'name': 'changhee', 'height': '123', 'location': 'seoul', 'age': 10}\n",
      "seoul\n"
     ]
    }
   ],
   "source": [
    "my_info = {\n",
    "    'name' : 'changhee',\n",
    "    'height' : '123',\n",
    "    'location' : 'seoul',\n",
    "    'age' : 10\n",
    "}\n",
    "print(my_info)\n",
    "print(my_info['location'])"
   ]
  },
  {
   "cell_type": "code",
   "execution_count": 222,
   "id": "34bf80b7-37d1-4954-a7c3-6bdac0cd4954",
   "metadata": {},
   "outputs": [
    {
     "name": "stdout",
     "output_type": "stream",
     "text": [
      "dict_keys(['name', 'height', 'location', 'age'])\n",
      "seoul\n"
     ]
    }
   ],
   "source": [
    "print(my_info.keys())\n",
    "print(my_info['location'])"
   ]
  },
  {
   "cell_type": "code",
   "execution_count": null,
   "id": "6d042c6b-eacd-4805-a0e3-881317b54ce9",
   "metadata": {},
   "outputs": [],
   "source": []
  },
  {
   "cell_type": "code",
   "execution_count": null,
   "id": "2c7285aa-8dce-48d9-96d8-0cde1b080987",
   "metadata": {},
   "outputs": [],
   "source": []
  }
 ],
 "metadata": {
  "kernelspec": {
   "display_name": "Python 3 (ipykernel)",
   "language": "python",
   "name": "python3"
  },
  "language_info": {
   "codemirror_mode": {
    "name": "ipython",
    "version": 3
   },
   "file_extension": ".py",
   "mimetype": "text/x-python",
   "name": "python",
   "nbconvert_exporter": "python",
   "pygments_lexer": "ipython3",
   "version": "3.12.4"
  }
 },
 "nbformat": 4,
 "nbformat_minor": 5
}
