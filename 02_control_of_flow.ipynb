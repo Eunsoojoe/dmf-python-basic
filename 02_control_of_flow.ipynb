{
 "cells": [
  {
   "cell_type": "markdown",
   "id": "3a8a2ffa-091f-438e-add0-64be0ecced62",
   "metadata": {},
   "source": [
    "# 제어문\n",
    "\n",
    "## 조건문 (if문)\n",
    "\n",
    "1. if문은 반드시 일정한 '참/거짓'을 판단할 수 있는 '조건식'과 함께 사용된다. (`if<조건식>:`)\n",
    "2. `<조건식>` 참(True)인 경우 : 이후의 문장을 실행\n",
    "3. `<조건식>` 거짓(False)인 경우 : else 이후의 문장을 실행\n",
    "\n",
    "```\n",
    "if <조건식> :\n",
    "    if의 조건식이 참인 경우 실행\n",
    "else :\n",
    "    if의 조건식이 거짓인 경우 실행\n",
    "```"
   ]
  },
  {
   "cell_type": "code",
   "execution_count": 2,
   "id": "2ab9c614-d642-41a8-888a-56429c1c7951",
   "metadata": {},
   "outputs": [
    {
     "name": "stdin",
     "output_type": "stream",
     "text": [
      " 12/25\n"
     ]
    },
    {
     "name": "stdout",
     "output_type": "stream",
     "text": [
      "크리스마스에오\n"
     ]
    }
   ],
   "source": [
    "my_string = input()\n",
    "\n",
    "if my_string == '12/25':\n",
    "    print('크리스마스에오')\n",
    "else:\n",
    "    print('크리스마스가 아니에오')"
   ]
  },
  {
   "cell_type": "code",
   "execution_count": 5,
   "id": "d8e962bd-7a16-43e9-bc02-9dea12d93bf7",
   "metadata": {},
   "outputs": [
    {
     "name": "stdin",
     "output_type": "stream",
     "text": [
      "숫자를 입력해줘 123\n"
     ]
    },
    {
     "name": "stdout",
     "output_type": "stream",
     "text": [
      "홀수에오\n"
     ]
    }
   ],
   "source": [
    "my_number = input('숫자를 입력해줘')\n",
    "\n",
    "#result = int(my_number) % 2\n",
    "if int(my_number) % 2 == 0:\n",
    "    print('짝수에오')\n",
    "else:\n",
    "    print('홀수에오')\n",
    "\n",
    "###\n",
    "if bool(result):\n",
    "    print('홀수에오')\n",
    "else:\n",
    "    print('짝수에오')\n",
    "###\n"
   ]
  },
  {
   "cell_type": "markdown",
   "id": "2604af4e-f0e8-4852-8016-8f6714264419",
   "metadata": {},
   "source": [
    "### elif\n",
    "```\n",
    "if <조건식>:\n",
    "    if 조건이 참인 경우\n",
    "elif <조건식>:\n",
    "    elif 조건이 참인 경우\n",
    "...\n",
    "else:\n",
    "    위의 조건식이 하나도 부합하지 않는 경우\n",
    "```"
   ]
  },
  {
   "cell_type": "code",
   "execution_count": 12,
   "id": "4f140785-8e70-4268-bf06-0fb110ecf6e7",
   "metadata": {},
   "outputs": [
    {
     "name": "stdin",
     "output_type": "stream",
     "text": [
      " 94\n"
     ]
    }
   ],
   "source": [
    "score = int(input())"
   ]
  },
  {
   "cell_type": "code",
   "execution_count": 13,
   "id": "8373e452-9310-452e-b604-01f2a6c7d76a",
   "metadata": {},
   "outputs": [
    {
     "name": "stdout",
     "output_type": "stream",
     "text": [
      "A\n"
     ]
    }
   ],
   "source": [
    "# 90점 이상 A\n",
    "# 80~89 B\n",
    "# 70~79 C\n",
    "# 나머지 F\n",
    "\n",
    "if score >= 90:\n",
    "    print('A')\n",
    "elif score >= 80 and score <= 89:\n",
    "    print('B')\n",
    "elif 70 <= score <= 79:\n",
    "    print('C')\n",
    "else:\n",
    "    print('F')"
   ]
  },
  {
   "cell_type": "code",
   "execution_count": 17,
   "id": "7fecfeeb-9515-4b8f-8671-90c6ba1e7fb2",
   "metadata": {},
   "outputs": [
    {
     "name": "stdout",
     "output_type": "stream",
     "text": [
      "A\n"
     ]
    }
   ],
   "source": [
    "if score >= 90:\n",
    "    if score >= 95:\n",
    "        print(\"A+\")\n",
    "    else:\n",
    "        print(\"A\")\n",
    "elif score >= 80:\n",
    "    print(\"B\")"
   ]
  },
  {
   "cell_type": "markdown",
   "id": "70b461e9-1cd1-457a-aefb-7a0645208d58",
   "metadata": {},
   "source": [
    "### 조건표현식\n",
    "\n",
    "```\n",
    "true_value if <조건식> else false_value\n",
    "```"
   ]
  },
  {
   "cell_type": "code",
   "execution_count": 19,
   "id": "70ca35b6-75c5-45c3-ab41-ab0e582e6d92",
   "metadata": {},
   "outputs": [
    {
     "name": "stdout",
     "output_type": "stream",
     "text": [
      "False\n"
     ]
    }
   ],
   "source": [
    "print('True') if 1 < 0 else print('False')"
   ]
  },
  {
   "cell_type": "code",
   "execution_count": 20,
   "id": "4dd99e9b-154d-436c-a927-41338f762726",
   "metadata": {},
   "outputs": [
    {
     "name": "stdout",
     "output_type": "stream",
     "text": [
      "5\n"
     ]
    }
   ],
   "source": [
    "num = 5\n",
    "value = num if num >=0 else 0\n",
    "print(value)"
   ]
  },
  {
   "cell_type": "code",
   "execution_count": 22,
   "id": "e6dc7ed3-09ba-44b2-8213-bc3dd666112b",
   "metadata": {},
   "outputs": [
    {
     "name": "stdout",
     "output_type": "stream",
     "text": [
      "5\n"
     ]
    }
   ],
   "source": [
    "num = 5\n",
    "if num>=0:\n",
    "    value = num\n",
    "else:\n",
    "    value = 0\n",
    "print(num)"
   ]
  },
  {
   "cell_type": "code",
   "execution_count": 26,
   "id": "c5d58003-3d2b-4247-93c2-eda59c446859",
   "metadata": {},
   "outputs": [
    {
     "name": "stdout",
     "output_type": "stream",
     "text": [
      "짝수\n"
     ]
    }
   ],
   "source": [
    "num = 2\n",
    "result = '홀수' if num %2 else '짝수'\n",
    "print(result)"
   ]
  },
  {
   "cell_type": "markdown",
   "id": "203fc474-a96a-431f-a50b-e5a0ffa511fe",
   "metadata": {},
   "source": [
    "# 반복문 \n",
    "\n",
    "### while문 \n",
    "```\n",
    "while <조건식> :\n",
    "    실행할 코드\n",
    "```"
   ]
  },
  {
   "cell_type": "code",
   "execution_count": 1,
   "id": "76345a0f-cd3f-4e93-b5ad-51213b42e2b6",
   "metadata": {},
   "outputs": [
    {
     "name": "stdout",
     "output_type": "stream",
     "text": [
      "0\n",
      "1\n",
      "2\n",
      "3\n",
      "4\n"
     ]
    }
   ],
   "source": [
    "a = 0\n",
    "while a < 5:\n",
    "    print(a)\n",
    "    a += 1\n",
    "    "
   ]
  },
  {
   "cell_type": "code",
   "execution_count": 3,
   "id": "d192b478-05f0-4c2c-8b81-2a9300c8c156",
   "metadata": {},
   "outputs": [
    {
     "name": "stdin",
     "output_type": "stream",
     "text": [
      "안녕이라고 말해줘 하이\n",
      "안녕이라고 말해줘 안녕\n"
     ]
    }
   ],
   "source": [
    "greeting = ''\n",
    "\n",
    "while greeting != '안녕':\n",
    "    greeting = input('안녕이라고 말해줘')\n"
   ]
  },
  {
   "cell_type": "markdown",
   "id": "292769b8-001d-4639-8429-4cda701e34fd",
   "metadata": {},
   "source": [
    "### For문\n",
    "정해진 범위 내의 반복\n",
    "```\n",
    "for variable in sequence:\n",
    "    실행할 코드 "
   ]
  },
  {
   "cell_type": "code",
   "execution_count": 4,
   "id": "db48233c-99d2-4b80-a6d6-779fa89ac308",
   "metadata": {},
   "outputs": [
    {
     "name": "stdout",
     "output_type": "stream",
     "text": [
      "1\n",
      "2\n",
      "3\n",
      "4\n",
      "5\n"
     ]
    }
   ],
   "source": [
    "numbers = [1, 2, 3, 4, 5]\n",
    "\n",
    "for number in numbers:\n",
    "    print(number)"
   ]
  },
  {
   "cell_type": "code",
   "execution_count": 5,
   "id": "f26c0677-1295-4b48-8feb-3d22a044b1d4",
   "metadata": {},
   "outputs": [
    {
     "name": "stdin",
     "output_type": "stream",
     "text": [
      "단어를 입력하세요 apple\n"
     ]
    }
   ],
   "source": [
    "word = input('단어를 입력하세요')"
   ]
  },
  {
   "cell_type": "code",
   "execution_count": 6,
   "id": "4a9eae9f-74d9-4dbb-974f-f67df6c086f0",
   "metadata": {},
   "outputs": [
    {
     "name": "stdout",
     "output_type": "stream",
     "text": [
      "a\n",
      "p\n",
      "p\n",
      "l\n",
      "e\n"
     ]
    }
   ],
   "source": [
    "for char in word:\n",
    "    print(char)"
   ]
  },
  {
   "cell_type": "code",
   "execution_count": 7,
   "id": "de944184-2f83-4d2a-bfcd-bbb970d421df",
   "metadata": {},
   "outputs": [
    {
     "name": "stdout",
     "output_type": "stream",
     "text": [
      "0\n",
      "1\n",
      "2\n",
      "3\n",
      "4\n"
     ]
    }
   ],
   "source": [
    "for i in range(5):\n",
    "    print(i)"
   ]
  },
  {
   "cell_type": "code",
   "execution_count": 8,
   "id": "61c532f7-9120-42f1-ad8c-923c4a11f4b0",
   "metadata": {},
   "outputs": [
    {
     "name": "stdout",
     "output_type": "stream",
     "text": [
      "1\n",
      "2\n",
      "3\n",
      "4\n",
      "5\n"
     ]
    }
   ],
   "source": [
    "for i in (1,2,3,4,5):\n",
    "    print(i)"
   ]
  },
  {
   "cell_type": "code",
   "execution_count": 10,
   "id": "13188ad0-fc87-4600-8ea7-c059d28cb573",
   "metadata": {},
   "outputs": [
    {
     "name": "stdout",
     "output_type": "stream",
     "text": [
      "1\n",
      "3\n",
      "5\n",
      "7\n",
      "9\n",
      "11\n",
      "13\n",
      "15\n",
      "17\n",
      "19\n",
      "21\n",
      "23\n",
      "25\n",
      "27\n",
      "29\n"
     ]
    }
   ],
   "source": [
    "for i in range(1,31):\n",
    "    if i%2 == 1:\n",
    "        print(i)"
   ]
  },
  {
   "cell_type": "code",
   "execution_count": 13,
   "id": "ed114cdc-0df3-415c-9b11-500018b95e77",
   "metadata": {},
   "outputs": [
    {
     "name": "stdout",
     "output_type": "stream",
     "text": [
      "(0, '라면')\n",
      "(1, '돈까스')\n",
      "(2, '떡볶이')\n",
      "(3, '덮밥')\n",
      "(4, '냉면')\n",
      "0\n",
      "라면\n",
      "1\n",
      "돈까스\n",
      "2\n",
      "떡볶이\n",
      "3\n",
      "덮밥\n",
      "4\n",
      "냉면\n"
     ]
    }
   ],
   "source": [
    "# enumerate : 인덱스값이 중요할 때 사용\n",
    "menus = ['라면','돈까스','떡볶이','덮밥','냉면']\n",
    "for menu in enumerate(menus):\n",
    "    print(menu)\n",
    "\n",
    "for index, menu in enumerate(menus):\n",
    "    print(index)\n",
    "    print(menu)"
   ]
  },
  {
   "cell_type": "markdown",
   "id": "ea58af6e-dce3-42c0-9d5e-315ba36f697c",
   "metadata": {},
   "source": [
    "### Dictionary 반복\n",
    "- 시퀀스는 아니지만 따로 추출한 key 목록은 시퀀스에 해당\n",
    "1. for key in dict\n",
    "2. for value in dict.keys():\n",
    "3. for key in dict.values():\n",
    "4. for key, value in dict.items():"
   ]
  },
  {
   "cell_type": "code",
   "execution_count": 15,
   "id": "2cbf9b98-8f1a-4636-933c-ca734f4e5fd7",
   "metadata": {},
   "outputs": [],
   "source": [
    "info = {\n",
    "    'name': '이동식',\n",
    "    'location': 'seoul',\n",
    "    'phone': '010-1234-1234',\n",
    "    'age': 30,\n",
    "}"
   ]
  },
  {
   "cell_type": "code",
   "execution_count": 18,
   "id": "1c10a3cf-9cd6-4979-b95c-a91fadc5b377",
   "metadata": {},
   "outputs": [
    {
     "name": "stdout",
     "output_type": "stream",
     "text": [
      "name 이동식\n",
      "location seoul\n",
      "phone 010-1234-1234\n",
      "age 30\n"
     ]
    }
   ],
   "source": [
    "for category in info:\n",
    "    print(category,info[category])"
   ]
  },
  {
   "cell_type": "code",
   "execution_count": 23,
   "id": "d8e30742-37d8-4622-9821-7af304deb458",
   "metadata": {},
   "outputs": [
    {
     "name": "stdout",
     "output_type": "stream",
     "text": [
      "name\n",
      "이동식\n",
      "location\n",
      "seoul\n",
      "phone\n",
      "010-1234-1234\n",
      "age\n",
      "30\n"
     ]
    }
   ],
   "source": [
    "for key in info.keys():\n",
    "    print(key)\n",
    "    print(info[key])"
   ]
  },
  {
   "cell_type": "code",
   "execution_count": 25,
   "id": "b6e68628-ecaa-43f7-9c78-2bf279c20ec1",
   "metadata": {},
   "outputs": [
    {
     "name": "stdout",
     "output_type": "stream",
     "text": [
      "이동식\n",
      "seoul\n",
      "010-1234-1234\n",
      "30\n"
     ]
    }
   ],
   "source": [
    "# info.values()\n",
    "for value in info.values():\n",
    "    print(value)\n",
    "    "
   ]
  },
  {
   "cell_type": "code",
   "execution_count": 28,
   "id": "e1655002-058a-469e-8b6d-23cbd43c87ea",
   "metadata": {},
   "outputs": [
    {
     "name": "stdout",
     "output_type": "stream",
     "text": [
      "0 ('name', '이동식')\n",
      "1 ('location', 'seoul')\n",
      "2 ('phone', '010-1234-1234')\n",
      "3 ('age', 30)\n"
     ]
    }
   ],
   "source": [
    "for key,value in enumerate(info.items()):\n",
    "    print(key,value)"
   ]
  },
  {
   "cell_type": "code",
   "execution_count": 29,
   "id": "6f0c69c3-3b60-49c0-8a96-5f4a48d7d5f4",
   "metadata": {},
   "outputs": [],
   "source": [
    "blood_type = {\n",
    "    'A': 5,\n",
    "    'B': 3,\n",
    "    'O': 2,\n",
    "    'AB': 2,\n",
    "}"
   ]
  },
  {
   "cell_type": "code",
   "execution_count": 33,
   "id": "89d9f121-a6dc-4524-9338-700b270000fb",
   "metadata": {},
   "outputs": [
    {
     "name": "stdout",
     "output_type": "stream",
     "text": [
      "혈액형의 종류는 A B O AB 가 있습니다.\n"
     ]
    }
   ],
   "source": [
    "# 혈액형의 종류는 ?? ?? 입니다.\n",
    "print('혈액형의 종류는', end=' ')\n",
    "for key in blood_type.keys():\n",
    "    print(key, end=' ')\n",
    "print('가 있습니다.')"
   ]
  },
  {
   "cell_type": "code",
   "execution_count": 52,
   "id": "73e01c52-711b-4832-a378-065ec6203873",
   "metadata": {},
   "outputs": [
    {
     "name": "stdout",
     "output_type": "stream",
     "text": [
      "총 학생 수는 12명입니다\n"
     ]
    }
   ],
   "source": [
    "# 총 학생 수는 ?명입니다.\n",
    "sum = 0\n",
    "for value in blood_type.values():\n",
    "    sum = sum+value\n",
    "print(f'총 학생 수는 {sum}명입니다')"
   ]
  },
  {
   "cell_type": "markdown",
   "id": "22a3fa23-47df-466d-9487-7942bce4018c",
   "metadata": {},
   "source": [
    "### Break\n",
    "반복문을 종료시키는 키워드\n"
   ]
  },
  {
   "cell_type": "code",
   "execution_count": 53,
   "id": "6a7911aa-387d-428c-873d-bc0eb37a5096",
   "metadata": {},
   "outputs": [
    {
     "name": "stdout",
     "output_type": "stream",
     "text": [
      "0\n",
      "1\n",
      "2\n",
      "3\n",
      "4\n",
      "5\n",
      "6\n",
      "7\n",
      "8\n",
      "9\n",
      "10\n"
     ]
    }
   ],
   "source": [
    "for i in range(100):\n",
    "    if i > 10:\n",
    "        break\n",
    "    print(i)"
   ]
  },
  {
   "cell_type": "code",
   "execution_count": 56,
   "id": "8186bb3e-5a26-4154-98cf-d8069250d13f",
   "metadata": {},
   "outputs": [
    {
     "name": "stdout",
     "output_type": "stream",
     "text": [
      "보리\n",
      "보리\n",
      "보리\n",
      "쌀\n",
      "잡았다\n"
     ]
    }
   ],
   "source": [
    "rice = ['보리', '보리', '보리', '쌀', '보리']\n",
    "\n",
    "for i in rice:\n",
    "    print(i)\n",
    "    if i=='쌀':\n",
    "        print('잡았다')\n",
    "        break"
   ]
  },
  {
   "cell_type": "code",
   "execution_count": 59,
   "id": "44ffa758-d3f5-4a8a-b69c-febc91aa2ed1",
   "metadata": {},
   "outputs": [
    {
     "name": "stdout",
     "output_type": "stream",
     "text": [
      "보리\n",
      "보리\n",
      "보리\n",
      "쌀\n",
      "잡았다\n"
     ]
    }
   ],
   "source": [
    "i=0\n",
    "while True:\n",
    "    print(rice[i])\n",
    "    i = i+1\n",
    "    if rice[i]=='쌀':\n",
    "        print(rice[i])\n",
    "        print('잡았다')\n",
    "        break\n",
    "    "
   ]
  },
  {
   "cell_type": "markdown",
   "id": "e3941fe1-71f1-4438-ae02-3bef1650233e",
   "metadata": {},
   "source": [
    "### Continue\n",
    "continue 이후의 코드를 실행하지 않고 반복을 진행 (=skip)"
   ]
  },
  {
   "cell_type": "code",
   "execution_count": 60,
   "id": "8cf8baa6-8a59-466a-83ca-4ec376c241f9",
   "metadata": {},
   "outputs": [
    {
     "name": "stdout",
     "output_type": "stream",
     "text": [
      "0\n",
      "2\n",
      "4\n",
      "6\n",
      "8\n",
      "10\n",
      "12\n",
      "14\n",
      "16\n",
      "18\n"
     ]
    }
   ],
   "source": [
    "for i in range(20):\n",
    "    if i%2:\n",
    "        continue\n",
    "    print(i)"
   ]
  },
  {
   "cell_type": "code",
   "execution_count": 63,
   "id": "b5eca424-0782-4c8c-a2eb-ba1010ef98b8",
   "metadata": {},
   "outputs": [
    {
     "name": "stdout",
     "output_type": "stream",
     "text": [
      "20살은 성인입니다\n",
      "38살은 성인입니다\n",
      "82살은 성인입니다\n",
      "30살은 성인입니다\n",
      "91살은 성인입니다\n"
     ]
    }
   ],
   "source": [
    "ages = [10, 20, 38, 82, 11, 30, 91]    #성인일 경우에만 출력\n",
    "for i in ages:\n",
    "    if i<20:\n",
    "        continue\n",
    "    print(f'{i}살은 성인입니다')"
   ]
  },
  {
   "cell_type": "markdown",
   "id": "3f4d22aa-d6ac-40ef-b873-fffc5c0c5491",
   "metadata": {},
   "source": [
    "### else\n",
    "else문은 끝까지 반복된 후에 실행, break와 연결해서 사용\n",
    "else문은 break를 만나지 않았을 때 실행"
   ]
  },
  {
   "cell_type": "code",
   "execution_count": 66,
   "id": "9fe5d7e7-1326-41db-95a5-f58cc07c0b34",
   "metadata": {},
   "outputs": [
    {
     "name": "stdout",
     "output_type": "stream",
     "text": [
      "0\n",
      "1\n",
      "2\n",
      "3\n",
      "4\n",
      "5\n"
     ]
    }
   ],
   "source": [
    "for i in range(10):\n",
    "    if i > 5:\n",
    "        break\n",
    "    print(i)\n",
    "else:\n",
    "    print('else입니다')"
   ]
  },
  {
   "cell_type": "markdown",
   "id": "bd45580b-a5b6-44fb-b4ec-9c8e51bfb8f2",
   "metadata": {},
   "source": [
    "### pass"
   ]
  },
  {
   "cell_type": "code",
   "execution_count": 67,
   "id": "5cf6ad8b-ce19-4e7c-a8ad-6a28a48198e2",
   "metadata": {},
   "outputs": [],
   "source": [
    "if True:\n",
    "    pass"
   ]
  },
  {
   "cell_type": "markdown",
   "id": "5c3018e3-e5a0-4444-86f3-2a93669362ed",
   "metadata": {},
   "source": [
    "### match\n",
    "어떤 특정한 값과 완전 일치하는 값을 찾고 싶은 경우\n",
    "```\n",
    "match value:\n",
    "    case 조건:\n",
    "        code\n",
    "    case 조건:\n",
    "        code\n",
    "    case _:\n",
    "        code\n",
    "```"
   ]
  },
  {
   "cell_type": "code",
   "execution_count": 68,
   "id": "3d6f812d-ff97-438a-ae8a-9320c1f10dce",
   "metadata": {},
   "outputs": [
    {
     "name": "stdout",
     "output_type": "stream",
     "text": [
      "bad\n"
     ]
    }
   ],
   "source": [
    "status = 404\n",
    "\n",
    "match status:\n",
    "    case 200:\n",
    "        print('ok')\n",
    "    case 404:\n",
    "        print('bad')\n",
    "    case _:\n",
    "        print('idk')"
   ]
  },
  {
   "cell_type": "code",
   "execution_count": null,
   "id": "b9523344-d45d-40de-94f7-5ae8e8d9b62a",
   "metadata": {},
   "outputs": [],
   "source": []
  }
 ],
 "metadata": {
  "kernelspec": {
   "display_name": "Python 3 (ipykernel)",
   "language": "python",
   "name": "python3"
  },
  "language_info": {
   "codemirror_mode": {
    "name": "ipython",
    "version": 3
   },
   "file_extension": ".py",
   "mimetype": "text/x-python",
   "name": "python",
   "nbconvert_exporter": "python",
   "pygments_lexer": "ipython3",
   "version": "3.12.4"
  }
 },
 "nbformat": 4,
 "nbformat_minor": 5
}
