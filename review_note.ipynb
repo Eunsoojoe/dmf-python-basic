{
 "cells": [
  {
   "cell_type": "markdown",
   "id": "3bcb655e-8c46-414a-bfab-43639a58eb4a",
   "metadata": {},
   "source": [
    "# 문자열 메소드"
   ]
  },
  {
   "cell_type": "code",
   "execution_count": 9,
   "id": "93deb8ee-5000-4fa8-a9a8-5be6ddae7b48",
   "metadata": {},
   "outputs": [
    {
     "name": "stdout",
     "output_type": "stream",
     "text": [
      "WELCOME\n",
      "TO\n",
      "KOREA\n"
     ]
    }
   ],
   "source": [
    "b = ['welcome','to','Korea']\n",
    "\n",
    "for i in b:\n",
    "    i = i.upper()\n",
    "    print(i)"
   ]
  },
  {
   "cell_type": "code",
   "execution_count": 18,
   "id": "f55c6d31-5042-4277-9844-f5f26eccb491",
   "metadata": {},
   "outputs": [
    {
     "name": "stdout",
     "output_type": "stream",
     "text": [
      "welcome to Korea\n"
     ]
    }
   ],
   "source": [
    "b = \"welcome to Korea~!~!\"\n",
    "print(b.replace(\"~!\",\"\"))"
   ]
  },
  {
   "cell_type": "code",
   "execution_count": 22,
   "id": "0f548c55-732b-4201-9fd1-a4d5552a86a3",
   "metadata": {},
   "outputs": [
    {
     "name": "stdout",
     "output_type": "stream",
     "text": [
      "2\n",
      "4\n"
     ]
    }
   ],
   "source": [
    "c = \"welcome to Las Vegas\"\n",
    "print(c.find(\"l\"))\n",
    "print(c.index(\"o\"))"
   ]
  },
  {
   "cell_type": "code",
   "execution_count": 23,
   "id": "6bdd98ef-50d4-4f0d-84a1-fad031d3fa82",
   "metadata": {},
   "outputs": [
    {
     "name": "stdout",
     "output_type": "stream",
     "text": [
      "['welcome', 'to', 'Vancouver']\n"
     ]
    }
   ],
   "source": [
    "d = \"welcome-!to-!Vancouver\"\n",
    "print(d.split(\"-!\"))"
   ]
  },
  {
   "cell_type": "markdown",
   "id": "b343328f-2b90-431f-9885-32a200bffd70",
   "metadata": {},
   "source": [
    "# 리스트 메소드"
   ]
  },
  {
   "cell_type": "code",
   "execution_count": 31,
   "id": "516cda4a-63d5-4b97-a735-72878b7d18c4",
   "metadata": {},
   "outputs": [
    {
     "name": "stdout",
     "output_type": "stream",
     "text": [
      "[36, 32, 23, 36, 74, 11]\n"
     ]
    }
   ],
   "source": [
    "numbers = [36,23,36,74,11]\n",
    "numbers.insert(1,32)\n",
    "print(numbers)"
   ]
  },
  {
   "cell_type": "code",
   "execution_count": 33,
   "id": "d0a381e6-2f7f-46cb-bdfd-5129016a6463",
   "metadata": {},
   "outputs": [
    {
     "name": "stdout",
     "output_type": "stream",
     "text": [
      "36\n"
     ]
    }
   ],
   "source": [
    "my_age = numbers.pop(2)\n",
    "print(my_age)"
   ]
  },
  {
   "cell_type": "code",
   "execution_count": 35,
   "id": "8cdafe95-2e9b-4176-aee2-5152fb9b4082",
   "metadata": {},
   "outputs": [
    {
     "name": "stdout",
     "output_type": "stream",
     "text": [
      "[74, 36, 32, 11]\n"
     ]
    }
   ],
   "source": [
    "numbers.sort(reverse = True)\n",
    "print(numbers)"
   ]
  },
  {
   "cell_type": "code",
   "execution_count": 36,
   "id": "1143ff9f-be5e-4d7c-bf78-a14aa12f591c",
   "metadata": {},
   "outputs": [
    {
     "name": "stdout",
     "output_type": "stream",
     "text": [
      "[3, 1, 2, 11, 26, 46, 23, 85, 15, 23]\n"
     ]
    }
   ],
   "source": [
    "numbers = [23,15,85,23,46,26,11,2,1,3]\n",
    "print(numbers[::-1])"
   ]
  },
  {
   "cell_type": "markdown",
   "id": "25e1b3f5-3964-47c7-902b-67e04bc0ff3f",
   "metadata": {},
   "source": [
    "# 리스트의 복사\n"
   ]
  },
  {
   "cell_type": "code",
   "execution_count": 42,
   "id": "ab477073-7dec-472a-8ce3-49507e79003b",
   "metadata": {},
   "outputs": [
    {
     "name": "stdout",
     "output_type": "stream",
     "text": [
      "[3, 6, 7, 8, 9]\n",
      "[5, 6, 7, 8, 9]\n",
      "[5, 6, 7, 8, 9]\n"
     ]
    }
   ],
   "source": [
    "import copy \n",
    "\n",
    "origin_list = [5,6,7,8,9]\n",
    "copy_list = origin_list\n",
    "copy_list2 = list.copy(origin_list)\n",
    "copy_list3 = copy.deepcopy(origin_list)\n",
    "\n",
    "origin_list[0] = 3\n",
    "print(copy_list)\n",
    "print(copy_list2)\n",
    "print(copy_list3)"
   ]
  },
  {
   "cell_type": "markdown",
   "id": "ef9660ab-6214-43cb-bb07-1a2f373b8b47",
   "metadata": {},
   "source": [
    "# 리스트 컴프리헨션"
   ]
  },
  {
   "cell_type": "code",
   "execution_count": 45,
   "id": "23d329b6-37d8-472a-b66d-4259bcf78309",
   "metadata": {},
   "outputs": [
    {
     "name": "stdout",
     "output_type": "stream",
     "text": [
      "[1, 8, 27, 64, 125]\n",
      "[1, 27, 125]\n"
     ]
    }
   ],
   "source": [
    "numbers = [1,2,3,4,5]\n",
    "\n",
    "new_num = [number**3 for number in numbers ]\n",
    "print(new_num)\n",
    "\n",
    "result = []\n",
    "for i in new_num:\n",
    "    if i%2 == 0:\n",
    "        result.append(i)\n",
    "\n",
    "result = [i for i in new_num if i%2==1]\n",
    "print(result)"
   ]
  },
  {
   "cell_type": "code",
   "execution_count": 47,
   "id": "65ac6191-c5fb-4402-924d-b55a2d8cad74",
   "metadata": {},
   "outputs": [
    {
     "name": "stdout",
     "output_type": "stream",
     "text": [
      "aeio\n"
     ]
    }
   ],
   "source": [
    "words = 'my name is hong'\n",
    "\n",
    "# => y ae i o (이번에는 모음만 남겨보기)\n",
    "\n",
    "result = []\n",
    "for char in words:\n",
    "    if char in 'aeiou':\n",
    "        result.append(char)\n",
    "\n",
    "print(''.join(result))\n",
    "\n"
   ]
  },
  {
   "cell_type": "markdown",
   "id": "d3c88eaa-ec1d-4d9e-82c6-2018e532ed20",
   "metadata": {},
   "source": [
    "# 딕셔너리 메소드 "
   ]
  },
  {
   "cell_type": "code",
   "execution_count": 57,
   "id": "d093d4ca-3bb9-4cd3-bf8f-f5ec1baa7e8a",
   "metadata": {},
   "outputs": [],
   "source": [
    "info = {\n",
    "    'name' : '이콩콩일',\n",
    "    'date' : 202405,\n",
    "    'people' : 50,\n",
    "    'field' : 'running',\n",
    "    'age' : 23\n",
    "}"
   ]
  },
  {
   "cell_type": "code",
   "execution_count": 58,
   "id": "444666f8-d3a6-4f89-b63e-1820d466b7f1",
   "metadata": {},
   "outputs": [
    {
     "name": "stdout",
     "output_type": "stream",
     "text": [
      "러닝\n",
      "{'name': '이콩콩일', 'date': 202405, 'people': 60, 'field': '러닝', 'age': 23}\n",
      "23\n"
     ]
    }
   ],
   "source": [
    "info['people'] = 60\n",
    "info.update(field = '러닝')\n",
    "print(info.get('field'))\n",
    "print(info)\n",
    "print(info.pop('age'))"
   ]
  },
  {
   "cell_type": "code",
   "execution_count": 61,
   "id": "15f7ed71-4c70-44f4-9364-8d7ce8826112",
   "metadata": {},
   "outputs": [
    {
     "ename": "KeyError",
     "evalue": "'INTP'",
     "output_type": "error",
     "traceback": [
      "\u001b[1;31m---------------------------------------------------------------------------\u001b[0m",
      "\u001b[1;31mKeyError\u001b[0m                                  Traceback (most recent call last)",
      "Cell \u001b[1;32mIn[61], line 8\u001b[0m\n\u001b[0;32m      3\u001b[0m mbti_dict \u001b[38;5;241m=\u001b[39m {\n\u001b[0;32m      4\u001b[0m     \u001b[38;5;124m'\u001b[39m\u001b[38;5;124mINFJ\u001b[39m\u001b[38;5;124m'\u001b[39m : \u001b[38;5;241m0\u001b[39m,\n\u001b[0;32m      5\u001b[0m     \u001b[38;5;124m'\u001b[39m\u001b[38;5;124mESTP\u001b[39m\u001b[38;5;124m'\u001b[39m : \u001b[38;5;241m0\u001b[39m,\n\u001b[0;32m      6\u001b[0m }\n\u001b[0;32m      7\u001b[0m \u001b[38;5;28;01mfor\u001b[39;00m mbti \u001b[38;5;129;01min\u001b[39;00m mbti_type:\n\u001b[1;32m----> 8\u001b[0m     \u001b[43mmbti_dict\u001b[49m\u001b[43m[\u001b[49m\u001b[43mmbti\u001b[49m\u001b[43m]\u001b[49m\u001b[38;5;241m+\u001b[39m\u001b[38;5;241m=\u001b[39m\u001b[38;5;241m1\u001b[39m\n\u001b[0;32m     10\u001b[0m \u001b[38;5;28mprint\u001b[39m(mbti_dict)\n",
      "\u001b[1;31mKeyError\u001b[0m: 'INTP'"
     ]
    }
   ],
   "source": [
    "mbti_type = ['INFJ','ESTP','INTP','ENFP','ISTP','ISFJ','INFP','ENFP']\n",
    "\n",
    "mbti_dict = {\n",
    "    'INFJ' : 0,\n",
    "    'ESTP' : 0,\n",
    "}\n",
    "for mbti in mbti_type:\n",
    "    mbti_dict[mbti]+=1\n",
    "\n",
    "print(mbti_dict)"
   ]
  },
  {
   "cell_type": "code",
   "execution_count": null,
   "id": "86948f50-cb04-4470-a3a9-c845bcaaa6c8",
   "metadata": {},
   "outputs": [],
   "source": [
    "locations = ['서울','충주','대전','대구','보스턴','오키나와','LA','서울']\n",
    "result = {}\n",
    "\n",
    "r"
   ]
  },
  {
   "cell_type": "markdown",
   "id": "7d76b537-7ad8-42dd-a73a-1d01835c6451",
   "metadata": {},
   "source": [
    "# Random"
   ]
  },
  {
   "cell_type": "code",
   "execution_count": 66,
   "id": "87400521-6436-48e8-b40a-46bf1f049f5c",
   "metadata": {},
   "outputs": [
    {
     "name": "stdout",
     "output_type": "stream",
     "text": [
      "0.13472760063663358\n",
      "4\n",
      "[5, 4, 2, 3, 1]\n",
      "3\n",
      "3\n",
      "[5, 1, 2]\n"
     ]
    }
   ],
   "source": [
    "import random\n",
    "\n",
    "# print(random.seed(123))\n",
    "print(random.random())\n",
    "print(random.randint(1,10))\n",
    "\n",
    "numbers = [1, 2, 3, 4, 5]\n",
    "random.shuffle(numbers)\n",
    "print(numbers)\n",
    "\n",
    "print(random.choice(numbers))\n",
    "print(random.choice(numbers))\n",
    "print(random.sample(numbers,3))"
   ]
  },
  {
   "cell_type": "markdown",
   "id": "43b5014b-e85d-4c92-95ae-2e675303a9b9",
   "metadata": {},
   "source": [
    "## Datetime"
   ]
  },
  {
   "cell_type": "code",
   "execution_count": 78,
   "id": "edb0508e-4985-4d6d-a0a0-8da36d9f1385",
   "metadata": {},
   "outputs": [
    {
     "name": "stdout",
     "output_type": "stream",
     "text": [
      "2024-07-02 16:47:01.662017\n",
      "2024-07-02 16:47:01.662017\n",
      "2024-07-02 16:47:01.662017\n",
      "2024\n",
      "7\n",
      "1\n",
      "2024-06-29 16:47:01.662017\n",
      "182 days, 7:12:58.337983\n"
     ]
    }
   ],
   "source": [
    "from datetime import datetime\n",
    "from datetime import timedelta\n",
    "\n",
    "print(datetime.now())\n",
    "print(datetime.today())\n",
    "\n",
    "now = datetime.now()\n",
    "print(now)\n",
    "print(now.year)\n",
    "print(now.month)\n",
    "print(now.weekday())\n",
    "\n",
    "future = timedelta(days=3)\n",
    "print(now-future)\n",
    "\n",
    "# 새해까지 몇일 남았는지 계산\n",
    "new_year = datetime(2025,1,1)\n",
    "now = datetime.now()\n",
    "print(new_year - now)"
   ]
  },
  {
   "cell_type": "markdown",
   "id": "f3602451-0799-4aa0-a23b-97794ef8a626",
   "metadata": {},
   "source": [
    "# 라이브러리"
   ]
  },
  {
   "cell_type": "code",
   "execution_count": 99,
   "id": "6c60c1f4-a493-4ab0-a2ad-2c1be1b97525",
   "metadata": {},
   "outputs": [
    {
     "name": "stdout",
     "output_type": "stream",
     "text": [
      "로또 당첨번호 : [4, 5, 9, 11, 37, 40]\n",
      "보너스 당첨번호 :  7\n",
      "{'1회차': [4, 5, 9, 11, 40, 7],\n",
      " '2회차': [4, 5, 9, 11, 40, 7],\n",
      " '3회차': [4, 5, 9, 11, 40, 7],\n",
      " '4회차': [4, 5, 9, 11, 40, 7],\n",
      " '5회차': [4, 5, 9, 11, 40, 7]}\n",
      "2등입니다.\n",
      "2등입니다.\n",
      "2등입니다.\n",
      "2등입니다.\n",
      "2등입니다.\n"
     ]
    }
   ],
   "source": [
    "# 로또 당첨 번호 추출하기\n",
    "import requests\n",
    "import pprint\n",
    "\n",
    "lotto_url = \"https://www.dhlottery.co.kr/common.do?\"\n",
    "params = {\n",
    "    \"method\" : \"getLottoNumber\",\n",
    "    \"drwNo\" : 1126,   \n",
    "}\n",
    "\n",
    "r = requests.get(lotto_url, params=params)\n",
    "r_txt = r.json()\n",
    "answer = []\n",
    "answer_bn = r_txt['bnusNo']\n",
    "\n",
    "for i in range(1,7):\n",
    "    answer.append(r_txt[f'drwtNo{i}'])\n",
    "\n",
    "print('로또 당첨번호 :',answer)\n",
    "print('보너스 당첨번호 : ',answer_bn)\n",
    "\n",
    "# 랜덤번호 생성\n",
    "choice_set = {}\n",
    "for j in range(1,6):\n",
    "    choice_num = random.sample(range(1,45),6)\n",
    "    choice_set[f'{j}회차'] = choice_num\n",
    "    # choice_set[f'{j}회차'] = [4,5,9,11,40,7]\n",
    "pprint.pp(choice_set)\n",
    "\n",
    "# 당첨번호와의 비교\n",
    "for try_num in choice_set.values():\n",
    "    set_try = set(try_num)\n",
    "    set_answer = set(answer)\n",
    "    match_count = len(set_try & set_answer)\n",
    "\n",
    "    if match_count == 6:\n",
    "        print(\"1등입니다.\")\n",
    "    elif match_count == 5 and answer_bn in try_num:\n",
    "        print(\"2등입니다.\")\n",
    "    elif match_count == 5:\n",
    "        print(\"3등입니다.\")\n",
    "    elif match_count == 4:\n",
    "        print(\"4등입니다.\")\n",
    "    elif match_count == 3:\n",
    "        print(\"5등입니다.\")\n",
    "    else:\n",
    "        print(\"꽝입니다.\")\n",
    "    "
   ]
  },
  {
   "cell_type": "markdown",
   "id": "799e308c-0b18-41b8-b3c3-a9c939197e8a",
   "metadata": {},
   "source": [
    "# Error"
   ]
  },
  {
   "cell_type": "code",
   "execution_count": 101,
   "id": "fb40dcbb-5e69-484c-9fda-064a1fd4b76e",
   "metadata": {},
   "outputs": [
    {
     "ename": "SyntaxError",
     "evalue": "expected ':' (3151955463.py, line 4)",
     "output_type": "error",
     "traceback": [
      "\u001b[1;36m  Cell \u001b[1;32mIn[101], line 4\u001b[1;36m\u001b[0m\n\u001b[1;33m    else\u001b[0m\n\u001b[1;37m        ^\u001b[0m\n\u001b[1;31mSyntaxError\u001b[0m\u001b[1;31m:\u001b[0m expected ':'\n"
     ]
    }
   ],
   "source": [
    "# SyntaxError\n",
    "if True:\n",
    "    pass\n",
    "else"
   ]
  },
  {
   "cell_type": "code",
   "execution_count": 102,
   "id": "5b6f40e3-72ae-419d-a691-a3344e717078",
   "metadata": {},
   "outputs": [
    {
     "ename": "SyntaxError",
     "evalue": "invalid syntax (1137550420.py, line 2)",
     "output_type": "error",
     "traceback": [
      "\u001b[1;36m  Cell \u001b[1;32mIn[102], line 2\u001b[1;36m\u001b[0m\n\u001b[1;33m    if True print('hi')\u001b[0m\n\u001b[1;37m            ^\u001b[0m\n\u001b[1;31mSyntaxError\u001b[0m\u001b[1;31m:\u001b[0m invalid syntax\n"
     ]
    }
   ],
   "source": [
    "# SyntaxError\n",
    "if True print('hi')"
   ]
  },
  {
   "cell_type": "code",
   "execution_count": 104,
   "id": "35c51119-2f6d-41c2-961f-6dba197ba5ca",
   "metadata": {},
   "outputs": [
    {
     "ename": "ZeroDivisionError",
     "evalue": "division by zero",
     "output_type": "error",
     "traceback": [
      "\u001b[1;31m-------------------------------------------------------------------------\u001b[0m",
      "\u001b[1;31mZeroDivisionError\u001b[0m                       Traceback (most recent call last)",
      "Cell \u001b[1;32mIn[104], line 2\u001b[0m\n\u001b[0;32m      1\u001b[0m \u001b[38;5;66;03m# ZeroDivisionError\u001b[39;00m\n\u001b[1;32m----> 2\u001b[0m \u001b[38;5;28mprint\u001b[39m(\u001b[38;5;241;43m5\u001b[39;49m\u001b[38;5;241;43m/\u001b[39;49m\u001b[38;5;241;43m0\u001b[39;49m)\n",
      "\u001b[1;31mZeroDivisionError\u001b[0m: division by zero"
     ]
    }
   ],
   "source": [
    "# ZeroDivisionError\n",
    "print(5/0)"
   ]
  },
  {
   "cell_type": "markdown",
   "id": "166da8f1-12de-4cee-814c-6cbe30373005",
   "metadata": {},
   "source": [
    "## 예외 처리"
   ]
  },
  {
   "cell_type": "code",
   "execution_count": 107,
   "id": "e9f70ddd-1030-485b-b76a-1a818c9a50ab",
   "metadata": {},
   "outputs": [
    {
     "name": "stdin",
     "output_type": "stream",
     "text": [
      "무엇으로 나누시겠습니까? 2\n"
     ]
    },
    {
     "name": "stdout",
     "output_type": "stream",
     "text": [
      "수고하셨습니다.\n"
     ]
    }
   ],
   "source": [
    "try:\n",
    "    num = int(input(\"무엇으로 나누시겠습니까?\"))\n",
    "except ValueError:\n",
    "    print(\"숫자를 입력하세요.\")\n",
    "except ZeroDivisionError:\n",
    "    print(\"모든 수는 0으로 나눌 수 없습니다.\")\n",
    "finally:\n",
    "    print(\"수고하셨습니다.\")"
   ]
  },
  {
   "cell_type": "code",
   "execution_count": 1,
   "id": "9f8526e5-6bff-4a44-a035-dccbb8f6bf73",
   "metadata": {},
   "outputs": [
    {
     "name": "stdout",
     "output_type": "stream",
     "text": [
      "8\n",
      "수고하셨습니다\n"
     ]
    }
   ],
   "source": [
    "try:\n",
    "    numbers = [1,2,3]\n",
    "    num = numbers[1]\n",
    "\n",
    "except:\n",
    "    print('오류입니다.')\n",
    "else:\n",
    "    print(num**3)\n",
    "finally:\n",
    "    print('수고하셨습니다')"
   ]
  },
  {
   "cell_type": "markdown",
   "id": "05383053-21b0-492d-9028-9e8e8e19b0f8",
   "metadata": {},
   "source": [
    "## 클래스"
   ]
  },
  {
   "cell_type": "code",
   "execution_count": 13,
   "id": "9a9c2249-1f15-4faa-8e4c-435291d71867",
   "metadata": {},
   "outputs": [],
   "source": [
    "# 잔액 구하기\n",
    "class Account():\n",
    "    def __init__(self, name, income):\n",
    "        self.name = name\n",
    "        self.income = income\n",
    "\n",
    "    def deposit(self,money):\n",
    "        self.income = self.income + money\n",
    "        return f'{money}원 저금하셨습니다. 현재 잔액은 {self.income}원입니다.'\n",
    "\n",
    "\n",
    "    def withdraw(self,money):\n",
    "        self.income = self.income - money\n",
    "        return f'{money}원 지출하셨습니다. 현재 잔액은 {self.income}원입니다.'\n",
    "\n",
    "\n",
    "    def getIncome(self):\n",
    "        return f'현재 잔액은 {self.income}원입니다.' \n"
   ]
  },
  {
   "cell_type": "code",
   "execution_count": 14,
   "id": "ac15e0c5-fd9a-4970-be33-6c4838e6ea1b",
   "metadata": {},
   "outputs": [
    {
     "data": {
      "text/plain": [
       "'500000원 저금하셨습니다. 현재 잔액은 10500000원입니다.'"
      ]
     },
     "execution_count": 14,
     "metadata": {},
     "output_type": "execute_result"
    }
   ],
   "source": [
    "act_a = Account('조은수',10000000) \n",
    "act_a.deposit(500000)"
   ]
  },
  {
   "cell_type": "markdown",
   "id": "c4977500-6129-458a-8408-ab9438ff429e",
   "metadata": {},
   "source": [
    "## 상속"
   ]
  },
  {
   "cell_type": "code",
   "execution_count": 17,
   "id": "8a9e3f20-f78a-46b8-9a21-86f09fa30640",
   "metadata": {},
   "outputs": [],
   "source": [
    "class MyClass():\n",
    "    def instance_method(self):\n",
    "        return self\n",
    "\n",
    "    @classmethod\n",
    "    def class_method(self):\n",
    "        return cls\n",
    "\n",
    "    @staticmethod\n",
    "    def static_method():\n",
    "        return \"hello\""
   ]
  },
  {
   "cell_type": "code",
   "execution_count": 19,
   "id": "27cf7965-2979-48e0-809c-8c4cbaf41792",
   "metadata": {},
   "outputs": [
    {
     "name": "stdout",
     "output_type": "stream",
     "text": [
      "<__main__.MyClass object at 0x000001E117C5DCD0>\n",
      "<bound method MyClass.class_method of <class '__main__.MyClass'>>\n"
     ]
    }
   ],
   "source": [
    "c1 = MyClass()\n",
    "print(c1.instance_method())\n",
    "print(MyClass.class_method)"
   ]
  },
  {
   "cell_type": "code",
   "execution_count": null,
   "id": "b3b350c6-cb87-4f2b-b0e1-d0f7c897f366",
   "metadata": {},
   "outputs": [],
   "source": [
    "class Pocketmon():\n",
    "    def __init__(self, name):\n",
    "        self.name = name\n",
    "        self.level = 10\n",
    "        self.hp = self.level * 5\n",
    "        self.exp = 0\n",
    "\n",
    "    def attack(self, opponent):\n",
    "        damage = self.level    # 레벨만큼 공격\n",
    "        opponent.hp = opponent.hp - damage \n",
    "        if opponent.check_hp():\n",
    "            self.exp += 5\n",
    "\n",
    "    def check_hp(self):       # 남은 체력 확인\n",
    "        return True if self.hp <= 0 else False\n",
    "\n",
    "\n",
    "class WaterType():\n",
    "    type_name = 'water'    # type_name이라는 변수 생성\n",
    "\n",
    "class FireType():\n",
    "    type_name = 'fire'\n",
    "\n",
    "class WaterPocketmon(Pocketmon, WaterType):    # Pocketmon 상속\n",
    "    def water_attack(self, opponent):\n",
    "        if opponent.type_name == 'fire':\n",
    "            damage = self.level * 1.5\n",
    "        else:\n",
    "            damage = self.level * 1.2\n",
    "        opponent.hp = opponent.hp - damage\n",
    "        print(f'{self.name}은 {opponent.name}에게 {damage}의 공격을 했다.')\n",
    "\n",
    "class FirePocketmon(Pocketmon , Firetype):\n",
    "    def fire_attack(self, opponent):\n",
    "        damage = self.level * 2\n",
    "        opponent.hp = opponent.hp - damage\n",
    "        print(f'{self.name}은 {opponent.name}에게 {damage}의 공격을 했다.')\n",
    "        \n",
    "import random\n",
    "while not koboki.check_hp() or not pairi.check_hp():\n",
    "    # random_attack = random.randint(0,1)\n",
    "    koboki.water_attack(pairi)\n",
    "\n",
    "\n",
    "\n",
    "\n",
    "\n",
    "\n"
   ]
  },
  {
   "cell_type": "code",
   "execution_count": 25,
   "id": "8992fd8f-62f2-4ec2-b768-eaaa5247319f",
   "metadata": {},
   "outputs": [
    {
     "name": "stdout",
     "output_type": "stream",
     "text": [
      "꼬부기은 파이리에게 15.0의 공격을 했다.\n",
      "파이리은 꼬부기에게 20의 공격을 했다.\n",
      "꼬부기:30\n",
      "파이리:35.0\n",
      "꼬부기은 파이리에게 15.0의 공격을 했다.\n",
      "파이리은 꼬부기에게 20의 공격을 했다.\n",
      "꼬부기:10\n",
      "파이리:20.0\n",
      "꼬부기은 파이리에게 15.0의 공격을 했다.\n",
      "파이리은 꼬부기에게 20의 공격을 했다.\n",
      "꼬부기 승리\n"
     ]
    }
   ],
   "source": [
    "class Pocketmon():\n",
    "    def __init__(self, name):\n",
    "        self.name = name\n",
    "        self.level = 10\n",
    "        self.hp = self.level * 5\n",
    "        self.exp = 0\n",
    "\n",
    "    def attack(self, opponent):\n",
    "        damage = self.level    # 레벨만큼 공격\n",
    "        opponent.hp = opponent.hp - damage \n",
    "        if opponent.check_hp():\n",
    "            self.exp += 5\n",
    "\n",
    "    def check_hp(self):       # 남은 체력 확인\n",
    "        return True if self.hp <= 0 else False\n",
    "\n",
    "\n",
    "class WaterType():\n",
    "    type_name = 'water'    # type_name이라는 변수 생성\n",
    "\n",
    "class FireType():\n",
    "    type_name = 'fire'\n",
    "\n",
    "class WaterPocketmon(Pocketmon, WaterType):    # Pocketmon 상속\n",
    "    def water_attack(self, opponent):\n",
    "        if opponent.type_name == 'fire':\n",
    "            damage = self.level * 1.5\n",
    "        else:\n",
    "            damage = self.level * 1.2\n",
    "        opponent.hp = opponent.hp - damage\n",
    "        print(f'{self.name}은 {opponent.name}에게 {damage}의 공격을 했다.')\n",
    "\n",
    "class FirePocketmon(Pocketmon , FireType):\n",
    "    def fire_attack(self, opponent):\n",
    "        damage = self.level * 2\n",
    "        opponent.hp = opponent.hp - damage\n",
    "        print(f'{self.name}은 {opponent.name}에게 {damage}의 공격을 했다.')\n",
    "\n",
    "koboki = WaterPocketmon('꼬부기')\n",
    "pairi = FirePocketmon('파이리')\n",
    "\n",
    "import random\n",
    "while not koboki.check_hp() or not pairi.check_hp():\n",
    "    # random_attack = random.randint(0,1)\n",
    "    koboki.water_attack(pairi)\n",
    "\n",
    "    if pairi.check_hp():\n",
    "        print(f'{pairi.name} 승리')\n",
    "        break\n",
    "\n",
    "    # random.attack = random.randint(0,1)\n",
    "    pairi.fire_attack(koboki)\n",
    "\n",
    "    if koboki.check_hp():\n",
    "        print(f'{koboki.name} 승리')\n",
    "        break\n",
    "\n",
    "\n",
    "    print(f'{koboki.name}:{koboki.hp}')\n",
    "    print(f'{pairi.name}:{pairi.hp}')\n",
    "        "
   ]
  }
 ],
 "metadata": {
  "kernelspec": {
   "display_name": "Python 3 (ipykernel)",
   "language": "python",
   "name": "python3"
  },
  "language_info": {
   "codemirror_mode": {
    "name": "ipython",
    "version": 3
   },
   "file_extension": ".py",
   "mimetype": "text/x-python",
   "name": "python",
   "nbconvert_exporter": "python",
   "pygments_lexer": "ipython3",
   "version": "3.12.4"
  }
 },
 "nbformat": 4,
 "nbformat_minor": 5
}
