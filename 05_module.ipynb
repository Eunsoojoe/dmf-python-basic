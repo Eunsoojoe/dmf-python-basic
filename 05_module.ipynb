{
 "cells": [
  {
   "cell_type": "markdown",
   "id": "49b8ff1a-4954-4fe2-9366-c2c222aa8797",
   "metadata": {},
   "source": [
    "# 모듈"
   ]
  },
  {
   "cell_type": "code",
   "execution_count": 1,
   "id": "ff88b5f3-2b29-44a2-b619-ca3e5d411616",
   "metadata": {},
   "outputs": [],
   "source": [
    "import fact"
   ]
  },
  {
   "cell_type": "code",
   "execution_count": 2,
   "id": "ef82b165-1d64-4bd3-8ea5-e40bcca9971f",
   "metadata": {},
   "outputs": [
    {
     "name": "stdout",
     "output_type": "stream",
     "text": [
      "<module 'fact' from 'C:\\\\Users\\\\2-18\\\\Desktop\\\\DMF_2024\\\\python\\\\fact.py'>\n"
     ]
    }
   ],
   "source": [
    "print(fact)"
   ]
  },
  {
   "cell_type": "code",
   "execution_count": 3,
   "id": "bc373419-cd92-408e-a5e7-19fe94b10953",
   "metadata": {},
   "outputs": [
    {
     "name": "stdout",
     "output_type": "stream",
     "text": [
      "120\n"
     ]
    }
   ],
   "source": [
    "print(fact.fact(5))"
   ]
  },
  {
   "cell_type": "code",
   "execution_count": 4,
   "id": "ea4cd0d3-53c7-46c8-beba-fb7bd4ac5443",
   "metadata": {},
   "outputs": [
    {
     "name": "stdout",
     "output_type": "stream",
     "text": [
      "6\n"
     ]
    }
   ],
   "source": [
    "print(fact.my_max(6,3))"
   ]
  },
  {
   "cell_type": "raw",
   "id": "83db1255-1ef8-4475-afb4-13ed7c22792c",
   "metadata": {},
   "source": [
    "dir(fact)"
   ]
  },
  {
   "cell_type": "code",
   "execution_count": 5,
   "id": "6ffb787e-7f7a-4dda-9ed7-c53e779b8a7c",
   "metadata": {},
   "outputs": [
    {
     "name": "stdout",
     "output_type": "stream",
     "text": [
      "123\n"
     ]
    }
   ],
   "source": [
    "print(fact.my_number)"
   ]
  },
  {
   "cell_type": "markdown",
   "id": "9ed7460f-5d9c-4bac-82df-d866e3b58aa3",
   "metadata": {},
   "source": [
    "# 패키지"
   ]
  },
  {
   "cell_type": "markdown",
   "id": "9a7beb36-9ce2-4e7e-a602-04d2db63c710",
   "metadata": {},
   "source": [
    "```\n",
    "myPackage/\n",
    "    __init__.py\n",
    "    math/\n",
    "        __init__.py\n",
    "```\n",
    "\n",
    "패키지 안에 '__init__.py' 파일이 존재해야만 패키지로 인식"
   ]
  },
  {
   "cell_type": "code",
   "execution_count": 2,
   "id": "f3de0a78-2a3a-4f10-b875-6c39de8c59dc",
   "metadata": {},
   "outputs": [],
   "source": [
    "import myPackage"
   ]
  },
  {
   "cell_type": "code",
   "execution_count": 4,
   "id": "f9282533-b210-47bb-aaf6-762aea434982",
   "metadata": {},
   "outputs": [],
   "source": [
    "from myPackage.math import fomula"
   ]
  },
  {
   "cell_type": "code",
   "execution_count": null,
   "id": "55256057-d229-45d5-b101-6a490d1ce9f5",
   "metadata": {},
   "outputs": [],
   "source": [
    "formula.my_max(1,2)"
   ]
  },
  {
   "cell_type": "code",
   "execution_count": null,
   "id": "a9cf8318-dd85-4804-be4b-ad1c027161c0",
   "metadata": {},
   "outputs": [],
   "source": [
    "formula.pi"
   ]
  },
  {
   "cell_type": "code",
   "execution_count": null,
   "id": "ad38e01a-8a86-440a-bb09-4e147e38acd2",
   "metadata": {},
   "outputs": [],
   "source": [
    "from myPackage.math.fomula import my_max, fact, pi\n",
    "my_max(1,2)"
   ]
  },
  {
   "cell_type": "code",
   "execution_count": null,
   "id": "25f26571-30b5-49a3-85e9-5706159f6824",
   "metadata": {},
   "outputs": [],
   "source": [
    "from myPackage.math.fomula import *"
   ]
  },
  {
   "cell_type": "code",
   "execution_count": null,
   "id": "81d3e6d1-cf0a-4ff5-9695-739493ef9197",
   "metadata": {},
   "outputs": [],
   "source": [
    "fomula = 1234\n",
    "from myPackage.math import fomula as f\n",
    "print(fomula)\n",
    "print(f)"
   ]
  },
  {
   "cell_type": "markdown",
   "id": "328b1749-4664-4380-9114-8cd57f7e3cdf",
   "metadata": {},
   "source": [
    "## 파이썬 내장 패키지"
   ]
  },
  {
   "cell_type": "markdown",
   "id": "eb4f2d73-0141-4776-8f50-591a35f3e562",
   "metadata": {},
   "source": [
    "### math"
   ]
  },
  {
   "cell_type": "code",
   "execution_count": null,
   "id": "e696fcbb-e52b-4edb-904a-4de830b782da",
   "metadata": {},
   "outputs": [],
   "source": [
    "import math"
   ]
  },
  {
   "cell_type": "code",
   "execution_count": null,
   "id": "ef4a39bc-9c0e-4677-9cc7-6f07bcc9b86f",
   "metadata": {},
   "outputs": [],
   "source": [
    "math.pi"
   ]
  },
  {
   "cell_type": "code",
   "execution_count": null,
   "id": "7f58fe5a-1b98-4a0c-811c-51a58581e47f",
   "metadata": {},
   "outputs": [],
   "source": [
    "math.e"
   ]
  },
  {
   "cell_type": "code",
   "execution_count": null,
   "id": "5f354f3b-ffb6-4695-9d36-05a38e12d232",
   "metadata": {},
   "outputs": [],
   "source": [
    "math.ceil(math.pi)"
   ]
  },
  {
   "cell_type": "code",
   "execution_count": null,
   "id": "cf83b59e-1d57-499e-827d-11eb2b0350fa",
   "metadata": {},
   "outputs": [],
   "source": [
    "math.floor(math.pi)"
   ]
  },
  {
   "cell_type": "code",
   "execution_count": null,
   "id": "7d8aff55-1734-4633-90bb-c0519b50fe38",
   "metadata": {},
   "outputs": [],
   "source": [
    "math.sqrt(9)"
   ]
  },
  {
   "cell_type": "code",
   "execution_count": null,
   "id": "fcb3072c-ea55-4d2c-becd-6a08c18e2321",
   "metadata": {},
   "outputs": [],
   "source": [
    "math.factorial(10)"
   ]
  },
  {
   "cell_type": "markdown",
   "id": "885cccd6-c8c9-4472-86c1-d64ac35ef95c",
   "metadata": {},
   "source": [
    "## random"
   ]
  },
  {
   "cell_type": "code",
   "execution_count": null,
   "id": "e6802c6d-feb6-48cb-bd83-953d88150f8c",
   "metadata": {},
   "outputs": [],
   "source": [
    "import random # 뜻은 '무작위'이지만 결국 규칙을 통해 난수를 생성한 것"
   ]
  },
  {
   "cell_type": "code",
   "execution_count": null,
   "id": "068210c7-3b29-4b74-afd4-031357abd527",
   "metadata": {},
   "outputs": [],
   "source": [
    "random.random()"
   ]
  },
  {
   "cell_type": "code",
   "execution_count": null,
   "id": "67c8b731-9f07-49a9-9e27-ac9d05eed975",
   "metadata": {},
   "outputs": [],
   "source": [
    "random.randint(1,10)"
   ]
  },
  {
   "cell_type": "code",
   "execution_count": null,
   "id": "38299c73-ce70-4ed0-bbf4-a742b52d715d",
   "metadata": {},
   "outputs": [],
   "source": [
    "random.seed(123)     # seed를 부여한 후에 고정\n",
    "random.random()"
   ]
  },
  {
   "cell_type": "code",
   "execution_count": null,
   "id": "c13f545c-fe75-4bf8-8268-ad6da2441742",
   "metadata": {},
   "outputs": [],
   "source": [
    "numbers = [1, 2, 3, 4, 5]\n",
    "random.shuffle(numbers)\n",
    "print(numbers)    # 무작위 순서로 numbers를 정렬"
   ]
  },
  {
   "cell_type": "code",
   "execution_count": null,
   "id": "32c86f0e-134e-4e60-91b2-131163dbe0ba",
   "metadata": {},
   "outputs": [],
   "source": [
    "print(random.choice(numbers))\n",
    "print(random.choice(numbers))    # 둘의 숫자가 같게 나올 경우 '복원추출' 공을 뽑고 다시 주머니에 넣어 원본데이터를 유지하고 있다는 뜻"
   ]
  },
  {
   "cell_type": "code",
   "execution_count": null,
   "id": "137f3d7b-e12d-4c4f-bc9a-5bd511e9e99b",
   "metadata": {},
   "outputs": [],
   "source": [
    "random.sample(numbers,3)    # numbers의 배열 중 3개의 숫자를 뽑아 하나의 리스트로 반환"
   ]
  },
  {
   "cell_type": "markdown",
   "id": "5a58db6f-0779-4447-9c66-c7f178cb57e1",
   "metadata": {},
   "source": [
    "## datetime"
   ]
  },
  {
   "cell_type": "code",
   "execution_count": null,
   "id": "f78a9232-4233-4559-82a3-d00c39a5a2fc",
   "metadata": {},
   "outputs": [],
   "source": [
    "from datetime import datetime\n",
    "# import datetime "
   ]
  },
  {
   "cell_type": "code",
   "execution_count": null,
   "id": "dff9c401-4eff-4ff3-9cfa-610970ca6fc6",
   "metadata": {},
   "outputs": [],
   "source": [
    "datetime.now()"
   ]
  },
  {
   "cell_type": "code",
   "execution_count": null,
   "id": "69f0abd7-e9d4-4a5a-8122-174bcc1a3c95",
   "metadata": {},
   "outputs": [],
   "source": [
    "datetime.today()"
   ]
  },
  {
   "cell_type": "code",
   "execution_count": null,
   "id": "c6402b04-fd31-4a12-a15e-0249d9eb36b3",
   "metadata": {},
   "outputs": [],
   "source": [
    "datetime.utcnow()\n",
    "# datetime.now(datetime.UTC)"
   ]
  },
  {
   "cell_type": "code",
   "execution_count": null,
   "id": "a0cd86b1-c383-4aab-98fa-e309bfda7b1b",
   "metadata": {},
   "outputs": [],
   "source": [
    "now = datetime.now()\n",
    "print(now)\n",
    "now.strftime('%Y년 %m월 %d일 %a')    # srftime()"
   ]
  },
  {
   "cell_type": "code",
   "execution_count": null,
   "id": "579e3626-f9f0-46e3-917c-76eb0d8c5fc1",
   "metadata": {},
   "outputs": [],
   "source": [
    "now"
   ]
  },
  {
   "cell_type": "code",
   "execution_count": null,
   "id": "c6b3959e-2e2c-4238-bb58-b89c9bea4eae",
   "metadata": {},
   "outputs": [],
   "source": [
    "now.year"
   ]
  },
  {
   "cell_type": "code",
   "execution_count": null,
   "id": "205134fd-9b8b-4330-b676-b66120fcacaa",
   "metadata": {},
   "outputs": [],
   "source": [
    "now.month"
   ]
  },
  {
   "cell_type": "code",
   "execution_count": null,
   "id": "09b647d5-c05b-4c07-bfed-d292aa0b8e63",
   "metadata": {},
   "outputs": [],
   "source": [
    "now.weekday()"
   ]
  },
  {
   "cell_type": "code",
   "execution_count": null,
   "id": "bdd7e8a3-5f3f-4fba-bc95-99fdfc695bf9",
   "metadata": {},
   "outputs": [],
   "source": [
    "x_mas = datetime(2024, 12, 25)\n",
    "print(x_mas)"
   ]
  },
  {
   "cell_type": "code",
   "execution_count": null,
   "id": "535fcfe2-0de0-4760-8e61-634906f35079",
   "metadata": {},
   "outputs": [],
   "source": [
    "from datetime import timedelta    # delta = '변화량'"
   ]
  },
  {
   "cell_type": "code",
   "execution_count": null,
   "id": "3903290f-3814-46a9-8475-cc043decd9e8",
   "metadata": {},
   "outputs": [],
   "source": [
    "future = timedelta(days=3)\n",
    "print(future)  "
   ]
  },
  {
   "cell_type": "code",
   "execution_count": null,
   "id": "9c18f846-9a05-4969-aa27-5a7a76ab0a17",
   "metadata": {},
   "outputs": [],
   "source": [
    "print(x_mas + future)"
   ]
  },
  {
   "cell_type": "code",
   "execution_count": null,
   "id": "b41c3181-f1b9-41ee-959c-23acd04cc22c",
   "metadata": {},
   "outputs": [],
   "source": [
    "new_year = datetime(2025,1,1)\n",
    "now = datetime.now()\n",
    "\n",
    "# 새해까지 몇일 남았는지를 계산\n",
    "print(new_year - now)"
   ]
  },
  {
   "cell_type": "code",
   "execution_count": null,
   "id": "1744b8d6-907b-4acf-9405-d7c9c1213d98",
   "metadata": {},
   "outputs": [],
   "source": [
    "now = datetime.now()\n",
    "d100 = timedelta(days=100)\n",
    "\n",
    "# 현재시점에서 100일 후는?\n",
    "print(now + d100)"
   ]
  },
  {
   "cell_type": "markdown",
   "id": "27b3a4b6-00bc-4940-9355-41fac9a7e066",
   "metadata": {},
   "source": [
    "## 라이브러리"
   ]
  },
  {
   "cell_type": "code",
   "execution_count": 9,
   "id": "730e6b70-4e22-4355-8870-702ea327ef6c",
   "metadata": {},
   "outputs": [],
   "source": [
    "import requests"
   ]
  },
  {
   "cell_type": "code",
   "execution_count": null,
   "id": "6c847fb0-0ceb-4919-99cb-77676d709cf1",
   "metadata": {},
   "outputs": [],
   "source": [
    "r = requests.get('https://api.github.com/events')\n",
    "print(r)\n",
    "print(r.text)    # 더 자세한 정보 출력"
   ]
  },
  {
   "cell_type": "code",
   "execution_count": null,
   "id": "26ca0fdb-a9bd-48c6-9a34-f9106910aaaf",
   "metadata": {},
   "outputs": [],
   "source": [
    "payload = {'query' : '동아일보'}\n",
    "r = requests.get('https://search.naver.com/search.naver',params=payload)\n",
    "print(r.text)"
   ]
  },
  {
   "cell_type": "code",
   "execution_count": null,
   "id": "dc53be03-bd4b-4d4a-bc44-fd893a829187",
   "metadata": {},
   "outputs": [],
   "source": [
    "payload = {'q' : '동아일보'}\n",
    "r = requests.get('https://www.google.com/search',params=payload)\n",
    "print(r.text)"
   ]
  },
  {
   "cell_type": "code",
   "execution_count": 10,
   "id": "e43aee8e-8fcf-4904-b83d-31cdee7a8fb8",
   "metadata": {},
   "outputs": [
    {
     "name": "stdout",
     "output_type": "stream",
     "text": [
      "{\"totSellamnt\":111998191000,\"returnValue\":\"success\",\"drwNoDate\":\"2024-06-29\",\"firstWinamnt\":2386382421,\"drwtNo6\":40,\"drwtNo4\":11,\"firstPrzwnerCo\":11,\"drwtNo5\":37,\"bnusNo\":7,\"firstAccumamnt\":26250206631,\"drwNo\":1126,\"drwtNo2\":5,\"drwtNo3\":9,\"drwtNo1\":4}\n",
      "4\n",
      "5\n",
      "9\n",
      "11\n",
      "37\n",
      "40\n"
     ]
    }
   ],
   "source": [
    "# url의 정보를 가져와 로또 당첨번호 추출하기\n",
    "\n",
    "payload = {\n",
    "    'method' : 'getLottoNumber',\n",
    "    'drwNo' : 1126,\n",
    "}\n",
    "\n",
    "r = requests.get('https://www.dhlottery.co.kr/common.do',params=payload)\n",
    "print(r.text)\n",
    "\n",
    "lotto_dict = r.json()\n",
    "print(lotto_dict['drwtNo1'])\n",
    "print(lotto_dict['drwtNo2'])\n",
    "print(lotto_dict['drwtNo3'])\n",
    "print(lotto_dict['drwtNo4'])\n",
    "print(lotto_dict['drwtNo5'])\n",
    "print(lotto_dict['drwtNo6'])\n",
    "# print(type(r.text))\n",
    "# print(type(r.json))\n"
   ]
  },
  {
   "cell_type": "code",
   "execution_count": 70,
   "id": "55757dff-fa7b-4246-819d-e31ad168a906",
   "metadata": {},
   "outputs": [
    {
     "name": "stdout",
     "output_type": "stream",
     "text": [
      "이번주 당첨번호 : [4, 5, 9, 11, 37, 40] BN: 7\n",
      "{1: [4, 5, 9, 11, 37, 7], 2: [4, 5, 9, 11, 37, 7], 3: [4, 5, 9, 11, 37, 7], 4: [4, 5, 9, 11, 37, 7], 5: [4, 5, 9, 11, 37, 7]}\n",
      "[4, 5, 37, 9, 11]\n",
      "5\n",
      "3등입니다.\n",
      "[4, 5, 37, 9, 11]\n",
      "5\n",
      "3등입니다.\n",
      "[4, 5, 37, 9, 11]\n",
      "5\n",
      "3등입니다.\n",
      "[4, 5, 37, 9, 11]\n",
      "5\n",
      "3등입니다.\n",
      "[4, 5, 37, 9, 11]\n",
      "5\n",
      "3등입니다.\n"
     ]
    }
   ],
   "source": [
    "import random\n",
    "import requests\n",
    "\n",
    "# 파라미터 설정\n",
    "payload = {\n",
    "    'method' : 'getLottoNumber',\n",
    "    'drwNo' : 1126,\n",
    "}\n",
    "\n",
    "# url 접속 및 당첨번호만 파싱\n",
    "r = requests.get('https://www.dhlottery.co.kr/common.do',params=payload)\n",
    "lotto_dict = r.json()\n",
    "result = []\n",
    "\n",
    "for i in range(1,7):\n",
    "    i = lotto_dict[f'drwtNo{i}'] \n",
    "    result.append(i)\n",
    "\n",
    "#당첨번호 출력\n",
    "print('이번주 당첨번호 :', result, 'BN:',lotto_dict['bnusNo'])\n",
    "# result_bonus = result.append(lotto_dict['bnusNo'])\n",
    "# print(result_bonus)\n",
    "\n",
    "# 6개의 랜덤 번호 생성\n",
    "lotto_try = {}\n",
    "for i in range(1,6):\n",
    "    \n",
    "    lotto_num = []\n",
    "    \n",
    "    for j in range(1,7):\n",
    "        lotto_num.append(random.randint(1,45))\n",
    "    #lotto_try[i] = lotto_num\n",
    "    lotto_try[i] = [4, 5, 9, 11, 37, 7]\n",
    "print(lotto_try)\n",
    "\n",
    "# 당첨번호와 비교 \n",
    "# lotto_dict의 key : 횟수, value : 번호\n",
    "for x,y in lotto_try.items():\n",
    "    \n",
    "    num_count = (set(y).intersection(set(result)))\n",
    "    Y = (list(num_count))\n",
    "    print(Y)\n",
    "    print(len(Y))\n",
    "\n",
    "    if len(Y) == 3:\n",
    "        print(\"5등입니다.\")\n",
    "\n",
    "    elif len(Y) == 4:\n",
    "        print(\"4등입니다.\")\n",
    "\n",
    "    elif len(Y) == 5:\n",
    "        print(\"3등입니다.\")\n",
    "\n",
    "    elif len(Y) == 5 and lotto_dict['bnusNo'] in y:\n",
    "        print(\"2등입니다.\")\n",
    "\n",
    "    elif len(Y) == 6:\n",
    "        print(\"1등입니다.\")\n",
    "\n",
    "    else:\n",
    "        print(\"꽝입니다.\")\n",
    "\n",
    "# "
   ]
  },
  {
   "cell_type": "code",
   "execution_count": null,
   "id": "26035cb5-2a76-49b0-abee-27ffc0f1c894",
   "metadata": {},
   "outputs": [],
   "source": [
    "# 랜덤 번호 생성\n",
    "import random\n",
    "\n",
    "my_numbers = {}\n",
    "\n",
    "for i i\n"
   ]
  }
 ],
 "metadata": {
  "kernelspec": {
   "display_name": "Python 3 (ipykernel)",
   "language": "python",
   "name": "python3"
  },
  "language_info": {
   "codemirror_mode": {
    "name": "ipython",
    "version": 3
   },
   "file_extension": ".py",
   "mimetype": "text/x-python",
   "name": "python",
   "nbconvert_exporter": "python",
   "pygments_lexer": "ipython3",
   "version": "3.12.4"
  }
 },
 "nbformat": 4,
 "nbformat_minor": 5
}
