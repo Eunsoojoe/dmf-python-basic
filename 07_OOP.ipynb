{
 "cells": [
  {
   "cell_type": "markdown",
   "id": "15654e37-67bc-45a3-b3e9-8fe4c2329118",
   "metadata": {},
   "source": [
    "# 객체지향 프로그래밍(OOP)\n",
    "- 클래스(class) : 같은 종류의 집단에 속하는 속성(attribute)과 행위(method)를 정의한 것, '붕어빵틀'\n",
    "- 인스턴스(instance) : 클래스를 실제로 메모리상에 할당한 것, '따끈따끈 붕어빵~'\n",
    "- 속성(attribute) : 클래스/인스턴스가 가지고 있는 데이터/값\n",
    "- 행위(method) : 클래스/인스턴스가 가지고 있는 함수/기능"
   ]
  },
  {
   "cell_type": "code",
   "execution_count": 5,
   "id": "e44a2533-2f1c-49a0-8962-bb596646265b",
   "metadata": {},
   "outputs": [
    {
     "name": "stdout",
     "output_type": "stream",
     "text": [
      "<class 'complex'>\n",
      "1.0\n",
      "2.0\n"
     ]
    }
   ],
   "source": [
    "number = 1 + 2j    # 복소수\n",
    "print(type(number))\n",
    "\n",
    "print(number.real)\n",
    "print(number.imag)"
   ]
  },
  {
   "cell_type": "code",
   "execution_count": 9,
   "id": "4faf8f4c-091e-4c83-8010-8272cb4346e6",
   "metadata": {},
   "outputs": [
    {
     "name": "stdout",
     "output_type": "stream",
     "text": [
      "<class 'list'>\n",
      "None\n"
     ]
    }
   ],
   "source": [
    "numbers = [1, 2, 3]\n",
    "print(type(numbers))"
   ]
  },
  {
   "cell_type": "code",
   "execution_count": 11,
   "id": "66279335-1d5a-423f-b869-f0ffbc713a54",
   "metadata": {},
   "outputs": [
    {
     "name": "stdout",
     "output_type": "stream",
     "text": [
      "[3, 2, 1]\n"
     ]
    }
   ],
   "source": [
    "numbers.reverse()\n",
    "print(numbers)"
   ]
  },
  {
   "cell_type": "code",
   "execution_count": 13,
   "id": "11ac78c3-21fe-43a0-9fa4-550e25d81e0c",
   "metadata": {},
   "outputs": [
    {
     "name": "stdout",
     "output_type": "stream",
     "text": [
      "010-1234-1234에서 010-2345-2345로 전화거는중\n"
     ]
    }
   ],
   "source": [
    "power = False\n",
    "number = '010-1234-1234'\n",
    "book = {\n",
    "    'kim' : '010-2345-2345',\n",
    "    'park' : '010-3456-3456'    \n",
    "}\n",
    "\n",
    "def call(from_number, to_number):\n",
    "    print(f'{from_number}에서 {to_number}로 전화거는중')\n",
    "\n",
    "call(number, book['kim'])\n",
    "    "
   ]
  },
  {
   "cell_type": "markdown",
   "id": "ba9a1bc5-2289-4631-a047-6584e6f7257b",
   "metadata": {},
   "source": [
    "## Class\n",
    "- 클래스 선언\n",
    "```python\n",
    "class ClassName():\n",
    "    attribute1 = value1\n",
    "    attribute2 = value2\n",
    "\n",
    "    def method_name1(self):\n",
    "        code \n",
    "\n",
    "    def method_name2(self):\n",
    "        code\n",
    "```\n",
    "- 인스턴스화(클래스 실행)\n",
    "``` python\n",
    "c = ClassName()\n",
    "```"
   ]
  },
  {
   "cell_type": "code",
   "execution_count": 28,
   "id": "d3c66468-72d5-4963-a313-91e4f994e2d0",
   "metadata": {},
   "outputs": [],
   "source": [
    "# 선언\n",
    "class MyClass():\n",
    "    name = 'kim'\n",
    "\n",
    "    def hello(self):\n",
    "        return 'hello'"
   ]
  },
  {
   "cell_type": "code",
   "execution_count": 29,
   "id": "a3f9d0ca-adea-44d4-96ed-387eb42289a8",
   "metadata": {},
   "outputs": [
    {
     "name": "stdout",
     "output_type": "stream",
     "text": [
      "<__main__.MyClass object at 0x00000253F7A5C260>\n",
      "<class '__main__.MyClass'>\n"
     ]
    }
   ],
   "source": [
    "# 인스턴스화\n",
    "m = MyClass()\n",
    "print(m)\n",
    "print(type(m))"
   ]
  },
  {
   "cell_type": "code",
   "execution_count": 30,
   "id": "e58b02ca-bff9-4445-a30f-f28b6831639a",
   "metadata": {
    "scrolled": true
   },
   "outputs": [
    {
     "name": "stdout",
     "output_type": "stream",
     "text": [
      "kim\n",
      "hello\n"
     ]
    }
   ],
   "source": [
    "print(m.name)\n",
    "print(m.hello())"
   ]
  },
  {
   "cell_type": "code",
   "execution_count": 31,
   "id": "f2b29249-3ace-4460-9fd5-33156b12e1a5",
   "metadata": {},
   "outputs": [
    {
     "name": "stdout",
     "output_type": "stream",
     "text": [
      "<__main__.MyClass object at 0x00000253F7A9A630>\n"
     ]
    }
   ],
   "source": [
    "m2 = MyClass()\n",
    "print(m2)"
   ]
  },
  {
   "cell_type": "code",
   "execution_count": 32,
   "id": "bc138d6b-e351-4f3f-93a2-69b802ed7109",
   "metadata": {},
   "outputs": [
    {
     "name": "stdout",
     "output_type": "stream",
     "text": [
      "kim\n",
      "hello\n"
     ]
    }
   ],
   "source": [
    "print(m2.name)\n",
    "print(m2.hello())"
   ]
  },
  {
   "cell_type": "code",
   "execution_count": 33,
   "id": "0f78c7a4-f441-480e-a2c6-cab31c8f638a",
   "metadata": {},
   "outputs": [
    {
     "name": "stdout",
     "output_type": "stream",
     "text": [
      "park\n",
      "hello\n"
     ]
    }
   ],
   "source": [
    "m2.name = 'park'\n",
    "print(m2.name)\n",
    "print(m2.hello())"
   ]
  },
  {
   "cell_type": "code",
   "execution_count": 53,
   "id": "185a1d82-8017-4cee-966b-3d686479d00f",
   "metadata": {},
   "outputs": [],
   "source": [
    "class Phone():\n",
    "    power = False\n",
    "    number = '010-0000-0000'\n",
    "    book = {}\n",
    "    model = ''\n",
    "\n",
    "    def on(self):\n",
    "        if self.power == False:\n",
    "            self.power = True\n",
    "\n",
    "    def off(self):\n",
    "        if self.power == True:\n",
    "            self.power = False\n",
    "\n",
    "    def call(self,target):\n",
    "        if self.power == True:\n",
    "            print(f'{self.number}에서 {target}로 전화거는중.')\n",
    "        else:\n",
    "            print('핸드폰이 꺼져있습니다.')\n",
    "    "
   ]
  },
  {
   "cell_type": "code",
   "execution_count": 111,
   "id": "93b5fd96-daae-462b-9a9f-9cb45434971c",
   "metadata": {},
   "outputs": [
    {
     "name": "stdout",
     "output_type": "stream",
     "text": [
      "010-1234-1234\n",
      "010-4567-4567\n",
      "True\n",
      "010-1234-1234에서 010-4567-4567로 전화거는중.\n",
      "010-1234-1234에서 112로 전화거는중.\n",
      "010-4567-4567에서 119로 전화거는중.\n"
     ]
    }
   ],
   "source": [
    "# 두 개의 인스턴스 생성\n",
    "my_phone = Phone()\n",
    "your_phone = Phone()\n",
    "\n",
    "my_phone.number = '010-1234-1234'\n",
    "your_phone.number = '010-4567-4567'\n",
    "print(my_phone.number)\n",
    "print(your_phone.number)\n",
    "\n",
    "my_phone.on()\n",
    "print(my_phone.power)\n",
    "my_phone.call(your_phone.number)\n",
    "my_phone.call('112')\n",
    "\n",
    "your_phone.on()\n",
    "your_phone.call('119')\n",
    "\n"
   ]
  },
  {
   "cell_type": "code",
   "execution_count": 112,
   "id": "9436d74f-d969-4c4e-9a17-8c5c08b11e43",
   "metadata": {},
   "outputs": [
    {
     "name": "stdout",
     "output_type": "stream",
     "text": [
      "True\n"
     ]
    }
   ],
   "source": [
    "third_phone = Phone()\n",
    "Phone.on(third_phone)    # on이라는 함수를 실행할 떄 무조건 파라미터가 들어가야 함. \n",
    "print(third_phone.power)"
   ]
  },
  {
   "cell_type": "code",
   "execution_count": 95,
   "id": "00b2f909-0be9-4eba-9f43-02c70ac5b385",
   "metadata": {},
   "outputs": [],
   "source": [
    "# \n",
    "class MyList():\n",
    "    # 속성\n",
    "    data = []\n",
    "\n",
    "    # 행위\n",
    "    def append(self,i):\n",
    "        self.data = self.data + [i]\n",
    "        return self.data\n",
    "\n",
    "    def pop(self):\n",
    "        result = self.data[-1]\n",
    "        self.data = self.data[:-1]\n",
    "        return self.data\n",
    "        "
   ]
  },
  {
   "cell_type": "code",
   "execution_count": 106,
   "id": "1d502439-27bf-47f9-a69f-56bdf6ebddd4",
   "metadata": {},
   "outputs": [
    {
     "name": "stdout",
     "output_type": "stream",
     "text": [
      "[]\n",
      "[5]\n",
      "[5, 10]\n",
      "[5]\n"
     ]
    },
    {
     "data": {
      "text/plain": [
       "['일', '이', '삼']"
      ]
     },
     "execution_count": 106,
     "metadata": {},
     "output_type": "execute_result"
    }
   ],
   "source": [
    "list_a = MyList()\n",
    "print(list_a.data)  # => []\n",
    "\n",
    "print(list_a.append(5)) # => [5]\n",
    "print(list_a.append(10)) # => [5,10]\n",
    "print(list_a.pop()) # => [5]\n",
    "\n",
    "list_b = MyList()\n",
    "list_b.append('일')\n",
    "list_b.append('이')\n",
    "list_b.append('삼')\n",
    "list_b.data"
   ]
  },
  {
   "cell_type": "markdown",
   "id": "b8ea27ab-9180-4942-ad8b-76178b23d78d",
   "metadata": {},
   "source": [
    "## 생성자, 소멸자\n",
    "\n",
    "```python\n",
    "class Person:\n",
    "    name = 'kim'\n",
    "    \n",
    "    def __init__(self):\n",
    "        pass\n",
    "\n",
    "    def __del__(self):\n",
    "        pass\n",
    "```"
   ]
  },
  {
   "cell_type": "code",
   "execution_count": 117,
   "id": "187f86c1-7ecd-42ed-b8ad-5c04852dd247",
   "metadata": {},
   "outputs": [],
   "source": [
    "class Person:\n",
    "    name = 'kim'\n",
    "\n",
    "    # 생성자는 인스턴스를 만들면서 자동으로 실행되는 함수\n",
    "    # self : 새롭게 만들어진 인스턴스 \n",
    "    # 내 스스로를 가르켜야 하기 때문에 인자로 self를 넣는다\n",
    "    def __init__(self, name='익명'):    # 인스턴스화한 것과 동일, name이 없으면 '익명' 데이터 사용\n",
    "        self.name = name\n",
    "        print('생성됨')\n",
    "\n",
    "    def __del__(self):\n",
    "        print('소멸됨')"
   ]
  },
  {
   "cell_type": "code",
   "execution_count": 118,
   "id": "9b72878d-0f94-420c-84ba-f2917fc59797",
   "metadata": {},
   "outputs": [
    {
     "name": "stdout",
     "output_type": "stream",
     "text": [
      "생성됨\n",
      "소멸됨\n",
      "kim\n"
     ]
    }
   ],
   "source": [
    "p1 = Person('kim')\n",
    "print(p1.name)"
   ]
  },
  {
   "cell_type": "code",
   "execution_count": 135,
   "id": "de0d89cb-54f1-4439-91c5-cb120bf1d51e",
   "metadata": {},
   "outputs": [
    {
     "name": "stdout",
     "output_type": "stream",
     "text": [
      "생성됨\n",
      "익명\n"
     ]
    }
   ],
   "source": [
    "p2 = Person()\n",
    "print(p2.name)"
   ]
  },
  {
   "cell_type": "code",
   "execution_count": 136,
   "id": "791c439b-c933-4007-8ce6-b171cbf5aa09",
   "metadata": {},
   "outputs": [
    {
     "name": "stdout",
     "output_type": "stream",
     "text": [
      "소멸됨\n"
     ]
    }
   ],
   "source": [
    "# 파이썬 내부 del 함수 실행된 후 __del__이 자동으로 실행됨.\n",
    "del p2"
   ]
  },
  {
   "cell_type": "code",
   "execution_count": 161,
   "id": "de5dd08d-6f47-4751-8c2a-3a1c7ceda84c",
   "metadata": {},
   "outputs": [],
   "source": [
    "class Circle():\n",
    "    pi = 3.14\n",
    "\n",
    "    def __init__(self, r, x, y):\n",
    "        self.r = r\n",
    "        self.x = x\n",
    "        self.y = y \n",
    "\n",
    "    def area(self):\n",
    "        return self.pi * self.r ** 2\n",
    "\n",
    "    def center(self):\n",
    "        return (self.x,self.y)\n",
    "\n",
    "    def move(self, x, y):\n",
    "        self.x = x\n",
    "        self.y = y\n",
    "        return f'원의 중심이 {self.x},{self.x}로 이동했습니다.'\n",
    "\n",
    "    def round(self):\n",
    "        return 2 * self.pi * self.r"
   ]
  },
  {
   "cell_type": "code",
   "execution_count": 162,
   "id": "e558125b-5cfb-4eff-94f2-5a6b67168d87",
   "metadata": {},
   "outputs": [
    {
     "name": "stdout",
     "output_type": "stream",
     "text": [
      "78.5\n",
      "314.0\n",
      "(2, 3)\n",
      "(3, 3)\n",
      "원의 중심이 2,2로 이동했습니다.\n",
      "원의 중심이 3,3로 이동했습니다.\n",
      "31.400000000000002\n"
     ]
    }
   ],
   "source": [
    "c1 = Circle(5, 2, 3)\n",
    "c2 = Circle(10, 3, 3)\n",
    "print(c1.area())\n",
    "print(c2.area())\n",
    "print(c1.center())\n",
    "print(c2.center())\n",
    "print(c1.move(2,3))\n",
    "print(c2.move(3,5))\n",
    "print(c1.round())"
   ]
  },
  {
   "cell_type": "code",
   "execution_count": 164,
   "id": "c1f8e500-e46b-40b9-bc2c-745603fa28b1",
   "metadata": {},
   "outputs": [],
   "source": [
    "class Point():\n",
    "    def __init__(self, x, y):\n",
    "        self.x = x\n",
    "        self.y = y\n",
    "\n",
    "    def info(self):\n",
    "        return (self.x,self.y)"
   ]
  },
  {
   "cell_type": "code",
   "execution_count": 171,
   "id": "32c56441-4e7b-4a10-afb6-57db238d4d89",
   "metadata": {},
   "outputs": [],
   "source": [
    "class Circle():\n",
    "    def __init__(self, point, r):\n",
    "        self.point = point\n",
    "        self.r = r\n",
    "\n",
    "    def info(self):\n",
    "        return (self.point.x, self.point.y, self.r)\n",
    "\n",
    "    def move(self, x, y):\n",
    "        self.point.x = x\n",
    "        self.point.y = y\n",
    "        "
   ]
  },
  {
   "cell_type": "code",
   "execution_count": 172,
   "id": "a3aa2b5d-ebc8-480e-bd64-a572200a5127",
   "metadata": {},
   "outputs": [
    {
     "name": "stdout",
     "output_type": "stream",
     "text": [
      "(1, 2)\n",
      "(1, 2, 5)\n"
     ]
    }
   ],
   "source": [
    "p1 = Point(1, 2)\n",
    "print(p1.info())\n",
    "c1 = Circle(p1, 5)\n",
    "print(c1.info())"
   ]
  },
  {
   "cell_type": "code",
   "execution_count": 174,
   "id": "6a7ed761-cc04-41b3-9820-2d087b268620",
   "metadata": {},
   "outputs": [
    {
     "name": "stdout",
     "output_type": "stream",
     "text": [
      "(5, 5, 5)\n"
     ]
    }
   ],
   "source": [
    "c1.move(5,5)\n",
    "print(c1.info())"
   ]
  },
  {
   "cell_type": "markdown",
   "id": "76b8eb72-8f13-42e7-8aca-8bd674f3e114",
   "metadata": {},
   "source": [
    "### 클래스 변수\n",
    "- 클래스 선언 블록 최상단에 위치\n",
    "\n",
    "### 인스턴스 변수\n",
    "- 인스턴스 내부에서 생성한 변수 (self.variable = )\n",
    "\n",
    "```python\n",
    "class MyClass():\n",
    "    class_variable = '클래스 변수'\n",
    "\n",
    "    def __init__(self):\n",
    "        selfinstance_bariable = '인스턴스 변수'\n",
    "```"
   ]
  },
  {
   "cell_type": "code",
   "execution_count": 180,
   "id": "08c5fbf8-f6d6-415a-a340-2f29bbb4047c",
   "metadata": {},
   "outputs": [],
   "source": [
    "class Person():\n",
    "    name = '홍길동'\n",
    "    phone = '010-1234-1234'\n",
    "    def __init__(self, name):\n",
    "        self.name = name"
   ]
  },
  {
   "cell_type": "code",
   "execution_count": 181,
   "id": "5b158afb-2a51-4c10-8bd6-bf052b3893f7",
   "metadata": {},
   "outputs": [
    {
     "ename": "AttributeError",
     "evalue": "'Point' object has no attribute 'Person'",
     "output_type": "error",
     "traceback": [
      "\u001b[1;31m--------------------------------------------------------------------\u001b[0m",
      "\u001b[1;31mAttributeError\u001b[0m                     Traceback (most recent call last)",
      "Cell \u001b[1;32mIn[181], line 1\u001b[0m\n\u001b[1;32m----> 1\u001b[0m \u001b[43mp1\u001b[49m\u001b[38;5;241;43m.\u001b[39;49m\u001b[43mPerson\u001b[49m(\u001b[38;5;124m'\u001b[39m\u001b[38;5;124m오창희\u001b[39m\u001b[38;5;124m'\u001b[39m)\n\u001b[0;32m      2\u001b[0m \u001b[38;5;28mprint\u001b[39m(p1\u001b[38;5;241m.\u001b[39mphone)\n",
      "\u001b[1;31mAttributeError\u001b[0m: 'Point' object has no attribute 'Person'"
     ]
    }
   ],
   "source": [
    "p1.Person('오창희')\n",
    "print(p1.phone)"
   ]
  },
  {
   "cell_type": "markdown",
   "id": "d85d80a5-491f-4e32-b355-7bb331b0c9cd",
   "metadata": {},
   "source": [
    "### 클래스 메소드, 인스턴스 메소드, 스택틱 메소드\n",
    "\n",
    "```python\n",
    "class Myclass():\n",
    "    def instance_method(self):\n",
    "        pass\n",
    "\n",
    "    @classmethod    # 클래스 메소드를 실행하기 전에 위에 있는 메소드부터 실행해줘. \n",
    "    def class_method(cls):\n",
    "        pass\n",
    "\n",
    "    @staticmethod\n",
    "    def static_method():\n",
    "        pass\n",
    "```"
   ]
  },
  {
   "cell_type": "code",
   "execution_count": 189,
   "id": "206bc4de-d3b2-4180-83de-173ab44c7766",
   "metadata": {},
   "outputs": [],
   "source": [
    "class MyClass():\n",
    "    def instance_method(self):\n",
    "        return self\n",
    "    @classmethod\n",
    "    def class_method(cls):\n",
    "        return cls\n",
    "\n",
    "    @staticmethod\n",
    "    def static_method():\n",
    "        return \"hello\""
   ]
  },
  {
   "cell_type": "code",
   "execution_count": 190,
   "id": "8260a55b-5bc1-478d-ad88-8bc451e31943",
   "metadata": {},
   "outputs": [
    {
     "name": "stdout",
     "output_type": "stream",
     "text": [
      "<__main__.MyClass object at 0x00000253F7C6F0B0>\n",
      "<bound method MyClass.class_method of <class '__main__.MyClass'>>\n"
     ]
    }
   ],
   "source": [
    "c1 = MyClass()\n",
    "print(c1.instance_method())\n",
    "print(MyClass.class_method)"
   ]
  },
  {
   "cell_type": "code",
   "execution_count": 198,
   "id": "15c4945d-6a6e-4081-b896-00c20b733467",
   "metadata": {},
   "outputs": [],
   "source": [
    "class Puppy():\n",
    "    num_of_puppy = 0    # 클래스 변수\n",
    "\n",
    "    def __init__(self,name):\n",
    "        self.name = name\n",
    "        Puppy.num_of_puppy += 1\n",
    "\n",
    "    @classmethod\n",
    "    def get_status(cls):\n",
    "        print(f'현재 강아지는 {cls.num_of_puppy}마리입니다.')\n",
    "\n",
    "    @staticmethod\n",
    "    def bark():    # 인스턴스, 클래스 변수가 따로 필요업식 때문에 따로 선언, 어떤 강아지든 '멍멍' 소리를 내는 것은 똑같음.\n",
    "        print('멍멍멍')\n",
    "\n",
    "    def bark2(self):\n",
    "        print(f'내 이름은 {self.name}이야. 멍멍')"
   ]
  },
  {
   "cell_type": "code",
   "execution_count": 199,
   "id": "08f2f667-b2fb-406f-b71f-a79b894d3fa0",
   "metadata": {},
   "outputs": [
    {
     "name": "stdout",
     "output_type": "stream",
     "text": [
      "현재 강아지는 3마리입니다.\n",
      "멍멍멍\n",
      "내 이름은 인절미이야. 멍멍\n"
     ]
    }
   ],
   "source": [
    "p1 = Puppy('초코')\n",
    "p2 = Puppy('인절미')\n",
    "p3 = Puppy('별이')\n",
    "\n",
    "Puppy.get_status()\n",
    "\n",
    "p1.bark()\n",
    "p2.bark2()"
   ]
  },
  {
   "cell_type": "markdown",
   "id": "93e9f682-51e2-4eda-868f-1d0ed5d004b4",
   "metadata": {},
   "source": [
    "# 상속"
   ]
  },
  {
   "cell_type": "code",
   "execution_count": 202,
   "id": "84d49ef7-a909-4769-8161-5a9ed045599b",
   "metadata": {},
   "outputs": [],
   "source": [
    "class Person():\n",
    "    ident = '111111-111111'\n",
    "\n",
    "    def __init__(self, name):\n",
    "        self.name = name\n",
    "\n",
    "    def greeting(self):\n",
    "        print(f'안녕하세요 {self.name}입니다.')"
   ]
  },
  {
   "cell_type": "code",
   "execution_count": 205,
   "id": "0f4b3846-4fb3-4fb5-95bf-deb5a8619129",
   "metadata": {},
   "outputs": [
    {
     "name": "stdout",
     "output_type": "stream",
     "text": [
      "안녕하세요 홍길동입니다.\n",
      "안녕하세요 이순신입니다.\n"
     ]
    }
   ],
   "source": [
    "p1 = Person('홍길동')\n",
    "p2 = Person('이순신')\n",
    "\n",
    "p1.greeting()\n",
    "p2.greeting()"
   ]
  },
  {
   "cell_type": "code",
   "execution_count": 207,
   "id": "0d85f780-ba30-4138-ac65-33a927e1da1a",
   "metadata": {},
   "outputs": [],
   "source": [
    "class Soldier(Person):\n",
    "    # ident = '111111-1111111'\n",
    "\n",
    "    # def __init__(self, name):\n",
    "    #     self.name = name\n",
    "\n",
    "    def greeting(self):    # 오버라이팅, 이름이 똑같으면 가장 가까운 변수부터 접근\n",
    "        print(f'충성! {self.name}입니다.')\n",
    "        "
   ]
  },
  {
   "cell_type": "code",
   "execution_count": 209,
   "id": "c05f92bd-bc21-497d-a48e-4dc4d816fddf",
   "metadata": {},
   "outputs": [
    {
     "name": "stdout",
     "output_type": "stream",
     "text": [
      "충성! 국방이입니다.\n",
      "111111-111111\n"
     ]
    }
   ],
   "source": [
    "s1 = Soldier('국방이')\n",
    "s1.greeting()    # 상속받음\n",
    "print(s1.ident)  # 상속받음"
   ]
  },
  {
   "cell_type": "code",
   "execution_count": 210,
   "id": "9f121cad-6cf5-414a-ad55-a67503eddf86",
   "metadata": {},
   "outputs": [],
   "source": [
    "class Student(Person):\n",
    "    #ident = '111111-111111'\n",
    "\n",
    "    #def __init__(self, name):\n",
    "    #    self.name = name\n",
    "\n",
    "    #def greeting(self):\n",
    "    #    print(f'안녕하세요 {self.name}입니다.')\n",
    "\n",
    "    student_id = '123456'\n",
    "\n",
    "    def __init__(self, student_id):\n",
    "        self.student_id = student_id"
   ]
  },
  {
   "cell_type": "code",
   "execution_count": 212,
   "id": "60b108e7-1b20-4d5a-9d37-1254aaee9123",
   "metadata": {},
   "outputs": [
    {
     "ename": "AttributeError",
     "evalue": "'Student' object has no attribute 'name'",
     "output_type": "error",
     "traceback": [
      "\u001b[1;31m--------------------------------------------------------------------\u001b[0m",
      "\u001b[1;31mAttributeError\u001b[0m                     Traceback (most recent call last)",
      "Cell \u001b[1;32mIn[212], line 2\u001b[0m\n\u001b[0;32m      1\u001b[0m s1 \u001b[38;5;241m=\u001b[39m Student(\u001b[38;5;124m'\u001b[39m\u001b[38;5;124m2019110717\u001b[39m\u001b[38;5;124m'\u001b[39m)\n\u001b[1;32m----> 2\u001b[0m \u001b[43ms1\u001b[49m\u001b[38;5;241;43m.\u001b[39;49m\u001b[43mgreeting\u001b[49m\u001b[43m(\u001b[49m\u001b[43m)\u001b[49m\n",
      "Cell \u001b[1;32mIn[202], line 8\u001b[0m, in \u001b[0;36mPerson.greeting\u001b[1;34m(self)\u001b[0m\n\u001b[0;32m      7\u001b[0m \u001b[38;5;28;01mdef\u001b[39;00m \u001b[38;5;21mgreeting\u001b[39m(\u001b[38;5;28mself\u001b[39m):\n\u001b[1;32m----> 8\u001b[0m     \u001b[38;5;28mprint\u001b[39m(\u001b[38;5;124mf\u001b[39m\u001b[38;5;124m'\u001b[39m\u001b[38;5;124m안녕하세요 \u001b[39m\u001b[38;5;132;01m{\u001b[39;00m\u001b[38;5;28;43mself\u001b[39;49m\u001b[38;5;241;43m.\u001b[39;49m\u001b[43mname\u001b[49m\u001b[38;5;132;01m}\u001b[39;00m\u001b[38;5;124m입니다.\u001b[39m\u001b[38;5;124m'\u001b[39m)\n",
      "\u001b[1;31mAttributeError\u001b[0m: 'Student' object has no attribute 'name'"
     ]
    }
   ],
   "source": [
    "s1 = Student('2019110717')\n",
    "s1.greeting()"
   ]
  },
  {
   "cell_type": "code",
   "execution_count": 217,
   "id": "f732a339-68fa-4e5c-85c4-5f3598b7345b",
   "metadata": {},
   "outputs": [],
   "source": [
    "class Person():\n",
    "    def __init__(self, name, email, phone, location):\n",
    "        self.name = name\n",
    "        self.email = email\n",
    "        self.phone = phone\n",
    "        self.location = location\n",
    "\n",
    "class Student(Person):\n",
    "    def __init__(self, name, email, phone, location, student_id):\n",
    "        super().__init__(name, email, phone, location)\n",
    "        self.student_id = student_id\n",
    "        "
   ]
  },
  {
   "cell_type": "code",
   "execution_count": 219,
   "id": "304ca727-e763-4c6d-b5ad-034e47e3fb94",
   "metadata": {},
   "outputs": [],
   "source": [
    "p1 = Person('hong', 'test@gmail.com', '010-1234-1234', 'seoul')\n",
    "s1 = Student('kim', 'kim2gmail.com', '010-2345-2345','seoul', '2019110717')"
   ]
  },
  {
   "cell_type": "markdown",
   "id": "1cb2a10a-d381-4f92-9958-1770357f51e2",
   "metadata": {},
   "source": [
    "## 다중상속"
   ]
  },
  {
   "cell_type": "code",
   "execution_count": 221,
   "id": "f9d788d9-3f79-4b9f-96e2-a876c0cac495",
   "metadata": {},
   "outputs": [],
   "source": [
    "class Person():\n",
    "    def __init__(self, name):\n",
    "        self.name = name\n",
    "\n",
    "    def breath(self):\n",
    "        print('후하')"
   ]
  },
  {
   "cell_type": "code",
   "execution_count": 226,
   "id": "df1edfaa-5ed2-4288-9930-a3412b89d7b7",
   "metadata": {},
   "outputs": [],
   "source": [
    "class Mom(Person):\n",
    "    gene = 'xx' \n",
    "\n",
    "    def swim(self):\n",
    "        print('어푸어푸')"
   ]
  },
  {
   "cell_type": "code",
   "execution_count": 227,
   "id": "1d4d85cc-de16-4e8a-a144-d2c99e9864e7",
   "metadata": {},
   "outputs": [],
   "source": [
    "class Dad(Person):\n",
    "    gene = 'yy'\n",
    "\n",
    "    def run(self):\n",
    "        print('다다다')"
   ]
  },
  {
   "cell_type": "code",
   "execution_count": 229,
   "id": "23bbe686-4483-482d-875a-bb756736c7af",
   "metadata": {},
   "outputs": [],
   "source": [
    "class Baby(Mom, Dad):\n",
    "    pass"
   ]
  },
  {
   "cell_type": "code",
   "execution_count": 231,
   "id": "c5aafec3-8316-4684-a7d9-5d78da720be6",
   "metadata": {},
   "outputs": [
    {
     "name": "stdout",
     "output_type": "stream",
     "text": [
      "금쪽이\n",
      "다다다\n",
      "후하\n",
      "어푸어푸\n",
      "xx\n"
     ]
    }
   ],
   "source": [
    "b = Baby('금쪽이')    # Mom 과 Dad 모두 init이 없으니 Person의 생성자가 실행\n",
    "print(b.name)\n",
    "b.run()\n",
    "b.breath()\n",
    "b.swim()\n",
    "print(b.gene)    # 만약 Dad를 먼저 적었더라면 Dad의 gene 정보를 반환"
   ]
  },
  {
   "cell_type": "code",
   "execution_count": 232,
   "id": "b5fe3f89-368e-4335-9660-715cb9326dc8",
   "metadata": {},
   "outputs": [
    {
     "name": "stdout",
     "output_type": "stream",
     "text": [
      "꼬부기은 파이리에게 15.0의 공격을 했다.\n",
      "파이리은 꼬부기에게 20의 공격을 했다.\n",
      "꼬부기: 30\n",
      "파이리: 35.0\n",
      "꼬부기은 파이리에게 15.0의 공격을 했다.\n",
      "파이리은 꼬부기에게 20의 공격을 했다.\n",
      "꼬부기: 10\n",
      "파이리: 20.0\n",
      "꼬부기은 파이리에게 15.0의 공격을 했다.\n",
      "파이리은 꼬부기에게 20의 공격을 했다.\n",
      "꼬부기 승리\n"
     ]
    }
   ],
   "source": [
    "class Pocketmon():\n",
    "    def __init__(self, name):\n",
    "        self.name = name\n",
    "        self.level = 10\n",
    "        self.hp = self.level * 5\n",
    "        self.exp = 0\n",
    "\n",
    "    def attack(self, opponent):\n",
    "        damege = self.level\n",
    "        opponent.hp -= damege\n",
    "        if opponent.check_hp():\n",
    "            self.exp += 5\n",
    "\n",
    "    def check_hp(self):\n",
    "        return True if self.hp <= 0 else False\n",
    "\n",
    "    \n",
    "class WaterType():\n",
    "    type_name = 'water'\n",
    "\n",
    "class FireType():\n",
    "    type_name = 'fire'\n",
    "\n",
    "class WaterPocketmon(Pocketmon, WaterType):\n",
    "    def water_attack(self, opponent):\n",
    "        if opponent.type_name == 'fire':\n",
    "            damege = self.level * 1.5\n",
    "        else:\n",
    "            damege = self.level * 1.2\n",
    "        opponent.hp -= damege\n",
    "        print(f'{self.name}은 {opponent.name}에게 {damege}의 공격을 했다.')\n",
    "\n",
    "class FirePocketmon(Pocketmon, FireType):\n",
    "    def fire_attack(self, opponent):\n",
    "        damege = self.level * 2\n",
    "        opponent.hp -= damege\n",
    "        print(f'{self.name}은 {opponent.name}에게 {damege}의 공격을 했다.')\n",
    "\n",
    "\n",
    "koboki = WaterPocketmon('꼬부기')\n",
    "pairi = FirePocketmon('파이리')\n",
    "\n",
    "\n",
    "import random \n",
    "\n",
    "while not koboki.check_hp() or not pairi.check_hp():\n",
    "    random_attack = random.randint(0, 1)\n",
    "    \n",
    "    koboki.water_attack(pairi)\n",
    "    \n",
    "    if pairi.check_hp():\n",
    "        print(f'{pairi.name} 승리')\n",
    "        break\n",
    "\n",
    "    random_attack = random.randint(0, 1)\n",
    "    pairi.fire_attack(koboki)\n",
    "    \n",
    "    if koboki.check_hp():\n",
    "        print(f'{koboki.name} 승리')\n",
    "        break\n",
    "\n",
    "    \n",
    "    print(f'{koboki.name}: {koboki.hp}')\n",
    "    print(f'{pairi.name}: {pairi.hp}')"
   ]
  }
 ],
 "metadata": {
  "kernelspec": {
   "display_name": "Python 3 (ipykernel)",
   "language": "python",
   "name": "python3"
  },
  "language_info": {
   "codemirror_mode": {
    "name": "ipython",
    "version": 3
   },
   "file_extension": ".py",
   "mimetype": "text/x-python",
   "name": "python",
   "nbconvert_exporter": "python",
   "pygments_lexer": "ipython3",
   "version": "3.12.4"
  }
 },
 "nbformat": 4,
 "nbformat_minor": 5
}
